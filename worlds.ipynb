{
 "cells": [
  {
   "cell_type": "code",
   "execution_count": 1,
   "metadata": {},
   "outputs": [
    {
     "name": "stderr",
     "output_type": "stream",
     "text": [
      "/home/rcohngordon/dist-rsa/lib/python3.5/site-packages/h5py/__init__.py:36: FutureWarning: Conversion of the second argument of issubdtype from `float` to `np.floating` is deprecated. In future, it will be treated as `np.float64 == np.dtype(float).type`.\n",
      "  from ._conv import register_converters as _register_converters\n"
     ]
    }
   ],
   "source": [
    "from __future__ import division\n",
    "from collections import defaultdict\n",
    "import scipy\n",
    "import numpy as np\n",
    "import pickle\n",
    "import itertools\n",
    "from dist_rsa.dbm import *\n",
    "from dist_rsa.utils.load_data import *\n",
    "from dist_rsa.utils.helperfunctions import *\n",
    "from dist_rsa.utils.config import abstract_threshold,concrete_threshold\n",
    "%matplotlib inline\n",
    "import seaborn as sns\n",
    "import matplotlib.pyplot as plt\n",
    "import matplotlib\n",
    "import tensorflow as tf"
   ]
  },
  {
   "cell_type": "code",
   "execution_count": 9,
   "metadata": {},
   "outputs": [],
   "source": [
    "def visualize(params,line,res,c,q=None):\n",
    "\n",
    "    cond_probs = np.zeros((len(params.quds), res.size*2))\n",
    "    for qud_index in range(len(params.quds)):\n",
    "        subspace_mean,subspace_prior_mean,subspace_variance = params.subspace_means[line][qud_index],params.subspace_prior_means[line][qud_index],params.subspace_variances[line][qud_index]\n",
    "#         print(\"prior meannn\",subspace_prior_mean)\n",
    "        vals=scipy.stats.multivariate_normal.pdf((np.arange(-res.size,res.size)*res.amount),mean=subspace_mean,cov=subspace_variance)\n",
    "        vals/=np.sum(vals)\n",
    "        cond_probs[qud_index]=vals\n",
    "        \n",
    "#         print(scipy.stats.multivariate_normal.pdf([1,2,3],mean=subspace_mean,cov=subspace_variance))\n",
    "#         print(vals.shape)\n",
    "#         print(subspace_mean)\n",
    "#         print(\"CHECK\",np.sum((np.arange(-size,size)*scale+subspace_prior_mean)*vals))\n",
    "\n",
    "#     print(params.subspace_means.shape)\n",
    "#     print(params.subspace_means)\n",
    "#     print(\"SUBSPACE MEANS\",params.subspace_means)\n",
    "    marginal_mean = np.sum(params.subspace_means[line]*params.qud_marginals)\n",
    "    print(\"marginal mean\",marginal_mean)\n",
    "    print(\"prior mean\",subspace_prior_mean)\n",
    "    marginal = np.sum(cond_probs*np.expand_dims(params.qud_marginals,1),axis=0)\n",
    "    \n",
    "    if q is not None:\n",
    "        print(\"cond mean\",params.subspace_means[line][qud_index])\n",
    "        print(\"cond variance\",params.subspace_variances[line][qud_index])\n",
    "        cond = cond_probs[q]\n",
    "        hm = matplotlib.pyplot.scatter(c=c,x=(np.arange(-res.size,res.size)*res.amount),y=cond)\n",
    "    \n",
    "    \n",
    "#     print(\"CHECK\",np.sum(marginal*(np.arange(-res.size,res.size)*res.amount)))\n",
    "    else: hm = matplotlib.pyplot.scatter(c=c,x=(np.arange(-res.size,res.size)*res.amount),y=marginal)\n",
    "#     print(\"PRIOR MEAN\",params.subspace_prior_means[line][0])\n",
    "    prior_vals = scipy.stats.multivariate_normal.pdf(np.arange(-res.size,res.size)*res.amount,mean=params.subspace_prior_means[line][0],cov=params.l1_sig1)\n",
    "    prior_vals/=np.sum(prior_vals)\n",
    "    prior_hm = matplotlib.pyplot.scatter(c='yellow',x=np.arange(-res.size,res.size)*res.amount,y=prior_vals)\n",
    "    \n",
    "#     hm_2 = matplotlib.pyplot.scatter(x=(np.arange(-size,size)*scale)+params.subspace_prior_means[line][0],y=marginal)\n",
    "#     return marginal,marginal_mean,params.subspace_prior_means[line][0]\n",
    "#     return marginal_means[line]*np.exp(params.qud_marginals)"
   ]
  },
  {
   "cell_type": "code",
   "execution_count": 4,
   "metadata": {
    "scrolled": true
   },
   "outputs": [
    {
     "name": "stdout",
     "output_type": "stream",
     "text": [
      "\n",
      "loading vecs (load vecs): glove.6B.mean_vecs300\n",
      "abstract_threshold 2.5\n",
      "concrete_threshold 3.0\n",
      "QUDS ['able', 'academic', 'accredited', 'actual', 'addictive', 'additional', 'advanced', 'adverse', 'alleged', 'amateur', 'annual', 'anti', 'apparent', 'appropriate', 'artistic', 'attempted', 'available', 'aware', 'bad', 'best', 'certain', 'cheap', 'chronic', 'classic', 'classical', 'common', 'competitive', 'complex', 'complicated', 'concerned', 'consecutive', 'contending', 'continental', 'controversial', 'corporate', 'corrupt', 'critical', 'cultural', 'dangerous', 'defunct', 'designated', 'different', 'difficult', 'disappointed', 'disappointing', 'disciplinary', 'easier', 'easy', 'educational', 'effective', 'eligible', 'encouraging', 'entire', 'excellent', 'excited', 'existing', 'experimental', 'extended', 'extensive', 'extracurricular', 'extraordinary', 'fair', 'fake', 'fantastic', 'federal', 'free', 'frequent', 'good', 'governing', 'grand', 'great', 'greater', 'guilty', 'illegal', 'illicit', 'immune', 'important', 'impressive', 'inaugural', 'independent', 'infamous', 'intense', 'interested', 'interscholastic', 'intramural', 'keen', 'latest', 'legal', 'legendary', 'likely', 'limited', 'longtime', 'lucrative', 'main', 'major', 'martial', 'mental', 'modern', 'municipal', 'national', 'necessary', 'negative', 'notable', 'notorious', 'ongoing', 'other', 'outstanding', 'overall', 'particular', 'pending', 'perfect', 'personal', 'pleased', 'political', 'popular', 'positive', 'possible', 'potent', 'potential', 'powerful', 'preliminary', 'prestigious', 'preventive', 'prior', 'professional', 'promising', 'proud', 'rampant', 'ready', 'regular', 'regulatory', 'reigning', 'renowned', 'reputed', 'respective', 'responsible', 'satisfied', 'secondary', 'serious', 'severe', 'significant', 'similar', 'social', 'sophisticated', 'special', 'specific', 'storied', 'subsequent', 'successful', 'super', 'supposed', 'sure', 'surprising', 'talented', 'technical', 'therapeutic', 'true', 'typical', 'unable', 'unaware', 'unbeaten', 'unclear', 'undefeated', 'undercover', 'unlikely', 'unrelated', 'upcoming', 'urgent', 'various', 'vice', 'victorious', 'widespread', 'willing', 'worried', 'worse', 'wrong']\n",
      "UTTERANCES:\n",
      " ['time', 'people', 'man', 'part', 'day', 'men', 'world', 'number', 'case', 'place', 'state', 'year', 'form', 'water', 'point', 'present', 'children', 'end', 'example', 'hand', 'country', 'second', 'family', 'group', 'body', 'side', 'name', 'period', 'days', 'person', 'line', 'war', 'data', 'school', 'study', 'head', 'question', 'house', 'light', 'view', 'business', 'subject', 'land', 'book', 'area', 'death', 'matter', 'child', 'individual', 'self', 'face', 'type', 'class', 'money', 'thing', 'room', 'eyes', 'night', 'city', 'word', 'father', 'mother', 'air', 'field', 'woman', 'account', 'party', 'heart', 'evidence', 'material', 'company', 'research', 'section', 'surface', 'structure', 'model', 'community', 'blood', 'property', 'ground', 'market', 'population', 'court', 'energy', 'food', 'trade', 'size', 'story', 'program', 'cent', 'movement', 'pressure', 'letter', 'son', 'paper', 'art', 'space', 'wife', 'rest', 'office', 'church', 'object', 'test', 'town', 'range', 'hundred', 'capital', 'plan', 'table', 'building', 'price', 'chapter', 'length', 'door', 'income', 'morning', 'disease', 'report', 'stage', 'voice', 'fire', 'top', 'species', 'industry', 'friend', 'design', 'earth', 'temperature', 'note', 'sea', 'performance', 'region', 'miles', 'distance', 'member', 'tax', 'middle', 'training', 'job', 'product', 'operation', 'king', 'cell', 'text', 'meeting', 'volume', 'deal', 'application', 'distribution', 'discussion', 'author', 'date', 'hour', 'labor', 'music', 'weight', 'page', 'nation', 'army', 'supply', 'list', 'base', 'scale', 'road', 'flow', 'acid', 'week', 'oil', 'thousand', 'image', 'eye', 'project', 'arms', 'literature', 'goods', 'river', 'picture', 'heat', 'environment', 'chief', 'wall', 'unit', 'record', 'bed', 'husband', 'plant', 'pain', 'north', 'site', 'student', 'girl', 'key', 'boy', 'lot', 'stock', 'speech', 'brother', 'pattern', 'construction', 'capacity']\n",
      "RESOLUTION. SIZE: 100 AMOUNT: 0.1\n"
     ]
    },
    {
     "name": "stderr",
     "output_type": "stream",
     "text": [
      "\n",
      "  0%|          | 0/176 [00:00<?, ?it/s]\u001b[A"
     ]
    },
    {
     "name": "stdout",
     "output_type": "stream",
     "text": [
      "subject: ['athletics']\n",
      "predicate drug\n",
      "SIGs 1&2: 20.0 0.1\n",
      "L1 SIG 20.0\n",
      "number of qud dimensions: 1\n",
      "rationality: 1.0\n",
      "Running discrete_mixture RSA with 201 possible utterances and 176\n",
      "RUNNING DISCRETE MIXTURE MODEL\n",
      "qud_combinations 176 [['able'], ['academic'], ['accredited'], ['actual'], ['addictive'], ['additional'], ['advanced'], ['adverse'], ['alleged'], ['amateur'], ['annual'], ['anti'], ['apparent'], ['appropriate'], ['artistic'], ['attempted'], ['available'], ['aware'], ['bad'], ['best'], ['certain'], ['cheap'], ['chronic'], ['classic'], ['classical'], ['common'], ['competitive'], ['complex'], ['complicated'], ['concerned'], ['consecutive'], ['contending'], ['continental'], ['controversial'], ['corporate'], ['corrupt'], ['critical'], ['cultural'], ['dangerous'], ['defunct'], ['designated'], ['different'], ['difficult'], ['disappointed'], ['disappointing'], ['disciplinary'], ['easier'], ['easy'], ['educational'], ['effective'], ['eligible'], ['encouraging'], ['entire'], ['excellent'], ['excited'], ['existing'], ['experimental'], ['extended'], ['extensive'], ['extracurricular'], ['extraordinary'], ['fair'], ['fake'], ['fantastic'], ['federal'], ['free'], ['frequent'], ['good'], ['governing'], ['grand'], ['great'], ['greater'], ['guilty'], ['illegal'], ['illicit'], ['immune'], ['important'], ['impressive'], ['inaugural'], ['independent'], ['infamous'], ['intense'], ['interested'], ['interscholastic'], ['intramural'], ['keen'], ['latest'], ['legal'], ['legendary'], ['likely'], ['limited'], ['longtime'], ['lucrative'], ['main'], ['major'], ['martial'], ['mental'], ['modern'], ['municipal'], ['national'], ['necessary'], ['negative'], ['notable'], ['notorious'], ['ongoing'], ['other'], ['outstanding'], ['overall'], ['particular'], ['pending'], ['perfect'], ['personal'], ['pleased'], ['political'], ['popular'], ['positive'], ['possible'], ['potent'], ['potential'], ['powerful'], ['preliminary'], ['prestigious'], ['preventive'], ['prior'], ['professional'], ['promising'], ['proud'], ['rampant'], ['ready'], ['regular'], ['regulatory'], ['reigning'], ['renowned'], ['reputed'], ['respective'], ['responsible'], ['satisfied'], ['secondary'], ['serious'], ['severe'], ['significant'], ['similar'], ['social'], ['sophisticated'], ['special'], ['specific'], ['storied'], ['subsequent'], ['successful'], ['super'], ['supposed'], ['sure'], ['surprising'], ['talented'], ['technical'], ['therapeutic'], ['true'], ['typical'], ['unable'], ['unaware'], ['unbeaten'], ['unclear'], ['undefeated'], ['undercover'], ['unlikely'], ['unrelated'], ['upcoming'], ['urgent'], ['various'], ['vice'], ['victorious'], ['widespread'], ['willing'], ['worried'], ['worse'], ['wrong']]\n",
      "quds 176\n",
      "SIZE,AMOUNT 100 0.1\n",
      "CURRENT QUD: ['able']\n"
     ]
    },
    {
     "name": "stderr",
     "output_type": "stream",
     "text": [
      "\n",
      "Exception in thread Thread-4:\n",
      "Traceback (most recent call last):\n",
      "  File \"/usr/lib/python3.5/threading.py\", line 914, in _bootstrap_inner\n",
      "    self.run()\n",
      "  File \"/home/rcohngordon/dist-rsa/lib/python3.5/site-packages/tqdm/_tqdm.py\", line 144, in run\n",
      "    for instance in self.tqdm_cls._instances:\n",
      "  File \"/home/rcohngordon/dist-rsa/lib/python3.5/_weakrefset.py\", line 60, in __iter__\n",
      "    for itemref in self.data:\n",
      "RuntimeError: Set changed size during iteration\n",
      "\n",
      "  1%|          | 1/176 [00:10<31:40, 10.86s/it]"
     ]
    },
    {
     "name": "stdout",
     "output_type": "stream",
     "text": [
      "CURRENT QUD: ['academic']\n"
     ]
    },
    {
     "name": "stderr",
     "output_type": "stream",
     "text": [
      "\r",
      "  1%|          | 2/176 [00:20<29:25, 10.15s/it]"
     ]
    },
    {
     "name": "stdout",
     "output_type": "stream",
     "text": [
      "CURRENT QUD: ['accredited']\n"
     ]
    },
    {
     "name": "stderr",
     "output_type": "stream",
     "text": [
      "\r",
      "  2%|▏         | 3/176 [00:29<28:47,  9.98s/it]"
     ]
    },
    {
     "name": "stdout",
     "output_type": "stream",
     "text": [
      "CURRENT QUD: ['actual']\n"
     ]
    },
    {
     "name": "stderr",
     "output_type": "stream",
     "text": [
      "\r",
      "  2%|▏         | 4/176 [00:39<28:18,  9.88s/it]"
     ]
    },
    {
     "name": "stdout",
     "output_type": "stream",
     "text": [
      "CURRENT QUD: ['addictive']\n"
     ]
    },
    {
     "name": "stderr",
     "output_type": "stream",
     "text": [
      "\r",
      "  3%|▎         | 5/176 [00:52<29:51, 10.48s/it]"
     ]
    },
    {
     "name": "stdout",
     "output_type": "stream",
     "text": [
      "CURRENT QUD: ['additional']\n"
     ]
    },
    {
     "name": "stderr",
     "output_type": "stream",
     "text": [
      "\r",
      "  3%|▎         | 6/176 [01:02<29:17, 10.34s/it]"
     ]
    },
    {
     "name": "stdout",
     "output_type": "stream",
     "text": [
      "CURRENT QUD: ['advanced']\n"
     ]
    },
    {
     "name": "stderr",
     "output_type": "stream",
     "text": [
      "\r",
      "  4%|▍         | 7/176 [01:11<28:52, 10.25s/it]"
     ]
    },
    {
     "name": "stdout",
     "output_type": "stream",
     "text": [
      "CURRENT QUD: ['adverse']\n"
     ]
    },
    {
     "name": "stderr",
     "output_type": "stream",
     "text": [
      "\r",
      "  5%|▍         | 8/176 [01:21<28:33, 10.20s/it]"
     ]
    },
    {
     "name": "stdout",
     "output_type": "stream",
     "text": [
      "CURRENT QUD: ['alleged']\n"
     ]
    },
    {
     "name": "stderr",
     "output_type": "stream",
     "text": [
      "\r",
      "  5%|▌         | 9/176 [01:33<29:02, 10.44s/it]"
     ]
    },
    {
     "name": "stdout",
     "output_type": "stream",
     "text": [
      "CURRENT QUD: ['amateur']\n"
     ]
    },
    {
     "name": "stderr",
     "output_type": "stream",
     "text": [
      "\r",
      "  6%|▌         | 10/176 [01:51<30:44, 11.11s/it]"
     ]
    },
    {
     "name": "stdout",
     "output_type": "stream",
     "text": [
      "CURRENT QUD: ['annual']\n"
     ]
    },
    {
     "name": "stderr",
     "output_type": "stream",
     "text": [
      "\r",
      "  6%|▋         | 11/176 [02:01<30:24, 11.06s/it]"
     ]
    },
    {
     "name": "stdout",
     "output_type": "stream",
     "text": [
      "CURRENT QUD: ['anti']\n"
     ]
    },
    {
     "name": "stderr",
     "output_type": "stream",
     "text": [
      "\r",
      "  7%|▋         | 12/176 [02:12<30:07, 11.02s/it]"
     ]
    },
    {
     "name": "stdout",
     "output_type": "stream",
     "text": [
      "CURRENT QUD: ['apparent']\n"
     ]
    },
    {
     "name": "stderr",
     "output_type": "stream",
     "text": [
      "\r",
      "  7%|▋         | 13/176 [02:23<29:53, 11.00s/it]"
     ]
    },
    {
     "name": "stdout",
     "output_type": "stream",
     "text": [
      "CURRENT QUD: ['appropriate']\n"
     ]
    },
    {
     "name": "stderr",
     "output_type": "stream",
     "text": [
      "\r",
      "  8%|▊         | 14/176 [03:10<36:43, 13.60s/it]"
     ]
    },
    {
     "name": "stdout",
     "output_type": "stream",
     "text": [
      "CURRENT QUD: ['artistic']\n"
     ]
    },
    {
     "name": "stderr",
     "output_type": "stream",
     "text": [
      "\r",
      "  9%|▊         | 15/176 [03:24<36:37, 13.65s/it]"
     ]
    },
    {
     "name": "stdout",
     "output_type": "stream",
     "text": [
      "CURRENT QUD: ['attempted']\n"
     ]
    },
    {
     "name": "stderr",
     "output_type": "stream",
     "text": [
      "\r",
      "  9%|▉         | 16/176 [03:36<36:00, 13.50s/it]"
     ]
    },
    {
     "name": "stdout",
     "output_type": "stream",
     "text": [
      "CURRENT QUD: ['available']\n"
     ]
    },
    {
     "name": "stderr",
     "output_type": "stream",
     "text": [
      "\r",
      " 10%|▉         | 17/176 [03:47<35:25, 13.37s/it]"
     ]
    },
    {
     "name": "stdout",
     "output_type": "stream",
     "text": [
      "CURRENT QUD: ['aware']\n"
     ]
    },
    {
     "name": "stderr",
     "output_type": "stream",
     "text": [
      "\r",
      " 10%|█         | 18/176 [04:38<40:40, 15.45s/it]"
     ]
    },
    {
     "name": "stdout",
     "output_type": "stream",
     "text": [
      "CURRENT QUD: ['bad']\n"
     ]
    },
    {
     "name": "stderr",
     "output_type": "stream",
     "text": [
      "\r",
      " 11%|█         | 19/176 [04:49<39:54, 15.25s/it]"
     ]
    },
    {
     "name": "stdout",
     "output_type": "stream",
     "text": [
      "CURRENT QUD: ['best']\n"
     ]
    },
    {
     "name": "stderr",
     "output_type": "stream",
     "text": [
      "\r",
      " 11%|█▏        | 20/176 [05:01<39:08, 15.05s/it]"
     ]
    },
    {
     "name": "stdout",
     "output_type": "stream",
     "text": [
      "CURRENT QUD: ['certain']\n"
     ]
    },
    {
     "name": "stderr",
     "output_type": "stream",
     "text": [
      "\r",
      " 12%|█▏        | 21/176 [05:12<38:26, 14.88s/it]"
     ]
    },
    {
     "name": "stdout",
     "output_type": "stream",
     "text": [
      "CURRENT QUD: ['cheap']\n"
     ]
    },
    {
     "name": "stderr",
     "output_type": "stream",
     "text": [
      "\r",
      " 12%|█▎        | 22/176 [05:24<37:50, 14.74s/it]"
     ]
    },
    {
     "name": "stdout",
     "output_type": "stream",
     "text": [
      "CURRENT QUD: ['chronic']\n"
     ]
    },
    {
     "name": "stderr",
     "output_type": "stream",
     "text": [
      "\r",
      " 13%|█▎        | 23/176 [05:36<37:15, 14.61s/it]"
     ]
    },
    {
     "name": "stdout",
     "output_type": "stream",
     "text": [
      "CURRENT QUD: ['classic']\n"
     ]
    },
    {
     "name": "stderr",
     "output_type": "stream",
     "text": [
      "\r",
      " 14%|█▎        | 24/176 [05:47<36:43, 14.50s/it]"
     ]
    },
    {
     "name": "stdout",
     "output_type": "stream",
     "text": [
      "CURRENT QUD: ['classical']\n"
     ]
    },
    {
     "name": "stderr",
     "output_type": "stream",
     "text": [
      "\r",
      " 14%|█▍        | 25/176 [06:00<36:14, 14.40s/it]"
     ]
    },
    {
     "name": "stdout",
     "output_type": "stream",
     "text": [
      "CURRENT QUD: ['common']\n"
     ]
    },
    {
     "name": "stderr",
     "output_type": "stream",
     "text": [
      "\r",
      " 15%|█▍        | 26/176 [06:12<35:47, 14.32s/it]"
     ]
    },
    {
     "name": "stdout",
     "output_type": "stream",
     "text": [
      "CURRENT QUD: ['competitive']\n"
     ]
    },
    {
     "name": "stderr",
     "output_type": "stream",
     "text": [
      "\r",
      " 15%|█▌        | 27/176 [06:45<37:17, 15.02s/it]"
     ]
    },
    {
     "name": "stdout",
     "output_type": "stream",
     "text": [
      "CURRENT QUD: ['complex']\n"
     ]
    },
    {
     "name": "stderr",
     "output_type": "stream",
     "text": [
      "\r",
      " 16%|█▌        | 28/176 [06:57<36:49, 14.93s/it]"
     ]
    },
    {
     "name": "stdout",
     "output_type": "stream",
     "text": [
      "CURRENT QUD: ['complicated']\n"
     ]
    },
    {
     "name": "stderr",
     "output_type": "stream",
     "text": [
      "\r",
      " 16%|█▋        | 29/176 [07:10<36:23, 14.85s/it]"
     ]
    },
    {
     "name": "stdout",
     "output_type": "stream",
     "text": [
      "CURRENT QUD: ['concerned']\n"
     ]
    },
    {
     "name": "stderr",
     "output_type": "stream",
     "text": [
      "\r",
      " 17%|█▋        | 30/176 [07:23<35:59, 14.79s/it]"
     ]
    },
    {
     "name": "stdout",
     "output_type": "stream",
     "text": [
      "CURRENT QUD: ['consecutive']\n"
     ]
    },
    {
     "name": "stderr",
     "output_type": "stream",
     "text": [
      "\r",
      " 18%|█▊        | 31/176 [07:36<35:36, 14.74s/it]"
     ]
    },
    {
     "name": "stdout",
     "output_type": "stream",
     "text": [
      "CURRENT QUD: ['contending']\n"
     ]
    },
    {
     "name": "stderr",
     "output_type": "stream",
     "text": [
      "\r",
      " 18%|█▊        | 32/176 [07:50<35:15, 14.69s/it]"
     ]
    },
    {
     "name": "stdout",
     "output_type": "stream",
     "text": [
      "CURRENT QUD: ['continental']\n"
     ]
    },
    {
     "name": "stderr",
     "output_type": "stream",
     "text": [
      "\r",
      " 19%|█▉        | 33/176 [08:03<34:55, 14.65s/it]"
     ]
    },
    {
     "name": "stdout",
     "output_type": "stream",
     "text": [
      "CURRENT QUD: ['controversial']\n"
     ]
    },
    {
     "name": "stderr",
     "output_type": "stream",
     "text": [
      "\r",
      " 19%|█▉        | 34/176 [08:17<34:36, 14.62s/it]"
     ]
    },
    {
     "name": "stdout",
     "output_type": "stream",
     "text": [
      "CURRENT QUD: ['corporate']\n"
     ]
    },
    {
     "name": "stderr",
     "output_type": "stream",
     "text": [
      "\r",
      " 20%|█▉        | 35/176 [08:31<34:19, 14.60s/it]"
     ]
    },
    {
     "name": "stdout",
     "output_type": "stream",
     "text": [
      "CURRENT QUD: ['corrupt']\n"
     ]
    },
    {
     "name": "stderr",
     "output_type": "stream",
     "text": [
      "\r",
      " 20%|██        | 36/176 [08:45<34:02, 14.59s/it]"
     ]
    },
    {
     "name": "stdout",
     "output_type": "stream",
     "text": [
      "CURRENT QUD: ['critical']\n"
     ]
    },
    {
     "name": "stderr",
     "output_type": "stream",
     "text": [
      "\r",
      " 21%|██        | 37/176 [08:59<33:47, 14.58s/it]"
     ]
    },
    {
     "name": "stdout",
     "output_type": "stream",
     "text": [
      "CURRENT QUD: ['cultural']\n"
     ]
    },
    {
     "name": "stderr",
     "output_type": "stream",
     "text": [
      "\r",
      " 22%|██▏       | 38/176 [09:14<33:32, 14.58s/it]"
     ]
    },
    {
     "name": "stdout",
     "output_type": "stream",
     "text": [
      "CURRENT QUD: ['dangerous']\n"
     ]
    },
    {
     "name": "stderr",
     "output_type": "stream",
     "text": [
      "\r",
      " 22%|██▏       | 39/176 [09:28<33:17, 14.58s/it]"
     ]
    },
    {
     "name": "stdout",
     "output_type": "stream",
     "text": [
      "CURRENT QUD: ['defunct']\n"
     ]
    },
    {
     "name": "stderr",
     "output_type": "stream",
     "text": [
      "\r",
      " 23%|██▎       | 40/176 [09:43<33:03, 14.59s/it]"
     ]
    },
    {
     "name": "stdout",
     "output_type": "stream",
     "text": [
      "CURRENT QUD: ['designated']\n"
     ]
    },
    {
     "name": "stderr",
     "output_type": "stream",
     "text": [
      "\r",
      " 23%|██▎       | 41/176 [09:58<32:50, 14.60s/it]"
     ]
    },
    {
     "name": "stdout",
     "output_type": "stream",
     "text": [
      "CURRENT QUD: ['different']\n"
     ]
    },
    {
     "name": "stderr",
     "output_type": "stream",
     "text": [
      "\r",
      " 24%|██▍       | 42/176 [10:15<32:45, 14.66s/it]"
     ]
    },
    {
     "name": "stdout",
     "output_type": "stream",
     "text": [
      "CURRENT QUD: ['difficult']\n"
     ]
    },
    {
     "name": "stderr",
     "output_type": "stream",
     "text": [
      "\r",
      " 24%|██▍       | 43/176 [10:31<32:32, 14.68s/it]"
     ]
    },
    {
     "name": "stdout",
     "output_type": "stream",
     "text": [
      "CURRENT QUD: ['disappointed']\n"
     ]
    },
    {
     "name": "stderr",
     "output_type": "stream",
     "text": [
      "\r",
      " 25%|██▌       | 44/176 [10:46<32:19, 14.69s/it]"
     ]
    },
    {
     "name": "stdout",
     "output_type": "stream",
     "text": [
      "CURRENT QUD: ['disappointing']\n"
     ]
    },
    {
     "name": "stderr",
     "output_type": "stream",
     "text": [
      "\r",
      " 26%|██▌       | 45/176 [11:02<32:07, 14.71s/it]"
     ]
    },
    {
     "name": "stdout",
     "output_type": "stream",
     "text": [
      "CURRENT QUD: ['disciplinary']\n"
     ]
    },
    {
     "name": "stderr",
     "output_type": "stream",
     "text": [
      "\r",
      " 26%|██▌       | 46/176 [11:17<31:55, 14.73s/it]"
     ]
    },
    {
     "name": "stdout",
     "output_type": "stream",
     "text": [
      "CURRENT QUD: ['easier']\n"
     ]
    },
    {
     "name": "stderr",
     "output_type": "stream",
     "text": [
      "\r",
      " 27%|██▋       | 47/176 [11:33<31:43, 14.75s/it]"
     ]
    },
    {
     "name": "stdout",
     "output_type": "stream",
     "text": [
      "CURRENT QUD: ['easy']\n"
     ]
    },
    {
     "name": "stderr",
     "output_type": "stream",
     "text": [
      "\r",
      " 27%|██▋       | 48/176 [11:49<31:31, 14.78s/it]"
     ]
    },
    {
     "name": "stdout",
     "output_type": "stream",
     "text": [
      "CURRENT QUD: ['educational']\n"
     ]
    },
    {
     "name": "stderr",
     "output_type": "stream",
     "text": [
      "\r",
      " 28%|██▊       | 49/176 [12:05<31:20, 14.81s/it]"
     ]
    },
    {
     "name": "stdout",
     "output_type": "stream",
     "text": [
      "CURRENT QUD: ['effective']\n"
     ]
    },
    {
     "name": "stderr",
     "output_type": "stream",
     "text": [
      "\r",
      " 28%|██▊       | 50/176 [12:22<31:10, 14.84s/it]"
     ]
    },
    {
     "name": "stdout",
     "output_type": "stream",
     "text": [
      "CURRENT QUD: ['eligible']\n"
     ]
    },
    {
     "name": "stderr",
     "output_type": "stream",
     "text": [
      "\r",
      " 29%|██▉       | 51/176 [12:38<30:59, 14.87s/it]"
     ]
    },
    {
     "name": "stdout",
     "output_type": "stream",
     "text": [
      "CURRENT QUD: ['encouraging']\n"
     ]
    },
    {
     "name": "stderr",
     "output_type": "stream",
     "text": [
      "\r",
      " 30%|██▉       | 52/176 [12:55<30:48, 14.91s/it]"
     ]
    },
    {
     "name": "stdout",
     "output_type": "stream",
     "text": [
      "CURRENT QUD: ['entire']\n"
     ]
    },
    {
     "name": "stderr",
     "output_type": "stream",
     "text": [
      "\r",
      " 30%|███       | 53/176 [13:12<30:38, 14.94s/it]"
     ]
    },
    {
     "name": "stdout",
     "output_type": "stream",
     "text": [
      "CURRENT QUD: ['excellent']\n"
     ]
    },
    {
     "name": "stderr",
     "output_type": "stream",
     "text": [
      "\r",
      " 31%|███       | 54/176 [13:29<30:28, 14.98s/it]"
     ]
    },
    {
     "name": "stdout",
     "output_type": "stream",
     "text": [
      "CURRENT QUD: ['excited']\n"
     ]
    },
    {
     "name": "stderr",
     "output_type": "stream",
     "text": [
      "\r",
      " 31%|███▏      | 55/176 [13:46<30:18, 15.03s/it]"
     ]
    },
    {
     "name": "stdout",
     "output_type": "stream",
     "text": [
      "CURRENT QUD: ['existing']\n"
     ]
    },
    {
     "name": "stderr",
     "output_type": "stream",
     "text": [
      "\r",
      " 32%|███▏      | 56/176 [14:03<30:08, 15.07s/it]"
     ]
    },
    {
     "name": "stdout",
     "output_type": "stream",
     "text": [
      "CURRENT QUD: ['experimental']\n"
     ]
    },
    {
     "name": "stderr",
     "output_type": "stream",
     "text": [
      "\r",
      " 32%|███▏      | 57/176 [14:21<29:58, 15.11s/it]"
     ]
    },
    {
     "name": "stdout",
     "output_type": "stream",
     "text": [
      "CURRENT QUD: ['extended']\n"
     ]
    },
    {
     "name": "stderr",
     "output_type": "stream",
     "text": [
      "\r",
      " 33%|███▎      | 58/176 [14:39<29:48, 15.16s/it]"
     ]
    },
    {
     "name": "stdout",
     "output_type": "stream",
     "text": [
      "CURRENT QUD: ['extensive']\n"
     ]
    },
    {
     "name": "stderr",
     "output_type": "stream",
     "text": [
      "\r",
      " 34%|███▎      | 59/176 [14:57<29:38, 15.20s/it]"
     ]
    },
    {
     "name": "stdout",
     "output_type": "stream",
     "text": [
      "CURRENT QUD: ['extracurricular']\n"
     ]
    },
    {
     "name": "stderr",
     "output_type": "stream",
     "text": [
      "\r",
      " 34%|███▍      | 60/176 [15:15<29:29, 15.25s/it]"
     ]
    },
    {
     "name": "stdout",
     "output_type": "stream",
     "text": [
      "CURRENT QUD: ['extraordinary']\n"
     ]
    },
    {
     "name": "stderr",
     "output_type": "stream",
     "text": [
      "\r",
      " 35%|███▍      | 61/176 [15:36<29:25, 15.35s/it]"
     ]
    },
    {
     "name": "stdout",
     "output_type": "stream",
     "text": [
      "CURRENT QUD: ['fair']\n"
     ]
    },
    {
     "name": "stderr",
     "output_type": "stream",
     "text": [
      "\r",
      " 35%|███▌      | 62/176 [15:54<29:15, 15.40s/it]"
     ]
    },
    {
     "name": "stdout",
     "output_type": "stream",
     "text": [
      "CURRENT QUD: ['fake']\n"
     ]
    },
    {
     "name": "stderr",
     "output_type": "stream",
     "text": [
      "\r",
      " 36%|███▌      | 63/176 [16:13<29:05, 15.45s/it]"
     ]
    },
    {
     "name": "stdout",
     "output_type": "stream",
     "text": [
      "CURRENT QUD: ['fantastic']\n"
     ]
    },
    {
     "name": "stderr",
     "output_type": "stream",
     "text": [
      "\r",
      " 36%|███▋      | 64/176 [16:32<28:56, 15.50s/it]"
     ]
    },
    {
     "name": "stdout",
     "output_type": "stream",
     "text": [
      "CURRENT QUD: ['federal']\n"
     ]
    },
    {
     "name": "stderr",
     "output_type": "stream",
     "text": [
      "\r",
      " 37%|███▋      | 65/176 [16:50<28:46, 15.55s/it]"
     ]
    },
    {
     "name": "stdout",
     "output_type": "stream",
     "text": [
      "CURRENT QUD: ['free']\n"
     ]
    },
    {
     "name": "stderr",
     "output_type": "stream",
     "text": [
      "\r",
      " 38%|███▊      | 66/176 [17:09<28:36, 15.60s/it]"
     ]
    },
    {
     "name": "stdout",
     "output_type": "stream",
     "text": [
      "CURRENT QUD: ['frequent']\n"
     ]
    },
    {
     "name": "stderr",
     "output_type": "stream",
     "text": [
      "\r",
      " 38%|███▊      | 67/176 [17:29<28:26, 15.66s/it]"
     ]
    },
    {
     "name": "stdout",
     "output_type": "stream",
     "text": [
      "CURRENT QUD: ['good']\n"
     ]
    },
    {
     "name": "stderr",
     "output_type": "stream",
     "text": [
      "\r",
      " 39%|███▊      | 68/176 [17:48<28:16, 15.71s/it]"
     ]
    },
    {
     "name": "stdout",
     "output_type": "stream",
     "text": [
      "CURRENT QUD: ['governing']\n"
     ]
    },
    {
     "name": "stderr",
     "output_type": "stream",
     "text": [
      "\r",
      " 39%|███▉      | 69/176 [18:08<28:07, 15.77s/it]"
     ]
    },
    {
     "name": "stdout",
     "output_type": "stream",
     "text": [
      "CURRENT QUD: ['grand']\n"
     ]
    },
    {
     "name": "stderr",
     "output_type": "stream",
     "text": [
      "\r",
      " 40%|███▉      | 70/176 [18:27<27:57, 15.83s/it]"
     ]
    },
    {
     "name": "stdout",
     "output_type": "stream",
     "text": [
      "CURRENT QUD: ['great']\n"
     ]
    },
    {
     "name": "stderr",
     "output_type": "stream",
     "text": [
      "\r",
      " 40%|████      | 71/176 [18:47<27:47, 15.88s/it]"
     ]
    },
    {
     "name": "stdout",
     "output_type": "stream",
     "text": [
      "CURRENT QUD: ['greater']\n"
     ]
    },
    {
     "name": "stderr",
     "output_type": "stream",
     "text": [
      "\r",
      " 41%|████      | 72/176 [19:08<27:38, 15.94s/it]"
     ]
    },
    {
     "name": "stdout",
     "output_type": "stream",
     "text": [
      "CURRENT QUD: ['guilty']\n"
     ]
    },
    {
     "name": "stderr",
     "output_type": "stream",
     "text": [
      "\r",
      " 41%|████▏     | 73/176 [19:28<27:28, 16.01s/it]"
     ]
    },
    {
     "name": "stdout",
     "output_type": "stream",
     "text": [
      "CURRENT QUD: ['illegal']\n"
     ]
    },
    {
     "name": "stderr",
     "output_type": "stream",
     "text": [
      "\r",
      " 42%|████▏     | 74/176 [19:48<27:18, 16.07s/it]"
     ]
    },
    {
     "name": "stdout",
     "output_type": "stream",
     "text": [
      "CURRENT QUD: ['illicit']\n"
     ]
    },
    {
     "name": "stderr",
     "output_type": "stream",
     "text": [
      "\r",
      " 43%|████▎     | 75/176 [20:09<27:09, 16.13s/it]"
     ]
    },
    {
     "name": "stdout",
     "output_type": "stream",
     "text": [
      "CURRENT QUD: ['immune']\n"
     ]
    },
    {
     "name": "stderr",
     "output_type": "stream",
     "text": [
      "\r",
      " 43%|████▎     | 76/176 [20:30<26:59, 16.20s/it]"
     ]
    },
    {
     "name": "stdout",
     "output_type": "stream",
     "text": [
      "CURRENT QUD: ['important']\n"
     ]
    },
    {
     "name": "stderr",
     "output_type": "stream",
     "text": [
      "\r",
      " 44%|████▍     | 77/176 [20:52<26:50, 16.27s/it]"
     ]
    },
    {
     "name": "stdout",
     "output_type": "stream",
     "text": [
      "CURRENT QUD: ['impressive']\n"
     ]
    },
    {
     "name": "stderr",
     "output_type": "stream",
     "text": [
      "\r",
      " 44%|████▍     | 78/176 [21:14<26:40, 16.34s/it]"
     ]
    },
    {
     "name": "stdout",
     "output_type": "stream",
     "text": [
      "CURRENT QUD: ['inaugural']\n"
     ]
    },
    {
     "name": "stderr",
     "output_type": "stream",
     "text": [
      "\r",
      " 45%|████▍     | 79/176 [21:35<26:31, 16.40s/it]"
     ]
    },
    {
     "name": "stdout",
     "output_type": "stream",
     "text": [
      "CURRENT QUD: ['independent']\n"
     ]
    },
    {
     "name": "stderr",
     "output_type": "stream",
     "text": [
      "\r",
      " 45%|████▌     | 80/176 [21:57<26:21, 16.47s/it]"
     ]
    },
    {
     "name": "stdout",
     "output_type": "stream",
     "text": [
      "CURRENT QUD: ['infamous']\n"
     ]
    },
    {
     "name": "stderr",
     "output_type": "stream",
     "text": [
      "\r",
      " 46%|████▌     | 81/176 [22:19<26:11, 16.54s/it]"
     ]
    },
    {
     "name": "stdout",
     "output_type": "stream",
     "text": [
      "CURRENT QUD: ['intense']\n"
     ]
    },
    {
     "name": "stderr",
     "output_type": "stream",
     "text": [
      "\r",
      " 47%|████▋     | 82/176 [22:42<26:01, 16.61s/it]"
     ]
    },
    {
     "name": "stdout",
     "output_type": "stream",
     "text": [
      "CURRENT QUD: ['interested']\n"
     ]
    },
    {
     "name": "stderr",
     "output_type": "stream",
     "text": [
      "\r",
      " 47%|████▋     | 83/176 [23:04<25:51, 16.68s/it]"
     ]
    },
    {
     "name": "stdout",
     "output_type": "stream",
     "text": [
      "CURRENT QUD: ['interscholastic']\n"
     ]
    },
    {
     "name": "stderr",
     "output_type": "stream",
     "text": [
      "\r",
      " 48%|████▊     | 84/176 [23:27<25:41, 16.75s/it]"
     ]
    },
    {
     "name": "stdout",
     "output_type": "stream",
     "text": [
      "CURRENT QUD: ['intramural']\n"
     ]
    },
    {
     "name": "stderr",
     "output_type": "stream",
     "text": [
      "\r",
      " 48%|████▊     | 85/176 [23:53<25:34, 16.87s/it]"
     ]
    },
    {
     "name": "stdout",
     "output_type": "stream",
     "text": [
      "CURRENT QUD: ['keen']\n"
     ]
    },
    {
     "name": "stderr",
     "output_type": "stream",
     "text": [
      "\r",
      " 49%|████▉     | 86/176 [24:16<25:24, 16.94s/it]"
     ]
    },
    {
     "name": "stdout",
     "output_type": "stream",
     "text": [
      "CURRENT QUD: ['latest']\n"
     ]
    },
    {
     "name": "stderr",
     "output_type": "stream",
     "text": [
      "\r",
      " 49%|████▉     | 87/176 [24:39<25:13, 17.01s/it]"
     ]
    },
    {
     "name": "stdout",
     "output_type": "stream",
     "text": [
      "CURRENT QUD: ['legal']\n"
     ]
    },
    {
     "name": "stderr",
     "output_type": "stream",
     "text": [
      "\r",
      " 50%|█████     | 88/176 [25:03<25:03, 17.08s/it]"
     ]
    },
    {
     "name": "stdout",
     "output_type": "stream",
     "text": [
      "CURRENT QUD: ['legendary']\n"
     ]
    },
    {
     "name": "stderr",
     "output_type": "stream",
     "text": [
      "\r",
      " 51%|█████     | 89/176 [25:27<24:53, 17.17s/it]"
     ]
    },
    {
     "name": "stdout",
     "output_type": "stream",
     "text": [
      "CURRENT QUD: ['likely']\n"
     ]
    },
    {
     "name": "stderr",
     "output_type": "stream",
     "text": [
      "\r",
      " 51%|█████     | 90/176 [25:52<24:43, 17.25s/it]"
     ]
    },
    {
     "name": "stdout",
     "output_type": "stream",
     "text": [
      "CURRENT QUD: ['limited']\n"
     ]
    },
    {
     "name": "stderr",
     "output_type": "stream",
     "text": [
      "\r",
      " 52%|█████▏    | 91/176 [26:16<24:32, 17.33s/it]"
     ]
    },
    {
     "name": "stdout",
     "output_type": "stream",
     "text": [
      "CURRENT QUD: ['longtime']\n"
     ]
    },
    {
     "name": "stderr",
     "output_type": "stream",
     "text": [
      "\r",
      " 52%|█████▏    | 92/176 [26:41<24:22, 17.41s/it]"
     ]
    },
    {
     "name": "stdout",
     "output_type": "stream",
     "text": [
      "CURRENT QUD: ['lucrative']\n"
     ]
    },
    {
     "name": "stderr",
     "output_type": "stream",
     "text": [
      "\r",
      " 53%|█████▎    | 93/176 [27:06<24:11, 17.49s/it]"
     ]
    },
    {
     "name": "stdout",
     "output_type": "stream",
     "text": [
      "CURRENT QUD: ['main']\n"
     ]
    },
    {
     "name": "stderr",
     "output_type": "stream",
     "text": [
      "\r",
      " 53%|█████▎    | 94/176 [27:31<24:01, 17.57s/it]"
     ]
    },
    {
     "name": "stdout",
     "output_type": "stream",
     "text": [
      "CURRENT QUD: ['major']\n"
     ]
    },
    {
     "name": "stderr",
     "output_type": "stream",
     "text": [
      "\r",
      " 54%|█████▍    | 95/176 [27:57<23:50, 17.66s/it]"
     ]
    },
    {
     "name": "stdout",
     "output_type": "stream",
     "text": [
      "CURRENT QUD: ['martial']\n"
     ]
    },
    {
     "name": "stderr",
     "output_type": "stream",
     "text": [
      "\r",
      " 55%|█████▍    | 96/176 [28:22<23:39, 17.74s/it]"
     ]
    },
    {
     "name": "stdout",
     "output_type": "stream",
     "text": [
      "CURRENT QUD: ['mental']\n"
     ]
    },
    {
     "name": "stderr",
     "output_type": "stream",
     "text": [
      "\r",
      " 55%|█████▌    | 97/176 [28:48<23:27, 17.82s/it]"
     ]
    },
    {
     "name": "stdout",
     "output_type": "stream",
     "text": [
      "CURRENT QUD: ['modern']\n"
     ]
    },
    {
     "name": "stderr",
     "output_type": "stream",
     "text": [
      "\r",
      " 56%|█████▌    | 98/176 [29:14<23:16, 17.90s/it]"
     ]
    },
    {
     "name": "stdout",
     "output_type": "stream",
     "text": [
      "CURRENT QUD: ['municipal']\n"
     ]
    },
    {
     "name": "stderr",
     "output_type": "stream",
     "text": [
      "\r",
      " 56%|█████▋    | 99/176 [29:40<23:05, 17.99s/it]"
     ]
    },
    {
     "name": "stdout",
     "output_type": "stream",
     "text": [
      "CURRENT QUD: ['national']\n"
     ]
    },
    {
     "name": "stderr",
     "output_type": "stream",
     "text": [
      "\r",
      " 57%|█████▋    | 100/176 [30:07<22:53, 18.07s/it]"
     ]
    },
    {
     "name": "stdout",
     "output_type": "stream",
     "text": [
      "CURRENT QUD: ['necessary']\n"
     ]
    },
    {
     "name": "stderr",
     "output_type": "stream",
     "text": [
      "\r",
      " 57%|█████▋    | 101/176 [30:33<22:41, 18.15s/it]"
     ]
    },
    {
     "name": "stdout",
     "output_type": "stream",
     "text": [
      "CURRENT QUD: ['negative']\n"
     ]
    },
    {
     "name": "stderr",
     "output_type": "stream",
     "text": [
      "\r",
      " 58%|█████▊    | 102/176 [31:00<22:29, 18.24s/it]"
     ]
    },
    {
     "name": "stdout",
     "output_type": "stream",
     "text": [
      "CURRENT QUD: ['notable']\n"
     ]
    },
    {
     "name": "stderr",
     "output_type": "stream",
     "text": [
      "\r",
      " 59%|█████▊    | 103/176 [31:27<22:17, 18.32s/it]"
     ]
    },
    {
     "name": "stdout",
     "output_type": "stream",
     "text": [
      "CURRENT QUD: ['notorious']\n"
     ]
    },
    {
     "name": "stderr",
     "output_type": "stream",
     "text": [
      "\r",
      " 59%|█████▉    | 104/176 [31:54<22:05, 18.41s/it]"
     ]
    },
    {
     "name": "stdout",
     "output_type": "stream",
     "text": [
      "CURRENT QUD: ['ongoing']\n"
     ]
    },
    {
     "name": "stderr",
     "output_type": "stream",
     "text": [
      "\r",
      " 60%|█████▉    | 105/176 [32:21<21:53, 18.49s/it]"
     ]
    },
    {
     "name": "stdout",
     "output_type": "stream",
     "text": [
      "CURRENT QUD: ['other']\n"
     ]
    },
    {
     "name": "stderr",
     "output_type": "stream",
     "text": [
      "\r",
      " 60%|██████    | 106/176 [32:49<21:40, 18.58s/it]"
     ]
    },
    {
     "name": "stdout",
     "output_type": "stream",
     "text": [
      "CURRENT QUD: ['outstanding']\n"
     ]
    },
    {
     "name": "stderr",
     "output_type": "stream",
     "text": [
      "\r",
      " 61%|██████    | 107/176 [33:17<21:28, 18.67s/it]"
     ]
    },
    {
     "name": "stdout",
     "output_type": "stream",
     "text": [
      "CURRENT QUD: ['overall']\n"
     ]
    },
    {
     "name": "stderr",
     "output_type": "stream",
     "text": [
      "\r",
      " 61%|██████▏   | 108/176 [33:46<21:15, 18.76s/it]"
     ]
    },
    {
     "name": "stdout",
     "output_type": "stream",
     "text": [
      "CURRENT QUD: ['particular']\n"
     ]
    },
    {
     "name": "stderr",
     "output_type": "stream",
     "text": [
      "\r",
      " 62%|██████▏   | 109/176 [34:14<21:03, 18.85s/it]"
     ]
    },
    {
     "name": "stdout",
     "output_type": "stream",
     "text": [
      "CURRENT QUD: ['pending']\n"
     ]
    },
    {
     "name": "stderr",
     "output_type": "stream",
     "text": [
      "\r",
      " 62%|██████▎   | 110/176 [34:43<20:50, 18.94s/it]"
     ]
    },
    {
     "name": "stdout",
     "output_type": "stream",
     "text": [
      "CURRENT QUD: ['perfect']\n"
     ]
    },
    {
     "name": "stderr",
     "output_type": "stream",
     "text": [
      "\r",
      " 63%|██████▎   | 111/176 [35:12<20:36, 19.03s/it]"
     ]
    },
    {
     "name": "stdout",
     "output_type": "stream",
     "text": [
      "CURRENT QUD: ['personal']\n"
     ]
    },
    {
     "name": "stderr",
     "output_type": "stream",
     "text": [
      "\r",
      " 64%|██████▎   | 112/176 [35:40<20:23, 19.12s/it]"
     ]
    },
    {
     "name": "stdout",
     "output_type": "stream",
     "text": [
      "CURRENT QUD: ['pleased']\n"
     ]
    },
    {
     "name": "stderr",
     "output_type": "stream",
     "text": [
      "\r",
      " 64%|██████▍   | 113/176 [36:10<20:09, 19.21s/it]"
     ]
    },
    {
     "name": "stdout",
     "output_type": "stream",
     "text": [
      "CURRENT QUD: ['political']\n"
     ]
    },
    {
     "name": "stderr",
     "output_type": "stream",
     "text": [
      "\r",
      " 65%|██████▍   | 114/176 [36:44<19:58, 19.33s/it]"
     ]
    },
    {
     "name": "stdout",
     "output_type": "stream",
     "text": [
      "CURRENT QUD: ['popular']\n"
     ]
    },
    {
     "name": "stderr",
     "output_type": "stream",
     "text": [
      "\r",
      " 65%|██████▌   | 115/176 [37:13<19:44, 19.42s/it]"
     ]
    },
    {
     "name": "stdout",
     "output_type": "stream",
     "text": [
      "CURRENT QUD: ['positive']\n"
     ]
    },
    {
     "name": "stderr",
     "output_type": "stream",
     "text": [
      "\r",
      " 66%|██████▌   | 116/176 [37:43<19:30, 19.51s/it]"
     ]
    },
    {
     "name": "stdout",
     "output_type": "stream",
     "text": [
      "CURRENT QUD: ['possible']\n"
     ]
    },
    {
     "name": "stderr",
     "output_type": "stream",
     "text": [
      "\r",
      " 66%|██████▋   | 117/176 [38:13<19:16, 19.60s/it]"
     ]
    },
    {
     "name": "stdout",
     "output_type": "stream",
     "text": [
      "CURRENT QUD: ['potent']\n"
     ]
    },
    {
     "name": "stderr",
     "output_type": "stream",
     "text": [
      "\r",
      " 67%|██████▋   | 118/176 [38:43<19:01, 19.69s/it]"
     ]
    },
    {
     "name": "stdout",
     "output_type": "stream",
     "text": [
      "CURRENT QUD: ['potential']\n"
     ]
    },
    {
     "name": "stderr",
     "output_type": "stream",
     "text": [
      "\r",
      " 68%|██████▊   | 119/176 [39:13<18:47, 19.78s/it]"
     ]
    },
    {
     "name": "stdout",
     "output_type": "stream",
     "text": [
      "CURRENT QUD: ['powerful']\n"
     ]
    },
    {
     "name": "stderr",
     "output_type": "stream",
     "text": [
      "\r",
      " 68%|██████▊   | 120/176 [39:43<18:32, 19.86s/it]"
     ]
    },
    {
     "name": "stdout",
     "output_type": "stream",
     "text": [
      "CURRENT QUD: ['preliminary']\n"
     ]
    },
    {
     "name": "stderr",
     "output_type": "stream",
     "text": [
      "\r",
      " 69%|██████▉   | 121/176 [40:14<18:17, 19.95s/it]"
     ]
    },
    {
     "name": "stdout",
     "output_type": "stream",
     "text": [
      "CURRENT QUD: ['prestigious']\n"
     ]
    },
    {
     "name": "stderr",
     "output_type": "stream",
     "text": [
      "\r",
      " 69%|██████▉   | 122/176 [40:45<18:02, 20.04s/it]"
     ]
    },
    {
     "name": "stdout",
     "output_type": "stream",
     "text": [
      "CURRENT QUD: ['preventive']\n"
     ]
    },
    {
     "name": "stderr",
     "output_type": "stream",
     "text": [
      "\r",
      " 70%|██████▉   | 123/176 [41:15<17:46, 20.13s/it]"
     ]
    },
    {
     "name": "stdout",
     "output_type": "stream",
     "text": [
      "CURRENT QUD: ['prior']\n"
     ]
    },
    {
     "name": "stderr",
     "output_type": "stream",
     "text": [
      "\r",
      " 70%|███████   | 124/176 [41:46<17:31, 20.21s/it]"
     ]
    },
    {
     "name": "stdout",
     "output_type": "stream",
     "text": [
      "CURRENT QUD: ['professional']\n"
     ]
    },
    {
     "name": "stderr",
     "output_type": "stream",
     "text": [
      "\r",
      " 71%|███████   | 125/176 [42:17<17:15, 20.30s/it]"
     ]
    },
    {
     "name": "stdout",
     "output_type": "stream",
     "text": [
      "CURRENT QUD: ['promising']\n"
     ]
    },
    {
     "name": "stderr",
     "output_type": "stream",
     "text": [
      "\r",
      " 72%|███████▏  | 126/176 [42:48<16:59, 20.38s/it]"
     ]
    },
    {
     "name": "stdout",
     "output_type": "stream",
     "text": [
      "CURRENT QUD: ['proud']\n"
     ]
    },
    {
     "name": "stderr",
     "output_type": "stream",
     "text": [
      "\r",
      " 72%|███████▏  | 127/176 [43:19<16:42, 20.47s/it]"
     ]
    },
    {
     "name": "stdout",
     "output_type": "stream",
     "text": [
      "CURRENT QUD: ['rampant']\n"
     ]
    },
    {
     "name": "stderr",
     "output_type": "stream",
     "text": [
      "\r",
      " 73%|███████▎  | 128/176 [43:50<16:26, 20.55s/it]"
     ]
    },
    {
     "name": "stdout",
     "output_type": "stream",
     "text": [
      "CURRENT QUD: ['ready']\n"
     ]
    },
    {
     "name": "stderr",
     "output_type": "stream",
     "text": [
      "\r",
      " 73%|███████▎  | 129/176 [44:22<16:10, 20.64s/it]"
     ]
    },
    {
     "name": "stdout",
     "output_type": "stream",
     "text": [
      "CURRENT QUD: ['regular']\n"
     ]
    },
    {
     "name": "stderr",
     "output_type": "stream",
     "text": [
      "\r",
      " 74%|███████▍  | 130/176 [44:54<15:53, 20.73s/it]"
     ]
    },
    {
     "name": "stdout",
     "output_type": "stream",
     "text": [
      "CURRENT QUD: ['regulatory']\n"
     ]
    },
    {
     "name": "stderr",
     "output_type": "stream",
     "text": [
      "\r",
      " 74%|███████▍  | 131/176 [45:26<15:36, 20.81s/it]"
     ]
    },
    {
     "name": "stdout",
     "output_type": "stream",
     "text": [
      "CURRENT QUD: ['reigning']\n"
     ]
    },
    {
     "name": "stderr",
     "output_type": "stream",
     "text": [
      "\r",
      " 75%|███████▌  | 132/176 [45:58<15:19, 20.90s/it]"
     ]
    },
    {
     "name": "stdout",
     "output_type": "stream",
     "text": [
      "CURRENT QUD: ['renowned']\n"
     ]
    },
    {
     "name": "stderr",
     "output_type": "stream",
     "text": [
      "\r",
      " 76%|███████▌  | 133/176 [46:30<15:02, 20.98s/it]"
     ]
    },
    {
     "name": "stdout",
     "output_type": "stream",
     "text": [
      "CURRENT QUD: ['reputed']\n"
     ]
    },
    {
     "name": "stderr",
     "output_type": "stream",
     "text": [
      "\r",
      " 76%|███████▌  | 134/176 [47:02<14:44, 21.07s/it]"
     ]
    },
    {
     "name": "stdout",
     "output_type": "stream",
     "text": [
      "CURRENT QUD: ['respective']\n"
     ]
    },
    {
     "name": "stderr",
     "output_type": "stream",
     "text": [
      "\r",
      " 77%|███████▋  | 135/176 [47:35<14:27, 21.15s/it]"
     ]
    },
    {
     "name": "stdout",
     "output_type": "stream",
     "text": [
      "CURRENT QUD: ['responsible']\n"
     ]
    },
    {
     "name": "stderr",
     "output_type": "stream",
     "text": [
      "\r",
      " 77%|███████▋  | 136/176 [48:08<14:09, 21.24s/it]"
     ]
    },
    {
     "name": "stdout",
     "output_type": "stream",
     "text": [
      "CURRENT QUD: ['satisfied']\n"
     ]
    },
    {
     "name": "stderr",
     "output_type": "stream",
     "text": [
      "\r",
      " 78%|███████▊  | 137/176 [48:40<13:51, 21.32s/it]"
     ]
    },
    {
     "name": "stdout",
     "output_type": "stream",
     "text": [
      "CURRENT QUD: ['secondary']\n"
     ]
    },
    {
     "name": "stderr",
     "output_type": "stream",
     "text": [
      "\r",
      " 78%|███████▊  | 138/176 [49:13<13:33, 21.40s/it]"
     ]
    },
    {
     "name": "stdout",
     "output_type": "stream",
     "text": [
      "CURRENT QUD: ['serious']\n"
     ]
    },
    {
     "name": "stderr",
     "output_type": "stream",
     "text": [
      "\r",
      " 79%|███████▉  | 139/176 [49:46<13:15, 21.49s/it]"
     ]
    },
    {
     "name": "stdout",
     "output_type": "stream",
     "text": [
      "CURRENT QUD: ['severe']\n"
     ]
    },
    {
     "name": "stderr",
     "output_type": "stream",
     "text": [
      "\r",
      " 80%|███████▉  | 140/176 [50:20<12:56, 21.57s/it]"
     ]
    },
    {
     "name": "stdout",
     "output_type": "stream",
     "text": [
      "CURRENT QUD: ['significant']\n"
     ]
    },
    {
     "name": "stderr",
     "output_type": "stream",
     "text": [
      "\r",
      " 80%|████████  | 141/176 [50:53<12:37, 21.66s/it]"
     ]
    },
    {
     "name": "stdout",
     "output_type": "stream",
     "text": [
      "CURRENT QUD: ['similar']\n"
     ]
    },
    {
     "name": "stderr",
     "output_type": "stream",
     "text": [
      "\r",
      " 81%|████████  | 142/176 [51:27<12:19, 21.74s/it]"
     ]
    },
    {
     "name": "stdout",
     "output_type": "stream",
     "text": [
      "CURRENT QUD: ['social']\n"
     ]
    },
    {
     "name": "stderr",
     "output_type": "stream",
     "text": [
      "\r",
      " 81%|████████▏ | 143/176 [52:01<12:00, 21.83s/it]"
     ]
    },
    {
     "name": "stdout",
     "output_type": "stream",
     "text": [
      "CURRENT QUD: ['sophisticated']\n"
     ]
    },
    {
     "name": "stderr",
     "output_type": "stream",
     "text": [
      "\r",
      " 82%|████████▏ | 144/176 [52:34<11:41, 21.91s/it]"
     ]
    },
    {
     "name": "stdout",
     "output_type": "stream",
     "text": [
      "CURRENT QUD: ['special']\n"
     ]
    },
    {
     "name": "stderr",
     "output_type": "stream",
     "text": [
      "\r",
      " 82%|████████▏ | 145/176 [53:08<11:21, 21.99s/it]"
     ]
    },
    {
     "name": "stdout",
     "output_type": "stream",
     "text": [
      "CURRENT QUD: ['specific']\n"
     ]
    },
    {
     "name": "stderr",
     "output_type": "stream",
     "text": [
      "\r",
      " 83%|████████▎ | 146/176 [53:42<11:02, 22.07s/it]"
     ]
    },
    {
     "name": "stdout",
     "output_type": "stream",
     "text": [
      "CURRENT QUD: ['storied']\n"
     ]
    },
    {
     "name": "stderr",
     "output_type": "stream",
     "text": [
      "\r",
      " 84%|████████▎ | 147/176 [54:17<10:42, 22.16s/it]"
     ]
    },
    {
     "name": "stdout",
     "output_type": "stream",
     "text": [
      "CURRENT QUD: ['subsequent']\n"
     ]
    },
    {
     "name": "stderr",
     "output_type": "stream",
     "text": [
      "\r",
      " 84%|████████▍ | 148/176 [54:52<10:22, 22.24s/it]"
     ]
    },
    {
     "name": "stdout",
     "output_type": "stream",
     "text": [
      "CURRENT QUD: ['successful']\n"
     ]
    },
    {
     "name": "stderr",
     "output_type": "stream",
     "text": [
      "\r",
      " 85%|████████▍ | 149/176 [55:26<10:02, 22.33s/it]"
     ]
    },
    {
     "name": "stdout",
     "output_type": "stream",
     "text": [
      "CURRENT QUD: ['super']\n"
     ]
    },
    {
     "name": "stderr",
     "output_type": "stream",
     "text": [
      "\r",
      " 85%|████████▌ | 150/176 [56:01<09:42, 22.41s/it]"
     ]
    },
    {
     "name": "stdout",
     "output_type": "stream",
     "text": [
      "CURRENT QUD: ['supposed']\n"
     ]
    },
    {
     "name": "stderr",
     "output_type": "stream",
     "text": [
      "\r",
      " 86%|████████▌ | 151/176 [56:42<09:23, 22.53s/it]"
     ]
    },
    {
     "name": "stdout",
     "output_type": "stream",
     "text": [
      "CURRENT QUD: ['sure']\n"
     ]
    },
    {
     "name": "stderr",
     "output_type": "stream",
     "text": [
      "\r",
      " 86%|████████▋ | 152/176 [57:17<09:02, 22.61s/it]"
     ]
    },
    {
     "name": "stdout",
     "output_type": "stream",
     "text": [
      "CURRENT QUD: ['surprising']\n"
     ]
    },
    {
     "name": "stderr",
     "output_type": "stream",
     "text": [
      "\r",
      " 87%|████████▋ | 153/176 [57:52<08:41, 22.69s/it]"
     ]
    },
    {
     "name": "stdout",
     "output_type": "stream",
     "text": [
      "CURRENT QUD: ['talented']\n"
     ]
    },
    {
     "name": "stderr",
     "output_type": "stream",
     "text": [
      "\r",
      " 88%|████████▊ | 154/176 [58:27<08:21, 22.78s/it]"
     ]
    },
    {
     "name": "stdout",
     "output_type": "stream",
     "text": [
      "CURRENT QUD: ['technical']\n"
     ]
    },
    {
     "name": "stderr",
     "output_type": "stream",
     "text": [
      "\r",
      " 88%|████████▊ | 155/176 [59:02<07:59, 22.86s/it]"
     ]
    },
    {
     "name": "stdout",
     "output_type": "stream",
     "text": [
      "CURRENT QUD: ['therapeutic']\n"
     ]
    },
    {
     "name": "stderr",
     "output_type": "stream",
     "text": [
      "\r",
      " 89%|████████▊ | 156/176 [59:38<07:38, 22.94s/it]"
     ]
    },
    {
     "name": "stdout",
     "output_type": "stream",
     "text": [
      "CURRENT QUD: ['true']\n"
     ]
    },
    {
     "name": "stderr",
     "output_type": "stream",
     "text": [
      "\r",
      " 89%|████████▉ | 157/176 [1:00:22<07:18, 23.07s/it]"
     ]
    },
    {
     "name": "stdout",
     "output_type": "stream",
     "text": [
      "CURRENT QUD: ['typical']\n"
     ]
    },
    {
     "name": "stderr",
     "output_type": "stream",
     "text": [
      "\r",
      " 90%|████████▉ | 158/176 [1:00:58<06:56, 23.16s/it]"
     ]
    },
    {
     "name": "stdout",
     "output_type": "stream",
     "text": [
      "CURRENT QUD: ['unable']\n"
     ]
    },
    {
     "name": "stderr",
     "output_type": "stream",
     "text": [
      "\r",
      " 90%|█████████ | 159/176 [1:01:34<06:34, 23.23s/it]"
     ]
    },
    {
     "name": "stdout",
     "output_type": "stream",
     "text": [
      "CURRENT QUD: ['unaware']\n"
     ]
    },
    {
     "name": "stderr",
     "output_type": "stream",
     "text": [
      "\r",
      " 91%|█████████ | 160/176 [1:02:09<06:12, 23.31s/it]"
     ]
    },
    {
     "name": "stdout",
     "output_type": "stream",
     "text": [
      "CURRENT QUD: ['unbeaten']\n"
     ]
    },
    {
     "name": "stderr",
     "output_type": "stream",
     "text": [
      "\r",
      " 91%|█████████▏| 161/176 [1:02:45<05:50, 23.39s/it]"
     ]
    },
    {
     "name": "stdout",
     "output_type": "stream",
     "text": [
      "CURRENT QUD: ['unclear']\n"
     ]
    },
    {
     "name": "stderr",
     "output_type": "stream",
     "text": [
      "\r",
      " 92%|█████████▏| 162/176 [1:03:20<05:28, 23.46s/it]"
     ]
    },
    {
     "name": "stdout",
     "output_type": "stream",
     "text": [
      "CURRENT QUD: ['undefeated']\n"
     ]
    },
    {
     "name": "stderr",
     "output_type": "stream",
     "text": [
      "\r",
      " 93%|█████████▎| 163/176 [1:03:56<05:05, 23.54s/it]"
     ]
    },
    {
     "name": "stdout",
     "output_type": "stream",
     "text": [
      "CURRENT QUD: ['undercover']\n"
     ]
    },
    {
     "name": "stderr",
     "output_type": "stream",
     "text": [
      "\r",
      " 93%|█████████▎| 164/176 [1:04:32<04:43, 23.61s/it]"
     ]
    },
    {
     "name": "stdout",
     "output_type": "stream",
     "text": [
      "CURRENT QUD: ['unlikely']\n"
     ]
    },
    {
     "name": "stderr",
     "output_type": "stream",
     "text": [
      "\r",
      " 94%|█████████▍| 165/176 [1:05:12<04:20, 23.71s/it]"
     ]
    },
    {
     "name": "stdout",
     "output_type": "stream",
     "text": [
      "CURRENT QUD: ['unrelated']\n"
     ]
    },
    {
     "name": "stderr",
     "output_type": "stream",
     "text": [
      "\r",
      " 94%|█████████▍| 166/176 [1:05:48<03:57, 23.78s/it]"
     ]
    },
    {
     "name": "stdout",
     "output_type": "stream",
     "text": [
      "CURRENT QUD: ['upcoming']\n"
     ]
    },
    {
     "name": "stderr",
     "output_type": "stream",
     "text": [
      "\r",
      " 95%|█████████▍| 167/176 [1:06:24<03:34, 23.86s/it]"
     ]
    },
    {
     "name": "stdout",
     "output_type": "stream",
     "text": [
      "CURRENT QUD: ['urgent']\n"
     ]
    },
    {
     "name": "stderr",
     "output_type": "stream",
     "text": [
      "\r",
      " 95%|█████████▌| 168/176 [1:07:00<03:11, 23.93s/it]"
     ]
    },
    {
     "name": "stdout",
     "output_type": "stream",
     "text": [
      "CURRENT QUD: ['various']\n"
     ]
    },
    {
     "name": "stderr",
     "output_type": "stream",
     "text": [
      "\r",
      " 96%|█████████▌| 169/176 [1:07:36<02:48, 24.00s/it]"
     ]
    },
    {
     "name": "stdout",
     "output_type": "stream",
     "text": [
      "CURRENT QUD: ['vice']\n"
     ]
    },
    {
     "name": "stderr",
     "output_type": "stream",
     "text": [
      "\r",
      " 97%|█████████▋| 170/176 [1:08:13<02:24, 24.08s/it]"
     ]
    },
    {
     "name": "stdout",
     "output_type": "stream",
     "text": [
      "CURRENT QUD: ['victorious']\n"
     ]
    },
    {
     "name": "stderr",
     "output_type": "stream",
     "text": [
      "\r",
      " 97%|█████████▋| 171/176 [1:08:50<02:00, 24.15s/it]"
     ]
    },
    {
     "name": "stdout",
     "output_type": "stream",
     "text": [
      "CURRENT QUD: ['widespread']\n"
     ]
    },
    {
     "name": "stderr",
     "output_type": "stream",
     "text": [
      "\r",
      " 98%|█████████▊| 172/176 [1:09:26<01:36, 24.22s/it]"
     ]
    },
    {
     "name": "stdout",
     "output_type": "stream",
     "text": [
      "CURRENT QUD: ['willing']\n"
     ]
    },
    {
     "name": "stderr",
     "output_type": "stream",
     "text": [
      "\r",
      " 98%|█████████▊| 173/176 [1:10:03<01:12, 24.30s/it]"
     ]
    },
    {
     "name": "stdout",
     "output_type": "stream",
     "text": [
      "CURRENT QUD: ['worried']\n"
     ]
    },
    {
     "name": "stderr",
     "output_type": "stream",
     "text": [
      "\r",
      " 99%|█████████▉| 174/176 [1:10:40<00:48, 24.37s/it]"
     ]
    },
    {
     "name": "stdout",
     "output_type": "stream",
     "text": [
      "CURRENT QUD: ['worse']\n"
     ]
    },
    {
     "name": "stderr",
     "output_type": "stream",
     "text": [
      "\r",
      " 99%|█████████▉| 175/176 [1:11:17<00:24, 24.44s/it]"
     ]
    },
    {
     "name": "stdout",
     "output_type": "stream",
     "text": [
      "CURRENT QUD: ['wrong']\n"
     ]
    },
    {
     "name": "stderr",
     "output_type": "stream",
     "text": [
      "100%|██████████| 176/176 [1:11:54<00:00, 24.52s/it]\n"
     ]
    },
    {
     "name": "stdout",
     "output_type": "stream",
     "text": [
      "time: 4314.7946853637695\n",
      "time: 136.85492730140686\n",
      "time: 90.68949031829834\n"
     ]
    }
   ],
   "source": [
    "\n",
    "# vec_size,vec_kind = 25,'glove.twitter.27B.'\n",
    "vec_size,vec_kind = 300,'glove.6B.'\n",
    "freqs = pickle.load(open('dist_rsa/data/google_freqs/freqs','rb'))\n",
    "nouns,adjs = get_words(with_freqs=False)\n",
    "vecs = load_vecs(mean=True,pca=False,vec_length=vec_size,vec_type=vec_kind) \n",
    "\n",
    "def l1_model(subj,pred):\n",
    "\n",
    "    print('abstract_threshold',abstract_threshold)\n",
    "    print('concrete_threshold',concrete_threshold)\n",
    "\n",
    "    qud_words = [a for a in list(adjs) if adjs[a] < abstract_threshold and a in vecs]\n",
    "\n",
    "    quds = sorted(qud_words,\\\n",
    "#         key=lambda x:scipy.spatial.distance.cosine(vecs[x],np.mean([vecs[pred],vecs[subj]],axis=0)),reverse=False)\n",
    "        key=lambda x:freqs[x],reverse=True)\n",
    "    \n",
    "    quds_near_subj = sorted(qud_words,\\\n",
    "         key=lambda x:scipy.spatial.distance.cosine(vecs[x],vecs[subj]),reverse=False)\n",
    "    \n",
    "    quds_near_pred = sorted(qud_words,\\\n",
    "         key=lambda x:scipy.spatial.distance.cosine(vecs[x],vecs[pred]),reverse=False)\n",
    "    \n",
    "    quds = quds_near_subj[:100]+quds_near_pred[:100]\n",
    "\n",
    "    noun_words = [n for n in nouns if nouns[n] > concrete_threshold and n in vecs]\n",
    "    possible_utterances = sorted(noun_words,\\\n",
    "#         key=lambda x: scipy.spatial.distance.cosine(vecs[x],np.mean([vecs[subj],vecs[subj]],axis=0)),reverse=False)\n",
    "        key=lambda x:freqs[x],reverse=True)\n",
    "\n",
    "\n",
    "    for x in possible_utterances:\n",
    "        if x not in vecs:\n",
    "            # print(x,\"not in vecs\")\n",
    "            possible_utterances.remove(x)\n",
    "            # raise Exception(\"utterance not in vecs\")\n",
    "\n",
    "    quds = sorted(list(set(quds[:200])))\n",
    "    possible_utterances = possible_utterances[:200]\n",
    "\n",
    "    print(\"QUDS\",quds) \n",
    "    print(\"UTTERANCES:\\n\",possible_utterances)\n",
    "#     raise Exception\n",
    "\n",
    "\n",
    "    params = Inference_Params(\n",
    "        vecs=vecs,\n",
    "        subject=[subj],predicate=pred,\n",
    "        quds=quds,\n",
    "        possible_utterances=list(set(possible_utterances).union(set([pred]))),\n",
    "        sig1=20.0,sig2=0.1,l1_sig1=20.0,\n",
    "        qud_weight=0.0,freq_weight=0.0,\n",
    "        number_of_qud_dimensions=1,\n",
    "        poss_utt_frequencies=defaultdict(lambda:1),\n",
    "        qud_frequencies=defaultdict(lambda:1),\n",
    "        rationality=1.0,\n",
    "        norm_vectors=True,\n",
    "        heatmap=False,\n",
    "        resolution=Resolution(span=10,number=100),\n",
    "        model_type=\"discrete_mixture\",\n",
    "        )\n",
    "\n",
    "    run = Dist_RSA_Inference(params)\n",
    "    run.compute_l1(load=0,save=False)\n",
    "\n",
    "\n",
    "    out = run.tf_results\n",
    "    tf.reset_default_graph()\n",
    "    return out,params\n",
    "\n",
    "    # world_means = run.world_samples\n",
    "    # print(world_means[:5],\"MEANS\")\n",
    "\n",
    "    # print(results[:5])\n",
    "\n",
    "    # if not is_baseline:\n",
    "    #     worldm = run.world_movement(\"cosine\",comparanda=[x for x in qud_words if x in vecs])\n",
    "    #     # print(\"\\nworld\\n\",worldm[:5])\n",
    "    # else: worldm = None\n",
    "        # out.write(\"\\nWORLD MOVEMENT:\\n\")\n",
    "        # out.write(str(worldm))\n",
    "    # print(\"WORLD MOVEMENT WITH PROJECTION\\n:\",run.world_movement(\"cosine\",comparanda=[x for x in quds if x in vecs],do_projection=True)[:50])\n",
    "    # print(\"BASELINE:\\n\",sorted(qud_words,\\\n",
    "    #     key=lambda x:scipy.spatial.distance.cosine(vecs[x],np.mean([vecs[subj],vecs[pred]],axis=0)),reverse=False)[:5])\n",
    "\n",
    "    # demarg = demarginalize_product_space(results)\n",
    "    # print(\"\\ndemarginalized:\\n,\",demarg[:5])\n",
    "    # out.write(\"\\ndemarginalized:\\n\")\n",
    "    # out.write((str(demarg)))\n",
    "\n",
    "    # params.number_of_qud_dimensions=1\n",
    "    # run = Dist_RSA_Inference(params)\n",
    "    # run.compute_l1(load=0,save=False)\n",
    "    # results2 = run.qud_results()\n",
    "    # # print(\"\\n1d results\\n\",results2[:10])\n",
    "    # one_d = results2\n",
    "    # one_d=None\n",
    "\n",
    "if __name__ == \"__main__\":\n",
    "\n",
    "    \n",
    "\n",
    "    # for x in range(1):\n",
    "    #     l1_model((\"father\",\"shark\",0.5,0.5,1.0,0,100,False))\n",
    "    results_dict={}\n",
    "#     for subj,pred in [(\"woman\",\"rose\"),(\"rose\",\"woman\")]:\n",
    "    for subj,pred in [(\"athletics\",\"drug\")]:\n",
    "    \n",
    "        results,params = l1_model(subj=subj,pred=pred)\n",
    "        results_dict[(subj,pred)]=params\n",
    "\n",
    "        # print()\n",
    "\n",
    "\n",
    "        # print(l1_model(subj=\"man\",pred=\"swimmer\"))\n",
    "\n",
    "        # print(scipy.spatial.distance.cosine(vecs['man']-means1[0],vecs['man']-means2[0]))\n",
    "        # worlds,quds=l1_model((\"wall\",\"frog\",1.0,1.0,1.0,0,1000,True))\n",
    "        # print(quds[:10])\n",
    "\n",
    "\n",
    "\n"
   ]
  },
  {
   "cell_type": "code",
   "execution_count": null,
   "metadata": {},
   "outputs": [],
   "source": []
  },
  {
   "cell_type": "code",
   "execution_count": null,
   "metadata": {},
   "outputs": [],
   "source": []
  },
  {
   "cell_type": "code",
   "execution_count": 7,
   "metadata": {},
   "outputs": [],
   "source": [
    "\n",
    "\n",
    "\n",
    "# r = Results_Pickler(results_dict=results_dict,path=\"dist_rsa/data/results/pickles/version8aug\")\n",
    "# r.save()\n",
    "  \n"
   ]
  },
  {
   "cell_type": "code",
   "execution_count": 8,
   "metadata": {},
   "outputs": [
    {
     "data": {
      "text/plain": [
       "'dist_rsa/data/results/pickles/version8aug'"
      ]
     },
     "execution_count": 8,
     "metadata": {},
     "output_type": "execute_result"
    }
   ],
   "source": [
    "r = Results_Pickler(path=\"dist_rsa/data/results/pickles/version8aug\")\n",
    "\n",
    "r.path"
   ]
  },
  {
   "cell_type": "code",
   "execution_count": 15,
   "metadata": {},
   "outputs": [
    {
     "data": {
      "text/plain": [
       "181"
      ]
     },
     "execution_count": 15,
     "metadata": {},
     "output_type": "execute_result"
    }
   ],
   "source": [
    "ps = results_dict[('athletics','drug')]\n",
    "ps.subspace_means.shape\n",
    "len(list(set(ps.quds)))\n",
    "# len(ps.possible_utterances)"
   ]
  },
  {
   "cell_type": "code",
   "execution_count": 13,
   "metadata": {},
   "outputs": [
    {
     "name": "stdout",
     "output_type": "stream",
     "text": [
      "RESOLUTION. SIZE: 50 AMOUNT: 0.2\n",
      "[('anti', 0.15462781), ('notorious', 0.15448633), ('reputed', 0.15232348), ('illicit', 0.14823292), ('illegal', 0.1456678), ('addictive', 0.14246722), ('undercover', 0.049794454), ('rampant', 0.013514529), ('preventive', 0.005445719), ('potent', 0.0032270728), ('therapeutic', 0.0028283074), ('fantastic', 0.002733437), ('adverse', 0.0012815271), ('excited', 0.0009721417), ('fake', 0.00058365427), ('great', 0.00057069096), ('excellent', 0.0005312935), ('classical', 0.00052203593), ('alleged', 0.0005024662), ('perfect', 0.000477063), ('secondary', 0.00042821112), ('corrupt', 0.0003994047), ('impressive', 0.00038713997), ('effective', 0.00033584016), ('grand', 0.00033361313), ('artistic', 0.00033261688), ('chronic', 0.00033213), ('immune', 0.00033170456), ('modern', 0.00031336228), ('infamous', 0.00029672167), ('extended', 0.00023948724), ('lucrative', 0.0002315106), ('continental', 0.00020693029), ('notable', 0.00020351086), ('dangerous', 0.00020254431), ('powerful', 0.00020193945), ('entire', 0.00019667247), ('positive', 0.00019085432), ('main', 0.00019045865), ('outstanding', 0.00018597858), ('proud', 0.000180598), ('consecutive', 0.00017781979), ('intramural', 0.00017274905), ('limited', 0.00016805867), ('good', 0.00016426583), ('typical', 0.00016144298), ('unrelated', 0.00016143313), ('true', 0.0001600205), ('guilty', 0.00015984479), ('fair', 0.00015731862), ('ready', 0.00015141192), ('regulatory', 0.00014841087), ('critical', 0.0001471032), ('technical', 0.00014597626), ('promising', 0.00014005024), ('inaugural', 0.00013643906), ('cultural', 0.00013586567), ('able', 0.00013156502), ('federal', 0.00013142056), ('different', 0.00013027055), ('important', 0.00012913061), ('attempted', 0.00012820394), ('widespread', 0.00012692704), ('classic', 0.00012545596), ('keen', 0.000121588666), ('reigning', 0.00012049527), ('talented', 0.00011957947), ('mental', 0.00011822239), ('pending', 0.000118056545), ('sophisticated', 0.000118027725), ('respective', 0.000117833384), ('frequent', 0.000117073505), ('independent', 0.00011700921), ('prestigious', 0.00011631141), ('experimental', 0.00011505461), ('best', 0.0001150195), ('necessary', 0.00011361706), ('surprising', 0.00011303604), ('extraordinary', 0.00011284991), ('actual', 0.000112313945), ('unaware', 0.00011164415), ('additional', 0.00011077533), ('cheap', 0.000110094545), ('unbeaten', 0.000109151144), ('potential', 0.000105805826), ('educational', 0.00010506578), ('municipal', 0.00010403838), ('special', 0.00010338638), ('personal', 0.00010073904), ('greater', 9.928018e-05), ('super', 9.876042e-05), ('annual', 9.823139e-05), ('martial', 9.823139e-05), ('sure', 9.793805e-05), ('complex', 9.7776785e-05), ('severe', 9.6873875e-05), ('academic', 9.6319665e-05), ('responsible', 9.6319665e-05), ('satisfied', 9.577447e-05), ('disappointed', 9.5587595e-05), ('available', 9.55526e-05), ('upcoming', 9.438752e-05), ('political', 9.362442e-05), ('regular', 9.29809e-05), ('advanced', 9.222355e-05), ('unable', 9.213352e-05), ('interested', 9.169595e-05), ('common', 9.0710666e-05), ('victorious', 9.058342e-05), ('pleased', 9.027984e-05), ('easy', 9.0109184e-05), ('designated', 8.986752e-05), ('renowned', 8.9015906e-05), ('encouraging', 8.871217e-05), ('difficult', 8.786615e-05), ('apparent', 8.737948e-05), ('extracurricular', 8.685308e-05), ('negative', 8.651447e-05), ('serious', 8.640892e-05), ('subsequent', 8.639838e-05), ('particular', 8.615088e-05), ('disciplinary', 8.570509e-05), ('undefeated', 8.548567e-05), ('popular', 8.53397e-05), ('appropriate', 8.5136795e-05), ('competitive', 8.445364e-05), ('ongoing', 8.434547e-05), ('free', 8.388341e-05), ('contending', 8.372995e-05), ('preliminary', 8.321539e-05), ('possible', 8.313924e-05), ('similar', 8.2977014e-05), ('significant', 8.2593004e-05), ('easier', 8.181532e-05), ('intense', 8.181532e-05), ('worse', 8.1770384e-05), ('legendary', 8.174044e-05), ('certain', 8.124802e-05), ('urgent', 8.10054e-05), ('likely', 8.0110534e-05), ('controversial', 8.0017686e-05), ('accredited', 7.9973746e-05), ('national', 7.9293284e-05), ('complicated', 7.92449e-05), ('wrong', 7.9167556e-05), ('social', 7.9104764e-05), ('other', 7.891188e-05), ('unlikely', 7.883004e-05), ('unclear', 7.882041e-05), ('extensive', 7.8805984e-05), ('defunct', 7.8767516e-05), ('worried', 7.8743484e-05), ('willing', 7.847e-05), ('various', 7.841255e-05), ('storied', 7.827867e-05), ('specific', 7.780709e-05), ('existing', 7.776436e-05), ('disappointing', 7.75416e-05), ('bad', 7.720159e-05), ('legal', 7.718275e-05), ('prior', 7.628353e-05), ('successful', 7.588418e-05), ('interscholastic', 7.5726864e-05), ('latest', 7.549151e-05), ('eligible', 7.5408614e-05), ('aware', 7.4858326e-05), ('supposed', 7.3396994e-05), ('longtime', 7.3021656e-05), ('concerned', 7.282137e-05), ('corporate', 7.249763e-05), ('overall', 7.14652e-05), ('vice', 7.119093e-05), ('major', 6.965649e-05), ('governing', 6.8631e-05), ('amateur', 6.685728e-05), ('professional', 6.530455e-05)]\n",
      "QUD reputed\n",
      "marginal mean 2.4869326315903653\n",
      "prior mean 1.2593665382911146\n"
     ]
    },
    {
     "data": {
      "image/png": "[encoded data removed]",
      "text/plain": [
       "<matplotlib.figure.Figure at 0x7f692158e9e8>"
      ]
     },
     "metadata": {},
     "output_type": "display_data"
    }
   ],
   "source": [
    "# ps = params\n",
    "ps = results_dict[('athletics','drug')]\n",
    "# ps = results_dict[('woman','rose')]\n",
    "# ps = r.retrieve(('athletics','drug'))\n",
    "res = Resolution(10.0,50)\n",
    "# res = ps.resolution\n",
    "# qud = sorted(ps.quds).index(\"effective\")\n",
    "# _,_,_ = visualize(ps,qud,res,'red')\n",
    "# print(\"QUD:\",ps.quds[qud])\n",
    "print(sorted(list(zip(sorted(ps.quds),ps.qud_marginals)),key=lambda x:x[1],reverse=True))\n",
    "\n",
    "# for i in range(len(ps.quds)):\n",
    "#     if i > 0: _,_,_ = visualize(params,i,res,'red')\n",
    "\n",
    "qud = sorted(ps.quds).index(\"anti\")\n",
    "print(\"QUD\",sorted(ps.quds)[qud])\n",
    "visualize(ps,qud,res,'red')\n",
    "\n",
    "#PRIOR\n",
    "# vals = scipy.stats.multivariate_normal.pdf(np.arange(-res.size,res.size)*res.amount,mean=params.subspace_prior_means[line][0],cov=5.0)\n",
    "# hm = matplotlib.pyplot.scatter(c='yellow',x=np.arange(-res.size,res.size)*res.amount,y=vals)\n"
   ]
  },
  {
   "cell_type": "code",
   "execution_count": null,
   "metadata": {},
   "outputs": [],
   "source": []
  },
  {
   "cell_type": "code",
   "execution_count": null,
   "metadata": {},
   "outputs": [],
   "source": []
  },
  {
   "cell_type": "code",
   "execution_count": null,
   "metadata": {},
   "outputs": [],
   "source": []
  },
  {
   "cell_type": "code",
   "execution_count": null,
   "metadata": {},
   "outputs": [],
   "source": []
  },
  {
   "cell_type": "code",
   "execution_count": null,
   "metadata": {},
   "outputs": [],
   "source": []
  },
  {
   "cell_type": "code",
   "execution_count": null,
   "metadata": {},
   "outputs": [],
   "source": []
  },
  {
   "cell_type": "code",
   "execution_count": 10,
   "metadata": {
    "scrolled": true
   },
   "outputs": [
    {
     "name": "stdout",
     "output_type": "stream",
     "text": [
      "UTTERANCES:\n",
      " ['man', 'shark', 'swimmer']\n",
      "RESOLUTION. SIZE: 100 AMOUNT: 0.1\n",
      "subject: ['child']\n",
      "predicate shark\n",
      "SIGs 1&2: 5.0 0.5\n",
      "L1 SIG 5.0\n",
      "number of qud dimensions: 1\n",
      "rationality: 1.0\n",
      "Running discrete_mixture RSA with 3 possible utterances and 2\n",
      "RUNNING DISCRETE MIXTURE MODEL\n",
      "qud_combinations 2 [['swims'], ['vicious']]\n",
      "quds 2\n",
      "SIZE,AMOUNT 100 0.1\n"
     ]
    },
    {
     "name": "stderr",
     "output_type": "stream",
     "text": [
      "\r",
      "  0%|          | 0/2 [00:00<?, ?it/s]"
     ]
    },
    {
     "name": "stdout",
     "output_type": "stream",
     "text": [
      "CURRENT QUD: ['swims']\n"
     ]
    },
    {
     "name": "stderr",
     "output_type": "stream",
     "text": [
      "\r",
      " 50%|█████     | 1/2 [00:02<00:02,  2.88s/it]"
     ]
    },
    {
     "name": "stdout",
     "output_type": "stream",
     "text": [
      "CURRENT QUD: ['vicious']\n"
     ]
    },
    {
     "name": "stderr",
     "output_type": "stream",
     "text": [
      "100%|██████████| 2/2 [00:05<00:00,  2.92s/it]\n"
     ]
    },
    {
     "name": "stdout",
     "output_type": "stream",
     "text": [
      "COVARIANCES [[5.        1.4298646]\n",
      " [5.        1.697474 ]]\n",
      "time: 7.0724101066589355\n",
      "time: 1.2253165245056152\n",
      "HEATMAP MEAN [-0.30686018  1.6534688 ]\n",
      "subspace_vector [[0.]\n",
      " [1.]] orthogonal_basis_np [[-1.  0.]\n",
      " [ 0.  1.]] line in orthogonal_basis [[0.]\n",
      " [1.]] qud index 0 var [[1.4298646]] cov at qud [5.        1.4298646]\n",
      "subspace_vector [[0.]\n",
      " [1.]] orthogonal_basis_np [[0. 1.]\n",
      " [1. 0.]] line in orthogonal_basis [[1.]\n",
      " [0.]] qud index 1 var [[5.]] cov at qud [5.       1.697474]\n",
      "subspace_vector [[1.]\n",
      " [0.]] orthogonal_basis_np [[-1.  0.]\n",
      " [ 0.  1.]] line in orthogonal_basis [[-1.]\n",
      " [ 0.]] qud index 0 var [[5.]] cov at qud [5.        1.4298646]\n",
      "subspace_vector [[1.]\n",
      " [0.]] orthogonal_basis_np [[0. 1.]\n",
      " [1. 0.]] line in orthogonal_basis [[0.]\n",
      " [1.]] qud index 1 var [[1.697474]] cov at qud [5.       1.697474]\n",
      "time: 18.862341165542603\n"
     ]
    }
   ],
   "source": [
    "from __future__ import division\n",
    "from collections import defaultdict\n",
    "import scipy\n",
    "import numpy as np\n",
    "import pickle\n",
    "import itertools\n",
    "from dist_rsa.dbm import *\n",
    "from dist_rsa.utils.load_data import *\n",
    "from dist_rsa.utils.helperfunctions import *\n",
    "from dist_rsa.utils.config import abstract_threshold,concrete_threshold\n",
    "%matplotlib inline\n",
    "import seaborn as sns\n",
    "import matplotlib.pyplot as plt\n",
    "import matplotlib\n",
    "import tensorflow as tf\n",
    "from dist_rsa.utils.simple_vecs import real_vecs as simple_vecs\n",
    "import itertools\n",
    "from dist_rsa.dbm import Resolution\n",
    "\n",
    "\n",
    "\n",
    "\n",
    "def l1_model(subj,pred,sig1,sig2,l1_sig1,quds,possible_utterances):\n",
    "    vec_size,vec_kind = 25,'glove.twitter.27B.'\n",
    "\n",
    "    vecs = simple_vecs\n",
    "    real_vecs= simple_vecs\n",
    "\n",
    "    print(\"UTTERANCES:\\n\",sorted(list(set(possible_utterances).union(set([pred]))))[:20])\n",
    "\n",
    "    params = Inference_Params(\n",
    "        vecs=real_vecs,\n",
    "        subject=[subj],predicate=pred,\n",
    "        quds=quds,\n",
    "        possible_utterances=sorted(list(set(possible_utterances).union(set([pred])))),\n",
    "        sig1=sig1,sig2=sig2, l1_sig1=l1_sig1,\n",
    "        qud_weight=0.0,freq_weight=0.0,\n",
    "        number_of_qud_dimensions=1,\n",
    "        poss_utt_frequencies=defaultdict(lambda:1),\n",
    "        qud_frequencies=defaultdict(lambda:1),\n",
    "        rationality=1.0,\n",
    "        norm_vectors=False,\n",
    "        resolution=Resolution(span=10,number=100),\n",
    "        model_type=\"discrete_mixture\",\n",
    "        heatmap=True,\n",
    "        calculate_projected_marginal_world_posterior=True,\n",
    "        )\n",
    "\n",
    "    run = Dist_RSA_Inference(params)\n",
    "    run.compute_l1(load=0,save=False)\n",
    "    tf_results = run.tf_results\n",
    "    return tf_results,params\n",
    "\n",
    "if __name__ == \"__main__\":\n",
    "\n",
    "    results,params = l1_model(subj=\"child\",pred=\"shark\",sig1=5.0,sig2=0.5,l1_sig1=5.0,quds=[\"vicious\",\"swims\"],possible_utterances=[\"shark\",\"swimmer\",\"man\"])\n"
   ]
  },
  {
   "cell_type": "code",
   "execution_count": 14,
   "metadata": {},
   "outputs": [
    {
     "name": "stdout",
     "output_type": "stream",
     "text": [
      "x 1.6534686896460529\n",
      "y -0.30685639061348846\n"
     ]
    },
    {
     "data": {
      "image/png": "[encoded data removed]",
      "text/plain": [
       "<matplotlib.figure.Figure at 0x7f8298760320>"
      ]
     },
     "metadata": {},
     "output_type": "display_data"
    }
   ],
   "source": [
    "# hm_vals = np.flip(np.flip(params.heatmaps[1],axis=0),axis=1)\n",
    "# print(params.means)\n",
    "# print(params.qud_marginals)\n",
    "# print(params.means*np.expand_dims(params.qud_marginals,1))\n",
    "# worlds = params.heatmaps[1]\n",
    "\n",
    "# print(np.array_equal(hms,params.heatmaps))\n",
    "# print(params.qud_marginals)\n",
    "# raise Exception\n",
    "\n",
    "# print(results[1])\n",
    "# print(params.qud_marginals)\n",
    "# raise Exception\n",
    "\n",
    "\n",
    "# transposed_hms = np.asarray([np.flip(params.heatmaps[0].T,axis=0),np.flip(params.heatmaps[1].T,axis=1)])\n",
    "# transposed_hms = np.asarray([params.heatmaps[0],params.heatmaps[1]])\n",
    "# worlds = np.sum(transposed_hms*np.reshape(params.qud_marginals,(2,1,1)),axis=0)\n",
    "# worlds = params_heatmaps[0]\n",
    "\n",
    "# worlds = np.flip(params.heatmaps[0].T,axis=0)\n",
    "# worlds = np.flip(params.heatmaps[1].T,axis=1)\n",
    "\n",
    "# print(worlds)\n",
    "worlds = params.worlds\n",
    "# raise Exception\n",
    "hm = matplotlib.pyplot.scatter(c='blue',x=(np.arange(-params.resolution.size, params.resolution.size+1)*params.resolution.amount),y=np.sum(worlds,axis=0))\n",
    "hm = matplotlib.pyplot.scatter(c='red',x=(np.arange(-params.resolution.size, params.resolution.size+1)*params.resolution.amount),y=np.sum(worlds,axis=1))\n",
    "\n",
    "x = np.sum(worlds,axis=0)\n",
    "print(\"x\",np.sum((np.arange(-params.resolution.size, params.resolution.size+1)*params.resolution.amount)*x))\n",
    "\n",
    "y = np.sum(worlds,axis=1)\n",
    "print(\"y\",np.sum((np.arange(-params.resolution.size, params.resolution.size+1)*params.resolution.amount)*y))\n"
   ]
  },
  {
   "cell_type": "code",
   "execution_count": 15,
   "metadata": {},
   "outputs": [
    {
     "name": "stdout",
     "output_type": "stream",
     "text": [
      "marginal mean -0.307034904178618\n",
      "prior mean -1.0\n",
      "marginal mean 1.6534728437245823\n",
      "prior mean 0.1\n"
     ]
    },
    {
     "data": {
      "image/png": "[encoded data removed]",
      "text/plain": [
       "<matplotlib.figure.Figure at 0x7f82987c2160>"
      ]
     },
     "metadata": {},
     "output_type": "display_data"
    }
   ],
   "source": [
    "# res = Resolution(5,100)\n",
    "res = params.resolution\n",
    "# res.amount=1\n",
    "# why is yellow and blue the same\n",
    "# a = visualize(params,1,res,'blue',q=0)\n",
    "# a = visualize(params,1,res,'red',q=1)\n",
    "# a = visualize(params,1,res,'yellow',q=None)\n",
    "# a = visualize(params,0,res,'green',q=None)\n",
    "a = visualize(params,0,res,'red',q=None)\n",
    "a = visualize(params,1,res,'blue',q=None)\n",
    "# visualize(params,1,res,'red',q=1)\n",
    "# visualize(params,1,res,'blue',q=0)\n",
    "# visualize(params,1,res,'blue',q=1)\n",
    "# _,_,_ = visualize(params,1,res,'blue')\n",
    "\n",
    "\n",
    "\n",
    "#PRIOR\n",
    "# vals = scipy.stats.multivariate_normal.pdf(np.arange(-res.size,res.size)*res.amount,mean=params.subspace_prior_means[0][0],cov=5.0)\n",
    "# hm = matplotlib.pyplot.scatter(c='yellow',x=np.arange(-res.size,res.size)*res.amount,y=vals)\n"
   ]
  },
  {
   "cell_type": "code",
   "execution_count": null,
   "metadata": {},
   "outputs": [],
   "source": []
  },
  {
   "cell_type": "code",
   "execution_count": null,
   "metadata": {},
   "outputs": [],
   "source": []
  },
  {
   "cell_type": "code",
   "execution_count": null,
   "metadata": {},
   "outputs": [],
   "source": []
  },
  {
   "cell_type": "code",
   "execution_count": null,
   "metadata": {},
   "outputs": [],
   "source": []
  },
  {
   "cell_type": "code",
   "execution_count": null,
   "metadata": {},
   "outputs": [],
   "source": []
  },
  {
   "cell_type": "code",
   "execution_count": null,
   "metadata": {},
   "outputs": [],
   "source": []
  },
  {
   "cell_type": "code",
   "execution_count": null,
   "metadata": {},
   "outputs": [],
   "source": []
  },
  {
   "cell_type": "code",
   "execution_count": null,
   "metadata": {},
   "outputs": [],
   "source": []
  },
  {
   "cell_type": "code",
   "execution_count": null,
   "metadata": {},
   "outputs": [],
   "source": []
  },
  {
   "cell_type": "code",
   "execution_count": null,
   "metadata": {},
   "outputs": [],
   "source": []
  },
  {
   "cell_type": "code",
   "execution_count": null,
   "metadata": {},
   "outputs": [],
   "source": []
  },
  {
   "cell_type": "code",
   "execution_count": null,
   "metadata": {},
   "outputs": [],
   "source": []
  },
  {
   "cell_type": "code",
   "execution_count": null,
   "metadata": {},
   "outputs": [],
   "source": []
  },
  {
   "cell_type": "code",
   "execution_count": 8,
   "metadata": {},
   "outputs": [
    {
     "name": "stdout",
     "output_type": "stream",
     "text": [
      "UTTERANCES:\n",
      " ['man', 'shark', 'swimmer']\n",
      "RESOLUTION. SIZE: 100 AMOUNT: 0.1\n",
      "subject: ['man']\n",
      "predicate swimmer\n",
      "SIGs 1&2: 5.0 0.5\n",
      "L1 SIG 5.0\n",
      "number of qud dimensions: 1\n",
      "rationality: 1.0\n",
      "Running discrete_exact RSA with 3 possible utterances and 2\n",
      "RUNNING DISCRETE EXACT MODEL\n",
      "QUDS: [['swims'], ['vicious']]\n",
      "sum should be unit 0.9999997\n",
      "MEAN [-0.7909157   0.81742287]\n"
     ]
    }
   ],
   "source": [
    "from __future__ import division\n",
    "from collections import defaultdict\n",
    "import scipy\n",
    "import numpy as np\n",
    "import pickle\n",
    "import itertools\n",
    "from dist_rsa.dbm import *\n",
    "from dist_rsa.utils.load_data import *\n",
    "from dist_rsa.utils.helperfunctions import *\n",
    "from dist_rsa.utils.config import abstract_threshold,concrete_threshold\n",
    "%matplotlib inline\n",
    "import seaborn as sns\n",
    "import matplotlib.pyplot as plt\n",
    "import matplotlib\n",
    "import tensorflow as tf\n",
    "from dist_rsa.utils.simple_vecs import real_vecs as simple_vecs\n",
    "import itertools\n",
    "from dist_rsa.dbm import Resolution\n",
    "\n",
    "\n",
    "\n",
    "\n",
    "def l1_model(subj,pred,sig1,sig2,l1_sig1,quds,possible_utterances):\n",
    "    vec_size,vec_kind = 25,'glove.twitter.27B.'\n",
    "\n",
    "    vecs = simple_vecs\n",
    "    real_vecs= simple_vecs\n",
    "\n",
    "    print(\"UTTERANCES:\\n\",sorted(list(set(possible_utterances).union(set([pred]))))[:20])\n",
    "\n",
    "    params = Inference_Params(\n",
    "        vecs=real_vecs,\n",
    "        subject=[subj],predicate=pred,\n",
    "        quds=quds,\n",
    "        possible_utterances=sorted(list(set(possible_utterances).union(set([pred])))),\n",
    "        sig1=sig1,sig2=sig2, l1_sig1=l1_sig1,\n",
    "        qud_weight=0.0,freq_weight=0.0,\n",
    "        number_of_qud_dimensions=1,\n",
    "        poss_utt_frequencies=defaultdict(lambda:1),\n",
    "        qud_frequencies=defaultdict(lambda:1),\n",
    "        rationality=1.0,\n",
    "        norm_vectors=False,\n",
    "        resolution=Resolution(span=10,number=100),\n",
    "        model_type=\"discrete_exact\",\n",
    "        heatmap=True\n",
    "        )\n",
    "\n",
    "    run = Dist_RSA_Inference(params)\n",
    "    run.compute_l1(load=0,save=False)\n",
    "    tf_results = run.tf_results\n",
    "    return tf_results,params\n",
    "\n",
    "if __name__ == \"__main__\":\n",
    "\n",
    "    results,params = l1_model(subj=\"man\",pred=\"swimmer\",sig1=5.0,sig2=0.5,l1_sig1=5.0,quds=[\"vicious\",\"swims\"],possible_utterances=[\"shark\",\"swimmer\",\"man\"])\n"
   ]
  },
  {
   "cell_type": "code",
   "execution_count": 10,
   "metadata": {},
   "outputs": [
    {
     "name": "stdout",
     "output_type": "stream",
     "text": [
      "-0.7908981402030009\n",
      "-0.8174242649214138\n"
     ]
    },
    {
     "data": {
      "image/png": "[encoded data removed]",
      "text/plain": [
       "<matplotlib.figure.Figure at 0x7f420cf10e10>"
      ]
     },
     "metadata": {},
     "output_type": "display_data"
    }
   ],
   "source": [
    "hm_vals = results[0]\n",
    "# *np.expand_dims(params.qud_marginals,1)\n",
    "# y=np.sum(hm_vals,axis=1)\n",
    "# x=(np.arange(-params.resolution.size,params.resolution.size)*params.resolution.amount)\n",
    "# print(x.shape,y.shape)\n",
    "hm = matplotlib.pyplot.scatter(c='blue',x=(np.arange(-params.resolution.size, params.resolution.size+1)*params.resolution.amount),y=np.sum(hm_vals,axis=0))\n",
    "# print((hm_vals))\n",
    "y = np.sum(hm_vals,axis=1)\n",
    "print(np.sum((np.arange(-params.resolution.size, params.resolution.size+1)*params.resolution.amount)*y))\n",
    "x = np.sum(hm_vals,axis=0)\n",
    "print(np.sum((np.arange(-params.resolution.size, params.resolution.size+1)*params.resolution.amount)*x))"
   ]
  },
  {
   "cell_type": "code",
   "execution_count": null,
   "metadata": {},
   "outputs": [],
   "source": []
  }
 ],
 "metadata": {
  "kernelspec": {
   "display_name": "Python 3",
   "language": "python",
   "name": "python3"
  },
  "language_info": {
   "codemirror_mode": {
    "name": "ipython",
    "version": 3
   },
   "file_extension": ".py",
   "mimetype": "text/x-python",
   "name": "python",
   "nbconvert_exporter": "python",
   "pygments_lexer": "ipython3",
   "version": "3.5.2"
  }
 },
 "nbformat": 4,
 "nbformat_minor": 2
}
