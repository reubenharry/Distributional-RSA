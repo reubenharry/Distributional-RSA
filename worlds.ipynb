{
 "cells": [
  {
   "cell_type": "code",
   "execution_count": 182,
   "metadata": {
    "scrolled": true
   },
   "outputs": [
    {
     "name": "stdout",
     "output_type": "stream",
     "text": [
      "\n",
      "loading vecs (load vecs): glove.6B.mean_vecs300\n",
      "abstract_threshold 2.5\n",
      "concrete_threshold 3.0\n"
     ]
    },
    {
     "name": "stderr",
     "output_type": "stream",
     "text": [
      "\r",
      "  0%|          | 0/30 [00:00<?, ?it/s]"
     ]
    },
    {
     "name": "stdout",
     "output_type": "stream",
     "text": [
      "QUDS ['wild', 'rare', 'similar', 'latest', 'prized', 'good', 'famous', 'great', 'mysterious', 'other']\n",
      "UTTERANCES:\n",
      " ['man', 'woman', 'person', 'boy', 'men', 'father', 'girl', 'guy', 'hand', 'brother']\n",
      "RESOLUTION. SIZE: 100 AMOUNT: 0.1\n",
      "subject: ['man']\n",
      "predicate shark\n",
      "SIGs 1&2: 10.0 1.0\n",
      "L1 SIG 10.0\n",
      "number of qud dimensions: 1\n",
      "rationality: 1.0\n",
      "Running discrete_mixture RSA with 1000 possible utterances and 30\n",
      "RUNNING DISCRETE MIXTURE MODEL\n",
      "qud_combinations 30 [['bad'], ['best'], ['common'], ['dangerous'], ['exotic'], ['famous'], ['good'], ['great'], ['latest'], ['likely'], ['lone'], ['mega'], ['mysterious'], ['natural'], ['occasional'], ['other'], ['particular'], ['prized'], ['rare'], ['similar'], ['spectacular'], ['strange'], ['supposed'], ['true'], ['typical'], ['uncommon'], ['unusual'], ['usual'], ['vulnerable'], ['wild']]\n",
      "quds 30\n",
      "SIZE,AMOUNT 100 0.1\n"
     ]
    },
    {
     "name": "stderr",
     "output_type": "stream",
     "text": [
      "100%|██████████| 30/30 [02:20<00:00,  4.69s/it]\n"
     ]
    },
    {
     "name": "stdout",
     "output_type": "stream",
     "text": [
      "time: 140.6722252368927\n",
      "time: 39.94274950027466\n",
      "time: 16.955578088760376\n"
     ]
    }
   ],
   "source": [
    "from __future__ import division\n",
    "from collections import defaultdict\n",
    "import scipy\n",
    "import numpy as np\n",
    "import pickle\n",
    "import itertools\n",
    "from dist_rsa.dbm import *\n",
    "from dist_rsa.utils.load_data import *\n",
    "from dist_rsa.utils.helperfunctions import *\n",
    "from dist_rsa.utils.config import abstract_threshold,concrete_threshold\n",
    "%matplotlib inline\n",
    "import seaborn as sns\n",
    "import matplotlib.pyplot as plt\n",
    "import matplotlib\n",
    "import tensorflow as tf\n",
    "\n",
    "# vec_size,vec_kind = 25,'glove.twitter.27B.'\n",
    "vec_size,vec_kind = 300,'glove.6B.'\n",
    "# freqs = pickle.load(open('dist_rsa/data/google_freqs/freqs','rb'))\n",
    "nouns,adjs = get_words(with_freqs=False)\n",
    "vecs = load_vecs(mean=True,pca=False,vec_length=vec_size,vec_type=vec_kind) \n",
    "\n",
    "def l1_model(subj,pred):\n",
    "\n",
    "    print('abstract_threshold',abstract_threshold)\n",
    "    print('concrete_threshold',concrete_threshold)\n",
    "\n",
    "    qud_words = [a for a in list(adjs) if adjs[a] < abstract_threshold and a in vecs]\n",
    "\n",
    "    quds = sorted(qud_words,\\\n",
    "        key=lambda x:scipy.spatial.distance.cosine(vecs[x],np.mean([vecs[pred],vecs[pred]],axis=0)),reverse=False)\n",
    "        # key=lambda x:freqs[x],reverse=True)\n",
    "\n",
    "    noun_words = [n for n in nouns if nouns[n] > concrete_threshold and n in vecs]\n",
    "    possible_utterances = sorted(noun_words,\\\n",
    "        key=lambda x: scipy.spatial.distance.cosine(vecs[x],np.mean([vecs[subj],vecs[subj]],axis=0)),reverse=False)\n",
    "        # key=lambda x:freqs[x],reverse=True)\n",
    "\n",
    "\n",
    "    for x in possible_utterances:\n",
    "        if x not in vecs:\n",
    "            # print(x,\"not in vecs\")\n",
    "            possible_utterances.remove(x)\n",
    "            # raise Exception(\"utterance not in vecs\")\n",
    "\n",
    "    quds = quds[:30]\n",
    "    possible_utterances = possible_utterances[:1000]\n",
    "\n",
    "    print(\"QUDS\",quds[:10]) \n",
    "    print(\"UTTERANCES:\\n\",possible_utterances[:10])\n",
    "\n",
    "\n",
    "    params = Inference_Params(\n",
    "        vecs=vecs,\n",
    "        subject=[subj],predicate=pred,\n",
    "        quds=quds,\n",
    "        possible_utterances=list(set(possible_utterances).union(set([pred]))),\n",
    "        sig1=10.0,sig2=1.0,l1_sig1=10.0,\n",
    "        qud_weight=0.0,freq_weight=0.0,\n",
    "        number_of_qud_dimensions=1,\n",
    "        poss_utt_frequencies=defaultdict(lambda:1),\n",
    "        qud_frequencies=defaultdict(lambda:1),\n",
    "        rationality=1.0,\n",
    "        norm_vectors=False,\n",
    "        heatmap=False,\n",
    "        resolution=Resolution(span=10,number=100),\n",
    "        model_type=\"discrete_mixture\",\n",
    "        )\n",
    "\n",
    "    run = Dist_RSA_Inference(params)\n",
    "    run.compute_l1(load=0,save=False)\n",
    "\n",
    "\n",
    "    out = run.tf_results\n",
    "    tf.reset_default_graph()\n",
    "    return out,params\n",
    "\n",
    "    # world_means = run.world_samples\n",
    "    # print(world_means[:5],\"MEANS\")\n",
    "\n",
    "    # print(results[:5])\n",
    "\n",
    "    # if not is_baseline:\n",
    "    #     worldm = run.world_movement(\"cosine\",comparanda=[x for x in qud_words if x in vecs])\n",
    "    #     # print(\"\\nworld\\n\",worldm[:5])\n",
    "    # else: worldm = None\n",
    "        # out.write(\"\\nWORLD MOVEMENT:\\n\")\n",
    "        # out.write(str(worldm))\n",
    "    # print(\"WORLD MOVEMENT WITH PROJECTION\\n:\",run.world_movement(\"cosine\",comparanda=[x for x in quds if x in vecs],do_projection=True)[:50])\n",
    "    # print(\"BASELINE:\\n\",sorted(qud_words,\\\n",
    "    #     key=lambda x:scipy.spatial.distance.cosine(vecs[x],np.mean([vecs[subj],vecs[pred]],axis=0)),reverse=False)[:5])\n",
    "\n",
    "    # demarg = demarginalize_product_space(results)\n",
    "    # print(\"\\ndemarginalized:\\n,\",demarg[:5])\n",
    "    # out.write(\"\\ndemarginalized:\\n\")\n",
    "    # out.write((str(demarg)))\n",
    "\n",
    "    # params.number_of_qud_dimensions=1\n",
    "    # run = Dist_RSA_Inference(params)\n",
    "    # run.compute_l1(load=0,save=False)\n",
    "    # results2 = run.qud_results()\n",
    "    # # print(\"\\n1d results\\n\",results2[:10])\n",
    "    # one_d = results2\n",
    "    # one_d=None\n",
    "\n",
    "if __name__ == \"__main__\":\n",
    "\n",
    "    \n",
    "\n",
    "    # for x in range(1):\n",
    "    #     l1_model((\"father\",\"shark\",0.5,0.5,1.0,0,100,False))\n",
    "    subj,pred = \"man\",\"shark\"\n",
    "    result,params = l1_model(subj=subj,pred=pred)\n",
    "\n",
    "\n",
    "        # print()\n",
    "\n",
    "\n",
    "        # print(l1_model(subj=\"man\",pred=\"swimmer\"))\n",
    "\n",
    "        # print(scipy.spatial.distance.cosine(vecs['man']-means1[0],vecs['man']-means2[0]))\n",
    "        # worlds,quds=l1_model((\"wall\",\"frog\",1.0,1.0,1.0,0,1000,True))\n",
    "        # print(quds[:10])\n",
    "\n",
    "\n",
    "\n"
   ]
  },
  {
   "cell_type": "code",
   "execution_count": 181,
   "metadata": {},
   "outputs": [
    {
     "data": {
      "text/plain": [
       "(None, [(['vicious'], 'n/a', 0.61206895), (['swims'], 'n/a', 0.387931)])"
      ]
     },
     "execution_count": 181,
     "metadata": {},
     "output_type": "execute_result"
    }
   ],
   "source": [
    "results"
   ]
  },
  {
   "cell_type": "code",
   "execution_count": null,
   "metadata": {},
   "outputs": [],
   "source": []
  },
  {
   "cell_type": "code",
   "execution_count": 179,
   "metadata": {},
   "outputs": [
    {
     "data": {
      "text/plain": [
       "(2.6060004662333767, 3.9352563244473613)"
      ]
     },
     "execution_count": 179,
     "metadata": {},
     "output_type": "execute_result"
    },
    {
     "data": {
      "image/png": "[encoded data removed]",
      "text/plain": [
       "<matplotlib.figure.Figure at 0x7f75a64b0c50>"
      ]
     },
     "metadata": {},
     "output_type": "display_data"
    }
   ],
   "source": [
    "visualize(params,0,100,0.01)\n",
    "\n",
    "# params.subspace_means[0][0]\n"
   ]
  },
  {
   "cell_type": "code",
   "execution_count": 110,
   "metadata": {},
   "outputs": [
    {
     "data": {
      "text/plain": [
       "3.9352563244473613"
      ]
     },
     "execution_count": 110,
     "metadata": {},
     "output_type": "execute_result"
    }
   ],
   "source": [
    "params.subspace_prior_means[0][0]\n",
    "# params.subspace_means[0][0]"
   ]
  },
  {
   "cell_type": "code",
   "execution_count": 106,
   "metadata": {},
   "outputs": [
    {
     "data": {
      "image/png": "[encoded data removed]",
      "text/plain": [
       "<matplotlib.figure.Figure at 0x7f75a70f09e8>"
      ]
     },
     "metadata": {},
     "output_type": "display_data"
    }
   ],
   "source": [
    "visualize(params,0,1000,0.02)"
   ]
  },
  {
   "cell_type": "code",
   "execution_count": 39,
   "metadata": {},
   "outputs": [
    {
     "data": {
      "image/png": "[encoded data removed]",
      "text/plain": [
       "<matplotlib.figure.Figure at 0x7ff349abd550>"
      ]
     },
     "metadata": {},
     "output_type": "display_data"
    }
   ],
   "source": [
    "# params.subspace_prior_means.shape\n",
    "vals = scipy.stats.multivariate_normal.pdf(np.arange(-50,50)+params.subspace_prior_means[3][0],mean=params.subspace_prior_means[3][0],cov=20.0)\n",
    "hm = matplotlib.pyplot.scatter(x=np.arange(-50,50)+params.subspace_prior_means[3][0],y=vals)\n"
   ]
  },
  {
   "cell_type": "code",
   "execution_count": 162,
   "metadata": {},
   "outputs": [
    {
     "name": "stderr",
     "output_type": "stream",
     "text": [
      "\r",
      "  0%|          | 0/2 [00:00<?, ?it/s]"
     ]
    },
    {
     "name": "stdout",
     "output_type": "stream",
     "text": [
      "UTTERANCES:\n",
      " ['man', 'shark', 'swimmer']\n",
      "RESOLUTION. SIZE: 100 AMOUNT: 0.025\n",
      "subject: ['man']\n",
      "predicate shark\n",
      "SIGs 1&2: 5.0 0.5\n",
      "L1 SIG 5.0\n",
      "number of qud dimensions: 1\n",
      "rationality: 1.0\n",
      "Running discrete_mixture RSA with 3 possible utterances and 2\n",
      "RUNNING DISCRETE MIXTURE MODEL\n",
      "qud_combinations 2 [['swims'], ['vicious']]\n",
      "quds 2\n",
      "SIZE,AMOUNT 100 0.025\n",
      "CURRENT QUD: ['swims']\n"
     ]
    },
    {
     "name": "stderr",
     "output_type": "stream",
     "text": [
      "\r",
      " 50%|█████     | 1/2 [00:05<00:05,  5.68s/it]"
     ]
    },
    {
     "name": "stdout",
     "output_type": "stream",
     "text": [
      "CURRENT QUD: ['vicious']\n"
     ]
    },
    {
     "name": "stderr",
     "output_type": "stream",
     "text": [
      "100%|██████████| 2/2 [00:10<00:00,  5.32s/it]\n"
     ]
    },
    {
     "name": "stdout",
     "output_type": "stream",
     "text": [
      "time: 10.64478874206543\n",
      "time: 3.659334421157837\n",
      "marginal means [0.39038097 1.26821486]\n",
      "time: 1.9187841415405273\n"
     ]
    }
   ],
   "source": [
    "from __future__ import division\n",
    "from collections import defaultdict\n",
    "import scipy\n",
    "import numpy as np\n",
    "import pickle\n",
    "import itertools\n",
    "from dist_rsa.dbm import *\n",
    "from dist_rsa.utils.load_data import *\n",
    "from dist_rsa.utils.helperfunctions import *\n",
    "from dist_rsa.utils.config import abstract_threshold,concrete_threshold\n",
    "%matplotlib inline\n",
    "import seaborn as sns\n",
    "import matplotlib.pyplot as plt\n",
    "import matplotlib\n",
    "import tensorflow as tf\n",
    "from dist_rsa.utils.simple_vecs import real_vecs as simple_vecs\n",
    "import itertools\n",
    "from dist_rsa.dbm import Resolution\n",
    "\n",
    "\n",
    "\n",
    "\n",
    "def l1_model(subj,pred,sig1,sig2,l1_sig1,quds,possible_utterances):\n",
    "    vec_size,vec_kind = 25,'glove.twitter.27B.'\n",
    "\n",
    "    vecs = simple_vecs\n",
    "    real_vecs= simple_vecs\n",
    "\n",
    "    print(\"UTTERANCES:\\n\",sorted(list(set(possible_utterances).union(set([pred]))))[:20])\n",
    "\n",
    "    params = Inference_Params(\n",
    "        vecs=real_vecs,\n",
    "        subject=[subj],predicate=pred,\n",
    "        quds=quds,\n",
    "        possible_utterances=sorted(list(set(possible_utterances).union(set([pred])))),\n",
    "        sig1=sig1,sig2=sig2, l1_sig1=l1_sig1,\n",
    "        qud_weight=0.0,freq_weight=0.0,\n",
    "        number_of_qud_dimensions=1,\n",
    "        poss_utt_frequencies=defaultdict(lambda:1),\n",
    "        qud_frequencies=defaultdict(lambda:1),\n",
    "        rationality=1.0,\n",
    "        norm_vectors=False,\n",
    "        resolution=Resolution(span=2.5,number=100),\n",
    "        model_type=\"discrete_mixture\",\n",
    "        heatmap=False\n",
    "        )\n",
    "\n",
    "    run = Dist_RSA_Inference(params)\n",
    "    run.compute_l1(load=0,save=False)\n",
    "    tf_results = run.tf_results\n",
    "    return tf_results,params\n",
    "\n",
    "if __name__ == \"__main__\":\n",
    "\n",
    "    results,params = l1_model(subj=\"man\",pred=\"shark\",sig1=5.0,sig2=0.5,l1_sig1=5.0,quds=[\"vicious\",\"swims\"],possible_utterances=[\"shark\",\"swimmer\",\"man\"])\n"
   ]
  },
  {
   "cell_type": "code",
   "execution_count": 171,
   "metadata": {},
   "outputs": [],
   "source": [
    "def visualize(params,line,res,c):\n",
    "\n",
    "    cond_probs = np.zeros((len(params.quds), res.size*2))\n",
    "    for qud_index in range(len(params.quds)):\n",
    "\n",
    "        subspace_mean,subspace_prior_mean,subspace_variance = params.subspace_means[line][qud_index],params.subspace_prior_means[line][qud_index],params.subspace_variances[line][qud_index]\n",
    "\n",
    "        vals=scipy.stats.multivariate_normal.pdf((np.arange(-res.size,res.size)*res.amount),mean=subspace_mean,cov=subspace_variance)\n",
    "        cond_probs[qud_index]=vals\n",
    "        \n",
    "#         print(scipy.stats.multivariate_normal.pdf([1,2,3],mean=subspace_mean,cov=subspace_variance))\n",
    "#         print(vals.shape)\n",
    "#         print(subspace_mean)\n",
    "#         print(\"CHECK\",np.sum((np.arange(-size,size)*scale+subspace_prior_mean)*vals))\n",
    "\n",
    "#     print(params.subspace_means.shape)\n",
    "#     print(params.subspace_means)\n",
    "    marginal_mean = np.sum(params.subspace_means[line]*params.qud_marginals)\n",
    "    print(\"marginal mean\",marginal_mean)\n",
    "    marginal = np.sum(cond_probs*np.expand_dims(params.qud_marginals,1),axis=0)\n",
    "#     print(\"CHECK1\",np.sum(marginal),marginal.shape)\n",
    "#     marginal /= np.sum(marginal)\n",
    "#     print(\"CHECK2\",np.sum(marginal),marginal.shape)\n",
    "    hm = matplotlib.pyplot.scatter(c=c,x=(np.arange(-res.size,res.size)*res.amount),y=marginal)\n",
    "#     hm_2 = matplotlib.pyplot.scatter(x=(np.arange(-size,size)*scale)+params.subspace_prior_means[line][0],y=marginal)\n",
    "#     print(params.qud_marginals)\n",
    "#     print(\"should be equal\",np.mean(marginal),marginal_means[line])\n",
    "    return marginal,marginal_mean,params.subspace_prior_means[line][0]\n",
    "#     return marginal_means[line]*np.exp(params.qud_marginals)"
   ]
  },
  {
   "cell_type": "code",
   "execution_count": 172,
   "metadata": {},
   "outputs": [
    {
     "name": "stdout",
     "output_type": "stream",
     "text": [
      "RESOLUTION. SIZE: 100 AMOUNT: 0.05\n",
      "marginal mean 0.3903809711318722\n",
      "marginal mean 1.2682148581132253\n"
     ]
    },
    {
     "data": {
      "image/png": "[encoded data removed]",
      "text/plain": [
       "<matplotlib.figure.Figure at 0x7f9f2595ea58>"
      ]
     },
     "metadata": {},
     "output_type": "display_data"
    }
   ],
   "source": [
    "res = Resolution(5,100)\n",
    "_,_,_ = visualize(params,0,res,'red')\n",
    "_,_,_ = visualize(params,1,res,'blue')\n",
    "\n",
    "#PRIOR\n",
    "vals = scipy.stats.multivariate_normal.pdf(np.arange(-res.size,res.size)*res.amount,mean=params.subspace_prior_means[0][0],cov=5.0)\n",
    "hm = matplotlib.pyplot.scatter(c='yellow',x=np.arange(-res.size,res.size)*res.amount,y=vals)\n"
   ]
  },
  {
   "cell_type": "code",
   "execution_count": 143,
   "metadata": {},
   "outputs": [],
   "source": []
  },
  {
   "cell_type": "code",
   "execution_count": null,
   "metadata": {},
   "outputs": [],
   "source": []
  },
  {
   "cell_type": "code",
   "execution_count": null,
   "metadata": {},
   "outputs": [],
   "source": []
  },
  {
   "cell_type": "code",
   "execution_count": null,
   "metadata": {},
   "outputs": [],
   "source": []
  },
  {
   "cell_type": "code",
   "execution_count": null,
   "metadata": {},
   "outputs": [],
   "source": []
  },
  {
   "cell_type": "code",
   "execution_count": null,
   "metadata": {},
   "outputs": [],
   "source": []
  },
  {
   "cell_type": "code",
   "execution_count": null,
   "metadata": {},
   "outputs": [],
   "source": []
  },
  {
   "cell_type": "code",
   "execution_count": null,
   "metadata": {},
   "outputs": [],
   "source": []
  },
  {
   "cell_type": "code",
   "execution_count": null,
   "metadata": {},
   "outputs": [],
   "source": []
  },
  {
   "cell_type": "code",
   "execution_count": null,
   "metadata": {},
   "outputs": [],
   "source": []
  },
  {
   "cell_type": "code",
   "execution_count": null,
   "metadata": {},
   "outputs": [],
   "source": []
  },
  {
   "cell_type": "code",
   "execution_count": null,
   "metadata": {},
   "outputs": [],
   "source": []
  },
  {
   "cell_type": "code",
   "execution_count": null,
   "metadata": {},
   "outputs": [],
   "source": []
  },
  {
   "cell_type": "code",
   "execution_count": null,
   "metadata": {},
   "outputs": [],
   "source": []
  },
  {
   "cell_type": "code",
   "execution_count": null,
   "metadata": {},
   "outputs": [],
   "source": []
  }
 ],
 "metadata": {
  "kernelspec": {
   "display_name": "Python 3",
   "language": "python",
   "name": "python3"
  },
  "language_info": {
   "codemirror_mode": {
    "name": "ipython",
    "version": 3
   },
   "file_extension": ".py",
   "mimetype": "text/x-python",
   "name": "python",
   "nbconvert_exporter": "python",
   "pygments_lexer": "ipython3",
   "version": "3.5.2"
  }
 },
 "nbformat": 4,
 "nbformat_minor": 2
}
