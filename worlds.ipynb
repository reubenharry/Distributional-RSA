{
 "cells": [
  {
   "cell_type": "code",
   "execution_count": 1,
   "metadata": {},
   "outputs": [],
   "source": [
    "def visualize(params,line,res,c):\n",
    "\n",
    "    cond_probs = np.zeros((len(params.quds), res.size*2))\n",
    "    for qud_index in range(len(params.quds)):\n",
    "\n",
    "        subspace_mean,subspace_prior_mean,subspace_variance = params.subspace_means[line][qud_index],params.subspace_prior_means[line][qud_index],params.subspace_variances[line][qud_index]\n",
    "#         print(\"prior meannn\",subspace_prior_mean)\n",
    "        vals=scipy.stats.multivariate_normal.pdf((np.arange(-res.size,res.size)*res.amount),mean=subspace_mean,cov=subspace_variance)\n",
    "        vals/=np.sum(vals)\n",
    "        cond_probs[qud_index]=vals\n",
    "        \n",
    "#         print(scipy.stats.multivariate_normal.pdf([1,2,3],mean=subspace_mean,cov=subspace_variance))\n",
    "#         print(vals.shape)\n",
    "#         print(subspace_mean)\n",
    "#         print(\"CHECK\",np.sum((np.arange(-size,size)*scale+subspace_prior_mean)*vals))\n",
    "\n",
    "#     print(params.subspace_means.shape)\n",
    "#     print(params.subspace_means)\n",
    "#     print(\"SUBSPACE MEANS\",params.subspace_means)\n",
    "    marginal_mean = np.sum(params.subspace_means[line]*params.qud_marginals)\n",
    "    print(\"marginal mean\",marginal_mean)\n",
    "    print(\"prior mean\",subspace_prior_mean)\n",
    "    marginal = np.sum(cond_probs*np.expand_dims(params.qud_marginals,1),axis=0)\n",
    "    print(\"CHECK\",np.sum(marginal*(np.arange(-res.size,res.size)*res.amount)))\n",
    "    hm = matplotlib.pyplot.scatter(c=c,x=(np.arange(-res.size,res.size)*res.amount),y=marginal)\n",
    "    print(\"PRIOR MEAN\",params.subspace_prior_means[line][0])\n",
    "    prior_vals = scipy.stats.multivariate_normal.pdf(np.arange(-res.size,res.size)*res.amount,mean=params.subspace_prior_means[line][0],cov=params.l1_sig1)\n",
    "    prior_vals/=np.sum(prior_vals)\n",
    "    prior_hm = matplotlib.pyplot.scatter(c='yellow',x=np.arange(-res.size,res.size)*res.amount,y=prior_vals)\n",
    "    \n",
    "#     hm_2 = matplotlib.pyplot.scatter(x=(np.arange(-size,size)*scale)+params.subspace_prior_means[line][0],y=marginal)\n",
    "    return marginal,marginal_mean,params.subspace_prior_means[line][0]\n",
    "#     return marginal_means[line]*np.exp(params.qud_marginals)"
   ]
  },
  {
   "cell_type": "code",
   "execution_count": null,
   "metadata": {
    "scrolled": true
   },
   "outputs": [
    {
     "name": "stdout",
     "output_type": "stream",
     "text": [
      "\n",
      "loading vecs (load vecs): glove.6B.mean_vecs300\n",
      "abstract_threshold 2.5\n",
      "concrete_threshold 3.0\n",
      "QUDS ['longtime', 'main', 'major', 'founding', 'other', 'alleged', 'responsible', 'particular', 'political', 'important']\n",
      "UTTERANCES:\n",
      " ['principal', 'associate', 'assistant', 'chief', 'teacher', 'key', 'director', 'present', 'example', 'school']\n",
      "RESOLUTION. SIZE: 100 AMOUNT: 0.1\n",
      "subject: ['principal']\n",
      "predicate dictator\n",
      "SIGs 1&2: 20.0 0.1\n",
      "L1 SIG 20.0\n",
      "number of qud dimensions: 1\n",
      "rationality: 1.0\n",
      "Running discrete_mixture RSA with 201 possible utterances and 50\n",
      "RUNNING DISCRETE MIXTURE MODEL\n"
     ]
    },
    {
     "name": "stderr",
     "output_type": "stream",
     "text": [
      "\r",
      "  0%|          | 0/50 [00:00<?, ?it/s]"
     ]
    },
    {
     "name": "stdout",
     "output_type": "stream",
     "text": [
      "qud_combinations 50 [['alleged'], ['beloved'], ['best'], ['brutal'], ['certain'], ['civil'], ['common'], ['corrupt'], ['critical'], ['democratic'], ['different'], ['effective'], ['evil'], ['famous'], ['fascist'], ['foremost'], ['founding'], ['good'], ['great'], ['important'], ['legal'], ['legitimate'], ['likely'], ['longtime'], ['loyal'], ['main'], ['major'], ['national'], ['notorious'], ['original'], ['other'], ['particular'], ['political'], ['popular'], ['possible'], ['primary'], ['prime'], ['prior'], ['prominent'], ['responsible'], ['revolutionary'], ['significant'], ['supposed'], ['supreme'], ['sure'], ['true'], ['tyrannical'], ['unknown'], ['various'], ['vice']]\n",
      "quds 50\n",
      "SIZE,AMOUNT 100 0.1\n",
      "CURRENT QUD: ['alleged']\n",
      "(2, 2, 4)\n",
      "(2, 2, 3, 4)\n"
     ]
    },
    {
     "name": "stderr",
     "output_type": "stream",
     "text": [
      "\r",
      "  2%|▏         | 1/50 [00:02<02:21,  2.88s/it]"
     ]
    },
    {
     "name": "stdout",
     "output_type": "stream",
     "text": [
      "CURRENT QUD: ['beloved']\n"
     ]
    },
    {
     "name": "stderr",
     "output_type": "stream",
     "text": [
      "\r",
      "  4%|▍         | 2/50 [00:05<02:04,  2.59s/it]"
     ]
    },
    {
     "name": "stdout",
     "output_type": "stream",
     "text": [
      "CURRENT QUD: ['best']\n"
     ]
    },
    {
     "name": "stderr",
     "output_type": "stream",
     "text": [
      "\r",
      "  6%|▌         | 3/50 [00:07<01:59,  2.55s/it]"
     ]
    },
    {
     "name": "stdout",
     "output_type": "stream",
     "text": [
      "CURRENT QUD: ['brutal']\n"
     ]
    },
    {
     "name": "stderr",
     "output_type": "stream",
     "text": [
      "\r",
      "  8%|▊         | 4/50 [00:10<01:58,  2.59s/it]"
     ]
    },
    {
     "name": "stdout",
     "output_type": "stream",
     "text": [
      "CURRENT QUD: ['certain']\n"
     ]
    },
    {
     "name": "stderr",
     "output_type": "stream",
     "text": [
      "\r",
      " 10%|█         | 5/50 [00:13<01:57,  2.62s/it]"
     ]
    },
    {
     "name": "stdout",
     "output_type": "stream",
     "text": [
      "CURRENT QUD: ['civil']\n"
     ]
    },
    {
     "name": "stderr",
     "output_type": "stream",
     "text": [
      "\r",
      " 12%|█▏        | 6/50 [00:15<01:57,  2.66s/it]"
     ]
    },
    {
     "name": "stdout",
     "output_type": "stream",
     "text": [
      "CURRENT QUD: ['common']\n"
     ]
    },
    {
     "name": "stderr",
     "output_type": "stream",
     "text": [
      "\r",
      " 14%|█▍        | 7/50 [00:18<01:55,  2.69s/it]"
     ]
    },
    {
     "name": "stdout",
     "output_type": "stream",
     "text": [
      "CURRENT QUD: ['corrupt']\n"
     ]
    },
    {
     "name": "stderr",
     "output_type": "stream",
     "text": [
      "\r",
      " 16%|█▌        | 8/50 [00:22<01:56,  2.77s/it]"
     ]
    },
    {
     "name": "stdout",
     "output_type": "stream",
     "text": [
      "CURRENT QUD: ['critical']\n"
     ]
    },
    {
     "name": "stderr",
     "output_type": "stream",
     "text": [
      "\r",
      " 18%|█▊        | 9/50 [00:25<01:55,  2.82s/it]"
     ]
    },
    {
     "name": "stdout",
     "output_type": "stream",
     "text": [
      "CURRENT QUD: ['democratic']\n"
     ]
    },
    {
     "name": "stderr",
     "output_type": "stream",
     "text": [
      "\r",
      " 20%|██        | 10/50 [00:29<01:56,  2.91s/it]"
     ]
    },
    {
     "name": "stdout",
     "output_type": "stream",
     "text": [
      "CURRENT QUD: ['different']\n"
     ]
    },
    {
     "name": "stderr",
     "output_type": "stream",
     "text": [
      "\r",
      " 22%|██▏       | 11/50 [00:32<01:55,  2.97s/it]"
     ]
    },
    {
     "name": "stdout",
     "output_type": "stream",
     "text": [
      "CURRENT QUD: ['effective']\n"
     ]
    },
    {
     "name": "stderr",
     "output_type": "stream",
     "text": [
      "\r",
      " 24%|██▍       | 12/50 [00:36<01:56,  3.07s/it]"
     ]
    },
    {
     "name": "stdout",
     "output_type": "stream",
     "text": [
      "CURRENT QUD: ['evil']\n"
     ]
    },
    {
     "name": "stderr",
     "output_type": "stream",
     "text": [
      "\r",
      " 26%|██▌       | 13/50 [00:40<01:56,  3.14s/it]"
     ]
    },
    {
     "name": "stdout",
     "output_type": "stream",
     "text": [
      "CURRENT QUD: ['famous']\n"
     ]
    },
    {
     "name": "stderr",
     "output_type": "stream",
     "text": [
      "\r",
      " 28%|██▊       | 14/50 [00:44<01:55,  3.20s/it]"
     ]
    },
    {
     "name": "stdout",
     "output_type": "stream",
     "text": [
      "CURRENT QUD: ['fascist']\n"
     ]
    },
    {
     "name": "stderr",
     "output_type": "stream",
     "text": [
      "\r",
      " 30%|███       | 15/50 [00:49<01:55,  3.30s/it]"
     ]
    },
    {
     "name": "stdout",
     "output_type": "stream",
     "text": [
      "CURRENT QUD: ['foremost']\n"
     ]
    },
    {
     "name": "stderr",
     "output_type": "stream",
     "text": [
      "\r",
      " 32%|███▏      | 16/50 [00:53<01:54,  3.36s/it]"
     ]
    },
    {
     "name": "stdout",
     "output_type": "stream",
     "text": [
      "CURRENT QUD: ['founding']\n"
     ]
    },
    {
     "name": "stderr",
     "output_type": "stream",
     "text": [
      "\r",
      " 34%|███▍      | 17/50 [00:58<01:53,  3.44s/it]"
     ]
    },
    {
     "name": "stdout",
     "output_type": "stream",
     "text": [
      "CURRENT QUD: ['good']\n"
     ]
    },
    {
     "name": "stderr",
     "output_type": "stream",
     "text": [
      "\r",
      " 36%|███▌      | 18/50 [01:03<01:52,  3.51s/it]"
     ]
    },
    {
     "name": "stdout",
     "output_type": "stream",
     "text": [
      "CURRENT QUD: ['great']\n"
     ]
    },
    {
     "name": "stderr",
     "output_type": "stream",
     "text": [
      "\r",
      " 38%|███▊      | 19/50 [01:08<01:52,  3.62s/it]"
     ]
    },
    {
     "name": "stdout",
     "output_type": "stream",
     "text": [
      "CURRENT QUD: ['important']\n"
     ]
    },
    {
     "name": "stderr",
     "output_type": "stream",
     "text": [
      "\r",
      " 40%|████      | 20/50 [01:13<01:50,  3.70s/it]"
     ]
    },
    {
     "name": "stdout",
     "output_type": "stream",
     "text": [
      "CURRENT QUD: ['legal']\n"
     ]
    },
    {
     "name": "stderr",
     "output_type": "stream",
     "text": [
      "\r",
      " 42%|████▏     | 21/50 [01:19<01:49,  3.77s/it]"
     ]
    },
    {
     "name": "stdout",
     "output_type": "stream",
     "text": [
      "CURRENT QUD: ['legitimate']\n"
     ]
    },
    {
     "name": "stderr",
     "output_type": "stream",
     "text": [
      "\r",
      " 44%|████▍     | 22/50 [01:24<01:47,  3.85s/it]"
     ]
    },
    {
     "name": "stdout",
     "output_type": "stream",
     "text": [
      "CURRENT QUD: ['likely']\n"
     ]
    },
    {
     "name": "stderr",
     "output_type": "stream",
     "text": [
      "\r",
      " 46%|████▌     | 23/50 [01:30<01:45,  3.92s/it]"
     ]
    },
    {
     "name": "stdout",
     "output_type": "stream",
     "text": [
      "CURRENT QUD: ['longtime']\n"
     ]
    },
    {
     "name": "stderr",
     "output_type": "stream",
     "text": [
      "\r",
      " 48%|████▊     | 24/50 [01:36<01:44,  4.03s/it]"
     ]
    },
    {
     "name": "stdout",
     "output_type": "stream",
     "text": [
      "CURRENT QUD: ['loyal']\n"
     ]
    },
    {
     "name": "stderr",
     "output_type": "stream",
     "text": [
      "\r",
      " 50%|█████     | 25/50 [01:42<01:42,  4.11s/it]"
     ]
    },
    {
     "name": "stdout",
     "output_type": "stream",
     "text": [
      "CURRENT QUD: ['main']\n"
     ]
    },
    {
     "name": "stderr",
     "output_type": "stream",
     "text": [
      "\r",
      " 52%|█████▏    | 26/50 [01:48<01:40,  4.19s/it]"
     ]
    },
    {
     "name": "stdout",
     "output_type": "stream",
     "text": [
      "CURRENT QUD: ['major']\n"
     ]
    },
    {
     "name": "stderr",
     "output_type": "stream",
     "text": [
      "\r",
      " 54%|█████▍    | 27/50 [01:55<01:38,  4.26s/it]"
     ]
    },
    {
     "name": "stdout",
     "output_type": "stream",
     "text": [
      "CURRENT QUD: ['national']\n"
     ]
    },
    {
     "name": "stderr",
     "output_type": "stream",
     "text": [
      "\r",
      " 56%|█████▌    | 28/50 [02:01<01:35,  4.34s/it]"
     ]
    },
    {
     "name": "stdout",
     "output_type": "stream",
     "text": [
      "CURRENT QUD: ['notorious']\n"
     ]
    },
    {
     "name": "stderr",
     "output_type": "stream",
     "text": [
      "\r",
      " 58%|█████▊    | 29/50 [02:08<01:32,  4.42s/it]"
     ]
    },
    {
     "name": "stdout",
     "output_type": "stream",
     "text": [
      "CURRENT QUD: ['original']\n"
     ]
    },
    {
     "name": "stderr",
     "output_type": "stream",
     "text": [
      "\r",
      " 60%|██████    | 30/50 [02:15<01:30,  4.50s/it]"
     ]
    },
    {
     "name": "stdout",
     "output_type": "stream",
     "text": [
      "CURRENT QUD: ['other']\n"
     ]
    },
    {
     "name": "stderr",
     "output_type": "stream",
     "text": [
      "\r",
      " 62%|██████▏   | 31/50 [02:22<01:27,  4.61s/it]"
     ]
    },
    {
     "name": "stdout",
     "output_type": "stream",
     "text": [
      "CURRENT QUD: ['particular']\n"
     ]
    },
    {
     "name": "stderr",
     "output_type": "stream",
     "text": [
      "\r",
      " 64%|██████▍   | 32/50 [02:29<01:24,  4.69s/it]"
     ]
    },
    {
     "name": "stdout",
     "output_type": "stream",
     "text": [
      "CURRENT QUD: ['political']\n"
     ]
    },
    {
     "name": "stderr",
     "output_type": "stream",
     "text": [
      "\r",
      " 66%|██████▌   | 33/50 [02:37<01:20,  4.76s/it]"
     ]
    },
    {
     "name": "stdout",
     "output_type": "stream",
     "text": [
      "CURRENT QUD: ['popular']\n"
     ]
    },
    {
     "name": "stderr",
     "output_type": "stream",
     "text": [
      "\r",
      " 68%|██████▊   | 34/50 [02:44<01:17,  4.84s/it]"
     ]
    },
    {
     "name": "stdout",
     "output_type": "stream",
     "text": [
      "CURRENT QUD: ['possible']\n"
     ]
    },
    {
     "name": "stderr",
     "output_type": "stream",
     "text": [
      "\r",
      " 70%|███████   | 35/50 [02:52<01:13,  4.92s/it]"
     ]
    },
    {
     "name": "stdout",
     "output_type": "stream",
     "text": [
      "CURRENT QUD: ['primary']\n"
     ]
    },
    {
     "name": "stderr",
     "output_type": "stream",
     "text": [
      "\r",
      " 72%|███████▏  | 36/50 [02:59<01:09,  5.00s/it]"
     ]
    },
    {
     "name": "stdout",
     "output_type": "stream",
     "text": [
      "CURRENT QUD: ['prime']\n"
     ]
    },
    {
     "name": "stderr",
     "output_type": "stream",
     "text": [
      "\r",
      " 74%|███████▍  | 37/50 [03:07<01:06,  5.08s/it]"
     ]
    },
    {
     "name": "stdout",
     "output_type": "stream",
     "text": [
      "CURRENT QUD: ['prior']\n"
     ]
    },
    {
     "name": "stderr",
     "output_type": "stream",
     "text": [
      "\r",
      " 76%|███████▌  | 38/50 [03:17<01:02,  5.19s/it]"
     ]
    },
    {
     "name": "stdout",
     "output_type": "stream",
     "text": [
      "CURRENT QUD: ['prominent']\n"
     ]
    },
    {
     "name": "stderr",
     "output_type": "stream",
     "text": [
      "\r",
      " 78%|███████▊  | 39/50 [03:25<00:57,  5.26s/it]"
     ]
    },
    {
     "name": "stdout",
     "output_type": "stream",
     "text": [
      "CURRENT QUD: ['responsible']\n"
     ]
    },
    {
     "name": "stderr",
     "output_type": "stream",
     "text": [
      "\r",
      " 80%|████████  | 40/50 [03:33<00:53,  5.34s/it]"
     ]
    },
    {
     "name": "stdout",
     "output_type": "stream",
     "text": [
      "CURRENT QUD: ['revolutionary']\n"
     ]
    },
    {
     "name": "stderr",
     "output_type": "stream",
     "text": [
      "\r",
      " 82%|████████▏ | 41/50 [03:42<00:48,  5.42s/it]"
     ]
    },
    {
     "name": "stdout",
     "output_type": "stream",
     "text": [
      "CURRENT QUD: ['significant']\n"
     ]
    },
    {
     "name": "stderr",
     "output_type": "stream",
     "text": [
      "\r",
      " 84%|████████▍ | 42/50 [03:50<00:43,  5.50s/it]"
     ]
    },
    {
     "name": "stdout",
     "output_type": "stream",
     "text": [
      "CURRENT QUD: ['supposed']\n"
     ]
    },
    {
     "name": "stderr",
     "output_type": "stream",
     "text": [
      "\r",
      " 86%|████████▌ | 43/50 [03:59<00:39,  5.58s/it]"
     ]
    },
    {
     "name": "stdout",
     "output_type": "stream",
     "text": [
      "CURRENT QUD: ['supreme']\n"
     ]
    },
    {
     "name": "stderr",
     "output_type": "stream",
     "text": [
      "\r",
      " 88%|████████▊ | 44/50 [04:08<00:33,  5.66s/it]"
     ]
    },
    {
     "name": "stdout",
     "output_type": "stream",
     "text": [
      "CURRENT QUD: ['sure']\n"
     ]
    },
    {
     "name": "stderr",
     "output_type": "stream",
     "text": [
      "\r",
      " 90%|█████████ | 45/50 [04:18<00:28,  5.74s/it]"
     ]
    },
    {
     "name": "stdout",
     "output_type": "stream",
     "text": [
      "CURRENT QUD: ['true']\n"
     ]
    },
    {
     "name": "stderr",
     "output_type": "stream",
     "text": [
      "\r",
      " 92%|█████████▏| 46/50 [04:27<00:23,  5.82s/it]"
     ]
    },
    {
     "name": "stdout",
     "output_type": "stream",
     "text": [
      "CURRENT QUD: ['tyrannical']\n"
     ]
    },
    {
     "name": "stderr",
     "output_type": "stream",
     "text": [
      "\r",
      " 94%|█████████▍| 47/50 [04:37<00:17,  5.90s/it]"
     ]
    },
    {
     "name": "stdout",
     "output_type": "stream",
     "text": [
      "CURRENT QUD: ['unknown']\n"
     ]
    },
    {
     "name": "stderr",
     "output_type": "stream",
     "text": [
      "\r",
      " 96%|█████████▌| 48/50 [04:48<00:12,  6.01s/it]"
     ]
    },
    {
     "name": "stdout",
     "output_type": "stream",
     "text": [
      "CURRENT QUD: ['various']\n"
     ]
    },
    {
     "name": "stderr",
     "output_type": "stream",
     "text": [
      "\r",
      " 98%|█████████▊| 49/50 [04:58<00:06,  6.10s/it]"
     ]
    },
    {
     "name": "stdout",
     "output_type": "stream",
     "text": [
      "CURRENT QUD: ['vice']\n"
     ]
    },
    {
     "name": "stderr",
     "output_type": "stream",
     "text": [
      "100%|██████████| 50/50 [05:09<00:00,  6.18s/it]\n"
     ]
    },
    {
     "name": "stdout",
     "output_type": "stream",
     "text": [
      "time: 309.19897842407227\n",
      "time: 34.69797682762146\n",
      "time: 46.15418553352356\n",
      "abstract_threshold 2.5\n",
      "concrete_threshold 3.0\n",
      "QUDS ['virtual', 'original', 'usual', 'able', 'other', 'claustrophobic', 'available', 'entire', 'comfortable', 'simple']\n",
      "UTTERANCES:\n",
      " ['room', 'rooms', 'floor', 'bedroom', 'dining', 'locker', 'door', 'hallway', 'kitchen', 'bathroom']\n",
      "RESOLUTION. SIZE: 100 AMOUNT: 0.1\n"
     ]
    },
    {
     "name": "stderr",
     "output_type": "stream",
     "text": [
      "\r",
      "  0%|          | 0/50 [00:00<?, ?it/s]"
     ]
    },
    {
     "name": "stdout",
     "output_type": "stream",
     "text": [
      "subject: ['room']\n",
      "predicate dungeon\n",
      "SIGs 1&2: 20.0 0.1\n",
      "L1 SIG 20.0\n",
      "number of qud dimensions: 1\n",
      "rationality: 1.0\n",
      "Running discrete_mixture RSA with 201 possible utterances and 50\n",
      "RUNNING DISCRETE MIXTURE MODEL\n",
      "qud_combinations 50 [['able'], ['actual'], ['additional'], ['available'], ['best'], ['certain'], ['claustrophobic'], ['comfortable'], ['complex'], ['creepy'], ['detailed'], ['different'], ['easy'], ['elegant'], ['entire'], ['extra'], ['fashioned'], ['free'], ['good'], ['great'], ['interesting'], ['intimate'], ['main'], ['medieval'], ['modern'], ['mysterious'], ['nice'], ['normal'], ['original'], ['other'], ['particular'], ['perfect'], ['possible'], ['ready'], ['regular'], ['similar'], ['simple'], ['special'], ['strange'], ['supposed'], ['sure'], ['true'], ['typical'], ['unconscious'], ['unfinished'], ['unique'], ['unusual'], ['usual'], ['various'], ['virtual']]\n",
      "quds 50\n",
      "SIZE,AMOUNT 100 0.1\n",
      "CURRENT QUD: ['able']\n"
     ]
    },
    {
     "name": "stderr",
     "output_type": "stream",
     "text": [
      "\r",
      "  2%|▏         | 1/50 [00:01<01:37,  1.98s/it]"
     ]
    },
    {
     "name": "stdout",
     "output_type": "stream",
     "text": [
      "CURRENT QUD: ['actual']\n"
     ]
    },
    {
     "name": "stderr",
     "output_type": "stream",
     "text": [
      "\r",
      "  4%|▍         | 2/50 [00:04<01:47,  2.24s/it]"
     ]
    },
    {
     "name": "stdout",
     "output_type": "stream",
     "text": [
      "CURRENT QUD: ['additional']\n"
     ]
    },
    {
     "name": "stderr",
     "output_type": "stream",
     "text": [
      "\r",
      "  6%|▌         | 3/50 [00:07<01:53,  2.42s/it]"
     ]
    },
    {
     "name": "stdout",
     "output_type": "stream",
     "text": [
      "CURRENT QUD: ['available']\n"
     ]
    },
    {
     "name": "stderr",
     "output_type": "stream",
     "text": [
      "\r",
      "  8%|▊         | 4/50 [00:10<01:56,  2.53s/it]"
     ]
    },
    {
     "name": "stdout",
     "output_type": "stream",
     "text": [
      "CURRENT QUD: ['best']\n"
     ]
    },
    {
     "name": "stderr",
     "output_type": "stream",
     "text": [
      "\r",
      " 10%|█         | 5/50 [00:13<01:57,  2.61s/it]"
     ]
    },
    {
     "name": "stdout",
     "output_type": "stream",
     "text": [
      "CURRENT QUD: ['certain']\n"
     ]
    },
    {
     "name": "stderr",
     "output_type": "stream",
     "text": [
      "\r",
      " 12%|█▏        | 6/50 [00:16<01:58,  2.70s/it]"
     ]
    },
    {
     "name": "stdout",
     "output_type": "stream",
     "text": [
      "CURRENT QUD: ['claustrophobic']\n"
     ]
    },
    {
     "name": "stderr",
     "output_type": "stream",
     "text": [
      "\r",
      " 14%|█▍        | 7/50 [00:19<01:59,  2.77s/it]"
     ]
    },
    {
     "name": "stdout",
     "output_type": "stream",
     "text": [
      "CURRENT QUD: ['comfortable']\n"
     ]
    },
    {
     "name": "stderr",
     "output_type": "stream",
     "text": [
      "\r",
      " 16%|█▌        | 8/50 [00:24<02:10,  3.10s/it]"
     ]
    },
    {
     "name": "stdout",
     "output_type": "stream",
     "text": [
      "CURRENT QUD: ['complex']\n"
     ]
    },
    {
     "name": "stderr",
     "output_type": "stream",
     "text": [
      "\r",
      " 18%|█▊        | 9/50 [00:28<02:09,  3.16s/it]"
     ]
    },
    {
     "name": "stdout",
     "output_type": "stream",
     "text": [
      "CURRENT QUD: ['creepy']\n"
     ]
    },
    {
     "name": "stderr",
     "output_type": "stream",
     "text": [
      "\r",
      " 20%|██        | 10/50 [00:32<02:08,  3.21s/it]"
     ]
    },
    {
     "name": "stdout",
     "output_type": "stream",
     "text": [
      "CURRENT QUD: ['detailed']\n"
     ]
    },
    {
     "name": "stderr",
     "output_type": "stream",
     "text": [
      "\r",
      " 22%|██▏       | 11/50 [00:36<02:07,  3.27s/it]"
     ]
    },
    {
     "name": "stdout",
     "output_type": "stream",
     "text": [
      "CURRENT QUD: ['different']\n"
     ]
    },
    {
     "name": "stderr",
     "output_type": "stream",
     "text": [
      "\r",
      " 24%|██▍       | 12/50 [00:40<02:06,  3.34s/it]"
     ]
    },
    {
     "name": "stdout",
     "output_type": "stream",
     "text": [
      "CURRENT QUD: ['easy']\n"
     ]
    },
    {
     "name": "stderr",
     "output_type": "stream",
     "text": [
      "\r",
      " 26%|██▌       | 13/50 [00:44<02:05,  3.40s/it]"
     ]
    },
    {
     "name": "stdout",
     "output_type": "stream",
     "text": [
      "CURRENT QUD: ['elegant']\n"
     ]
    },
    {
     "name": "stderr",
     "output_type": "stream",
     "text": [
      "\r",
      " 28%|██▊       | 14/50 [00:48<02:04,  3.47s/it]"
     ]
    },
    {
     "name": "stdout",
     "output_type": "stream",
     "text": [
      "CURRENT QUD: ['entire']\n"
     ]
    },
    {
     "name": "stderr",
     "output_type": "stream",
     "text": [
      "\r",
      " 30%|███       | 15/50 [00:53<02:03,  3.54s/it]"
     ]
    },
    {
     "name": "stdout",
     "output_type": "stream",
     "text": [
      "CURRENT QUD: ['extra']\n"
     ]
    },
    {
     "name": "stderr",
     "output_type": "stream",
     "text": [
      "\r",
      " 32%|███▏      | 16/50 [00:57<02:02,  3.61s/it]"
     ]
    },
    {
     "name": "stdout",
     "output_type": "stream",
     "text": [
      "CURRENT QUD: ['fashioned']\n"
     ]
    },
    {
     "name": "stderr",
     "output_type": "stream",
     "text": [
      "\r",
      " 34%|███▍      | 17/50 [01:02<02:01,  3.68s/it]"
     ]
    },
    {
     "name": "stdout",
     "output_type": "stream",
     "text": [
      "CURRENT QUD: ['free']\n"
     ]
    },
    {
     "name": "stderr",
     "output_type": "stream",
     "text": [
      "\r",
      " 36%|███▌      | 18/50 [01:07<02:00,  3.76s/it]"
     ]
    },
    {
     "name": "stdout",
     "output_type": "stream",
     "text": [
      "CURRENT QUD: ['good']\n"
     ]
    },
    {
     "name": "stderr",
     "output_type": "stream",
     "text": [
      "\r",
      " 38%|███▊      | 19/50 [01:12<01:58,  3.83s/it]"
     ]
    },
    {
     "name": "stdout",
     "output_type": "stream",
     "text": [
      "CURRENT QUD: ['great']\n"
     ]
    },
    {
     "name": "stderr",
     "output_type": "stream",
     "text": [
      "\r",
      " 40%|████      | 20/50 [01:18<01:57,  3.91s/it]"
     ]
    },
    {
     "name": "stdout",
     "output_type": "stream",
     "text": [
      "CURRENT QUD: ['interesting']\n"
     ]
    },
    {
     "name": "stderr",
     "output_type": "stream",
     "text": [
      "\r",
      " 42%|████▏     | 21/50 [01:23<01:55,  3.98s/it]"
     ]
    },
    {
     "name": "stdout",
     "output_type": "stream",
     "text": [
      "CURRENT QUD: ['intimate']\n"
     ]
    },
    {
     "name": "stderr",
     "output_type": "stream",
     "text": [
      "\r",
      " 44%|████▍     | 22/50 [01:29<01:53,  4.06s/it]"
     ]
    },
    {
     "name": "stdout",
     "output_type": "stream",
     "text": [
      "CURRENT QUD: ['main']\n"
     ]
    },
    {
     "name": "stderr",
     "output_type": "stream",
     "text": [
      "\r",
      " 46%|████▌     | 23/50 [01:37<01:54,  4.25s/it]"
     ]
    },
    {
     "name": "stdout",
     "output_type": "stream",
     "text": [
      "CURRENT QUD: ['medieval']\n"
     ]
    },
    {
     "name": "stderr",
     "output_type": "stream",
     "text": [
      "\r",
      " 48%|████▊     | 24/50 [01:43<01:52,  4.32s/it]"
     ]
    },
    {
     "name": "stdout",
     "output_type": "stream",
     "text": [
      "CURRENT QUD: ['modern']\n"
     ]
    },
    {
     "name": "stderr",
     "output_type": "stream",
     "text": [
      "\r",
      " 50%|█████     | 25/50 [01:49<01:49,  4.40s/it]"
     ]
    },
    {
     "name": "stdout",
     "output_type": "stream",
     "text": [
      "CURRENT QUD: ['mysterious']\n"
     ]
    },
    {
     "name": "stderr",
     "output_type": "stream",
     "text": [
      "\r",
      " 52%|█████▏    | 26/50 [01:56<01:47,  4.47s/it]"
     ]
    },
    {
     "name": "stdout",
     "output_type": "stream",
     "text": [
      "CURRENT QUD: ['nice']\n"
     ]
    },
    {
     "name": "stderr",
     "output_type": "stream",
     "text": [
      "\r",
      " 54%|█████▍    | 27/50 [02:02<01:44,  4.55s/it]"
     ]
    },
    {
     "name": "stdout",
     "output_type": "stream",
     "text": [
      "CURRENT QUD: ['normal']\n"
     ]
    },
    {
     "name": "stderr",
     "output_type": "stream",
     "text": [
      "\r",
      " 56%|█████▌    | 28/50 [02:09<01:41,  4.63s/it]"
     ]
    },
    {
     "name": "stdout",
     "output_type": "stream",
     "text": [
      "CURRENT QUD: ['original']\n"
     ]
    },
    {
     "name": "stderr",
     "output_type": "stream",
     "text": [
      "\r",
      " 58%|█████▊    | 29/50 [02:16<01:38,  4.71s/it]"
     ]
    },
    {
     "name": "stdout",
     "output_type": "stream",
     "text": [
      "CURRENT QUD: ['other']\n"
     ]
    },
    {
     "name": "stderr",
     "output_type": "stream",
     "text": [
      "\r",
      " 60%|██████    | 30/50 [02:23<01:35,  4.79s/it]"
     ]
    },
    {
     "name": "stdout",
     "output_type": "stream",
     "text": [
      "CURRENT QUD: ['particular']\n"
     ]
    },
    {
     "name": "stderr",
     "output_type": "stream",
     "text": [
      "\r",
      " 62%|██████▏   | 31/50 [02:30<01:32,  4.87s/it]"
     ]
    },
    {
     "name": "stdout",
     "output_type": "stream",
     "text": [
      "CURRENT QUD: ['perfect']\n"
     ]
    },
    {
     "name": "stderr",
     "output_type": "stream",
     "text": [
      "\r",
      " 64%|██████▍   | 32/50 [02:38<01:29,  4.95s/it]"
     ]
    },
    {
     "name": "stdout",
     "output_type": "stream",
     "text": [
      "CURRENT QUD: ['possible']\n"
     ]
    },
    {
     "name": "stderr",
     "output_type": "stream",
     "text": [
      "\r",
      " 66%|██████▌   | 33/50 [02:45<01:25,  5.03s/it]"
     ]
    },
    {
     "name": "stdout",
     "output_type": "stream",
     "text": [
      "CURRENT QUD: ['ready']\n"
     ]
    },
    {
     "name": "stderr",
     "output_type": "stream",
     "text": [
      "\r",
      " 68%|██████▊   | 34/50 [02:53<01:21,  5.11s/it]"
     ]
    },
    {
     "name": "stdout",
     "output_type": "stream",
     "text": [
      "CURRENT QUD: ['regular']\n"
     ]
    },
    {
     "name": "stderr",
     "output_type": "stream",
     "text": [
      "\r",
      " 70%|███████   | 35/50 [03:01<01:17,  5.19s/it]"
     ]
    },
    {
     "name": "stdout",
     "output_type": "stream",
     "text": [
      "CURRENT QUD: ['similar']\n"
     ]
    },
    {
     "name": "stderr",
     "output_type": "stream",
     "text": [
      "\r",
      " 72%|███████▏  | 36/50 [03:09<01:13,  5.27s/it]"
     ]
    },
    {
     "name": "stdout",
     "output_type": "stream",
     "text": [
      "CURRENT QUD: ['simple']\n"
     ]
    },
    {
     "name": "stderr",
     "output_type": "stream",
     "text": [
      "\r",
      " 74%|███████▍  | 37/50 [03:17<01:09,  5.35s/it]"
     ]
    },
    {
     "name": "stdout",
     "output_type": "stream",
     "text": [
      "CURRENT QUD: ['special']\n"
     ]
    },
    {
     "name": "stderr",
     "output_type": "stream",
     "text": [
      "\r",
      " 76%|███████▌  | 38/50 [03:26<01:05,  5.43s/it]"
     ]
    },
    {
     "name": "stdout",
     "output_type": "stream",
     "text": [
      "CURRENT QUD: ['strange']\n"
     ]
    },
    {
     "name": "stderr",
     "output_type": "stream",
     "text": [
      "\r",
      " 78%|███████▊  | 39/50 [03:35<01:00,  5.52s/it]"
     ]
    },
    {
     "name": "stdout",
     "output_type": "stream",
     "text": [
      "CURRENT QUD: ['supposed']\n"
     ]
    },
    {
     "name": "stderr",
     "output_type": "stream",
     "text": [
      "\r",
      " 80%|████████  | 40/50 [03:44<00:56,  5.60s/it]"
     ]
    },
    {
     "name": "stdout",
     "output_type": "stream",
     "text": [
      "CURRENT QUD: ['sure']\n"
     ]
    },
    {
     "name": "stderr",
     "output_type": "stream",
     "text": [
      "\r",
      " 82%|████████▏ | 41/50 [03:53<00:51,  5.68s/it]"
     ]
    },
    {
     "name": "stdout",
     "output_type": "stream",
     "text": [
      "CURRENT QUD: ['true']\n"
     ]
    },
    {
     "name": "stderr",
     "output_type": "stream",
     "text": [
      "\r",
      " 84%|████████▍ | 42/50 [04:05<00:46,  5.84s/it]"
     ]
    },
    {
     "name": "stdout",
     "output_type": "stream",
     "text": [
      "CURRENT QUD: ['typical']\n"
     ]
    }
   ],
   "source": [
    "from __future__ import division\n",
    "from collections import defaultdict\n",
    "import scipy\n",
    "import numpy as np\n",
    "import pickle\n",
    "import itertools\n",
    "from dist_rsa.dbm import *\n",
    "from dist_rsa.utils.load_data import *\n",
    "from dist_rsa.utils.helperfunctions import *\n",
    "from dist_rsa.utils.config import abstract_threshold,concrete_threshold\n",
    "%matplotlib inline\n",
    "import seaborn as sns\n",
    "import matplotlib.pyplot as plt\n",
    "import matplotlib\n",
    "import tensorflow as tf\n",
    "\n",
    "# vec_size,vec_kind = 25,'glove.twitter.27B.'\n",
    "vec_size,vec_kind = 300,'glove.6B.'\n",
    "# freqs = pickle.load(open('dist_rsa/data/google_freqs/freqs','rb'))\n",
    "nouns,adjs = get_words(with_freqs=False)\n",
    "vecs = load_vecs(mean=True,pca=False,vec_length=vec_size,vec_type=vec_kind) \n",
    "\n",
    "def l1_model(subj,pred):\n",
    "\n",
    "    print('abstract_threshold',abstract_threshold)\n",
    "    print('concrete_threshold',concrete_threshold)\n",
    "\n",
    "    qud_words = [a for a in list(adjs) if adjs[a] < abstract_threshold and a in vecs]\n",
    "\n",
    "    quds = sorted(qud_words,\\\n",
    "        key=lambda x:scipy.spatial.distance.cosine(vecs[x],np.mean([vecs[pred],vecs[subj]],axis=0)),reverse=False)\n",
    "        # key=lambda x:freqs[x],reverse=True)\n",
    "\n",
    "    noun_words = [n for n in nouns if nouns[n] > concrete_threshold and n in vecs]\n",
    "    possible_utterances = sorted(noun_words,\\\n",
    "        key=lambda x: scipy.spatial.distance.cosine(vecs[x],np.mean([vecs[subj],vecs[subj]],axis=0)),reverse=False)\n",
    "        # key=lambda x:freqs[x],reverse=True)\n",
    "\n",
    "\n",
    "    for x in possible_utterances:\n",
    "        if x not in vecs:\n",
    "            # print(x,\"not in vecs\")\n",
    "            possible_utterances.remove(x)\n",
    "            # raise Exception(\"utterance not in vecs\")\n",
    "\n",
    "    quds = sorted(quds[:50])\n",
    "    possible_utterances = possible_utterances[:200]\n",
    "\n",
    "    print(\"QUDS\",quds[:10]) \n",
    "    print(\"UTTERANCES:\\n\",possible_utterances[:10])\n",
    "\n",
    "\n",
    "    params = Inference_Params(\n",
    "        vecs=vecs,\n",
    "        subject=[subj],predicate=pred,\n",
    "        quds=quds,\n",
    "        possible_utterances=list(set(possible_utterances).union(set([pred]))),\n",
    "        sig1=20.0,sig2=0.1,l1_sig1=20.0,\n",
    "        qud_weight=0.0,freq_weight=0.0,\n",
    "        number_of_qud_dimensions=1,\n",
    "        poss_utt_frequencies=defaultdict(lambda:1),\n",
    "        qud_frequencies=defaultdict(lambda:1),\n",
    "        rationality=1.0,\n",
    "        norm_vectors=True,\n",
    "        heatmap=False,\n",
    "        resolution=Resolution(span=10,number=100),\n",
    "        model_type=\"discrete_mixture\",\n",
    "        )\n",
    "\n",
    "    run = Dist_RSA_Inference(params)\n",
    "    run.compute_l1(load=0,save=False)\n",
    "\n",
    "\n",
    "    out = run.tf_results\n",
    "    tf.reset_default_graph()\n",
    "    return out,params\n",
    "\n",
    "    # world_means = run.world_samples\n",
    "    # print(world_means[:5],\"MEANS\")\n",
    "\n",
    "    # print(results[:5])\n",
    "\n",
    "    # if not is_baseline:\n",
    "    #     worldm = run.world_movement(\"cosine\",comparanda=[x for x in qud_words if x in vecs])\n",
    "    #     # print(\"\\nworld\\n\",worldm[:5])\n",
    "    # else: worldm = None\n",
    "        # out.write(\"\\nWORLD MOVEMENT:\\n\")\n",
    "        # out.write(str(worldm))\n",
    "    # print(\"WORLD MOVEMENT WITH PROJECTION\\n:\",run.world_movement(\"cosine\",comparanda=[x for x in quds if x in vecs],do_projection=True)[:50])\n",
    "    # print(\"BASELINE:\\n\",sorted(qud_words,\\\n",
    "    #     key=lambda x:scipy.spatial.distance.cosine(vecs[x],np.mean([vecs[subj],vecs[pred]],axis=0)),reverse=False)[:5])\n",
    "\n",
    "    # demarg = demarginalize_product_space(results)\n",
    "    # print(\"\\ndemarginalized:\\n,\",demarg[:5])\n",
    "    # out.write(\"\\ndemarginalized:\\n\")\n",
    "    # out.write((str(demarg)))\n",
    "\n",
    "    # params.number_of_qud_dimensions=1\n",
    "    # run = Dist_RSA_Inference(params)\n",
    "    # run.compute_l1(load=0,save=False)\n",
    "    # results2 = run.qud_results()\n",
    "    # # print(\"\\n1d results\\n\",results2[:10])\n",
    "    # one_d = results2\n",
    "    # one_d=None\n",
    "\n",
    "if __name__ == \"__main__\":\n",
    "\n",
    "    \n",
    "\n",
    "    # for x in range(1):\n",
    "    #     l1_model((\"father\",\"shark\",0.5,0.5,1.0,0,100,False))\n",
    "    results_dict={}\n",
    "    for subj,pred in metaphors:\n",
    "        \n",
    "    \n",
    "        results,params = l1_model(subj=subj,pred=pred)\n",
    "        results_dict[(subj,pred)]=params\n",
    "\n",
    "        # print()\n",
    "\n",
    "\n",
    "        # print(l1_model(subj=\"man\",pred=\"swimmer\"))\n",
    "\n",
    "        # print(scipy.spatial.distance.cosine(vecs['man']-means1[0],vecs['man']-means2[0]))\n",
    "        # worlds,quds=l1_model((\"wall\",\"frog\",1.0,1.0,1.0,0,1000,True))\n",
    "        # print(quds[:10])\n",
    "\n",
    "\n",
    "\n"
   ]
  },
  {
   "cell_type": "code",
   "execution_count": null,
   "metadata": {},
   "outputs": [],
   "source": []
  },
  {
   "cell_type": "code",
   "execution_count": null,
   "metadata": {},
   "outputs": [],
   "source": []
  },
  {
   "cell_type": "code",
   "execution_count": 5,
   "metadata": {},
   "outputs": [],
   "source": [
    "# params = results_dict[(\"room\",\"dungeon\")]\n",
    "\n",
    "# pickleable_results_dict = []\n",
    "# for t in results_dict:\n",
    "#     pickleable_results_dict.append(Pickleable_Params(results_dict[t]))\n",
    "    \n",
    "# write a pickler: it takes results_dict and makes a class which pickles\n",
    "    \n",
    "class Results_Pickler:\n",
    "    def __init__(self,results_dict,path):\n",
    "        self.path=path\n",
    "        self.results_dict=results_dict\n",
    "        \n",
    "    def save(self):    \n",
    "        for t in self.results_dict:\n",
    "            pickle.dump(Pickleable_Params(self.results_dict[t]),open(self.path+t[0]+t[1],'wb'))\n",
    "        \n",
    "    def retrieve(self,t):\n",
    "        return pickle.load(open(self.path+t[0]+t[1],'rb'))\n",
    "\n",
    "\n",
    "class Pickleable_Params:\n",
    "    def __init__(self,d):\n",
    "        self.quds=d.quds\n",
    "        self.qud_marginals=d.qud_marginals\n",
    "        self.subspace_prior_means=d.subspace_prior_means\n",
    "        self.subspace_means=d.subspace_means\n",
    "        self.subspace_variances=d.subspace_variances\n",
    "        self.l1_sig1=d.l1_sig1\n",
    "\n",
    "\n",
    "r = Results_Pickler(results_dict=results_dict,path=\"dist_rsa/data/results/pickles/version50\")\n",
    "r.save()\n",
    "  \n",
    "# pickleable_params = Pickleable_Params(params)\n",
    "# pickleable_results_dict\n",
    "# pickle.dump( pickleable_results_dict,open(\"dist_rsa/data/results_dict.pkl\",\"wb\"))\n",
    "# a = pickle.load(open(\"dist_rsa/data/results_dict.pkl\",\"rb\"))\n",
    "# a.subspace_prior_means\n"
   ]
  },
  {
   "cell_type": "code",
   "execution_count": null,
   "metadata": {},
   "outputs": [],
   "source": []
  },
  {
   "cell_type": "code",
   "execution_count": 96,
   "metadata": {},
   "outputs": [
    {
     "name": "stdout",
     "output_type": "stream",
     "text": [
      "RESOLUTION. SIZE: 50 AMOUNT: 0.1\n",
      "QUD vice\n",
      "marginal mean 3.059487813780027\n",
      "prior mean 3.1335098122623686\n",
      "CHECK 16.523796155382875\n",
      "PRIOR MEAN 3.1335098122623686\n"
     ]
    },
    {
     "data": {
      "image/png": "[encoded data removed]",
      "text/plain": [
       "<matplotlib.figure.Figure at 0x7f89accce8d0>"
      ]
     },
     "metadata": {},
     "output_type": "display_data"
    }
   ],
   "source": [
    "# ps = params\n",
    "ps = r.retrieve(('principal','dictator'))\n",
    "res = Resolution(5.0,50)\n",
    "\n",
    "# qud = sorted(ps.quds).index(\"effective\")\n",
    "# _,_,_ = visualize(ps,qud,res,'red')\n",
    "# print(\"QUD:\",ps.quds[qud])\n",
    "# print(sorted(list(zip(sorted(ps.quds),ps.qud_marginals)),key=lambda x:x[1],reverse=True))\n",
    "\n",
    "# for i in range(len(ps.quds)):\n",
    "#     if i > 0: _,_,_ = visualize(params,i,res,'red')\n",
    "    \n",
    "qud = 49\n",
    "print(\"QUD\",sorted(ps.quds)[qud])\n",
    "_,_,_ = visualize(ps,qud,res,'red')\n",
    "\n",
    "#PRIOR\n",
    "# vals = scipy.stats.multivariate_normal.pdf(np.arange(-res.size,res.size)*res.amount,mean=params.subspace_prior_means[line][0],cov=5.0)\n",
    "# hm = matplotlib.pyplot.scatter(c='yellow',x=np.arange(-res.size,res.size)*res.amount,y=vals)\n"
   ]
  },
  {
   "cell_type": "code",
   "execution_count": null,
   "metadata": {},
   "outputs": [],
   "source": []
  },
  {
   "cell_type": "code",
   "execution_count": null,
   "metadata": {},
   "outputs": [],
   "source": []
  },
  {
   "cell_type": "code",
   "execution_count": null,
   "metadata": {},
   "outputs": [],
   "source": []
  },
  {
   "cell_type": "code",
   "execution_count": null,
   "metadata": {},
   "outputs": [],
   "source": []
  },
  {
   "cell_type": "code",
   "execution_count": null,
   "metadata": {},
   "outputs": [],
   "source": []
  },
  {
   "cell_type": "code",
   "execution_count": null,
   "metadata": {},
   "outputs": [],
   "source": []
  },
  {
   "cell_type": "code",
   "execution_count": 2,
   "metadata": {
    "scrolled": true
   },
   "outputs": [
    {
     "name": "stderr",
     "output_type": "stream",
     "text": [
      "/home/rcohngordon/dist-rsa/lib/python3.5/site-packages/h5py/__init__.py:36: FutureWarning: Conversion of the second argument of issubdtype from `float` to `np.floating` is deprecated. In future, it will be treated as `np.float64 == np.dtype(float).type`.\n",
      "  from ._conv import register_converters as _register_converters\n"
     ]
    },
    {
     "name": "stdout",
     "output_type": "stream",
     "text": [
      "UTTERANCES:\n",
      " ['man', 'shark', 'swimmer']\n",
      "RESOLUTION. SIZE: 100 AMOUNT: 0.1\n",
      "subject: ['man']\n",
      "predicate swimmer\n",
      "SIGs 1&2: 5.0 0.5\n",
      "L1 SIG 5.0\n",
      "number of qud dimensions: 1\n",
      "rationality: 1.0\n",
      "Running discrete_mixture RSA with 3 possible utterances and 2\n",
      "RUNNING DISCRETE MIXTURE MODEL\n"
     ]
    },
    {
     "name": "stderr",
     "output_type": "stream",
     "text": [
      "\r",
      "  0%|          | 0/2 [00:00<?, ?it/s]"
     ]
    },
    {
     "name": "stdout",
     "output_type": "stream",
     "text": [
      "qud_combinations 2 [['swims'], ['vicious']]\n",
      "quds 2\n",
      "SIZE,AMOUNT 100 0.1\n",
      "CURRENT QUD: ['swims']\n"
     ]
    },
    {
     "name": "stderr",
     "output_type": "stream",
     "text": [
      "\r",
      " 50%|█████     | 1/2 [00:02<00:02,  2.61s/it]"
     ]
    },
    {
     "name": "stdout",
     "output_type": "stream",
     "text": [
      "(2, 2, 4)\n",
      "(2, 2, 3, 4)\n",
      "CURRENT QUD: ['vicious']\n"
     ]
    },
    {
     "name": "stderr",
     "output_type": "stream",
     "text": [
      "100%|██████████| 2/2 [00:04<00:00,  2.42s/it]\n"
     ]
    },
    {
     "name": "stdout",
     "output_type": "stream",
     "text": [
      "time: 4.853307008743286\n",
      "time: 1.0020818710327148\n",
      "HEATMAP MEAN [-0.7863828   0.82393354]\n",
      "time: 9.9222571849823\n"
     ]
    }
   ],
   "source": [
    "from __future__ import division\n",
    "from collections import defaultdict\n",
    "import scipy\n",
    "import numpy as np\n",
    "import pickle\n",
    "import itertools\n",
    "from dist_rsa.dbm import *\n",
    "from dist_rsa.utils.load_data import *\n",
    "from dist_rsa.utils.helperfunctions import *\n",
    "from dist_rsa.utils.config import abstract_threshold,concrete_threshold\n",
    "%matplotlib inline\n",
    "import seaborn as sns\n",
    "import matplotlib.pyplot as plt\n",
    "import matplotlib\n",
    "import tensorflow as tf\n",
    "from dist_rsa.utils.simple_vecs import real_vecs as simple_vecs\n",
    "import itertools\n",
    "from dist_rsa.dbm import Resolution\n",
    "\n",
    "\n",
    "\n",
    "\n",
    "def l1_model(subj,pred,sig1,sig2,l1_sig1,quds,possible_utterances):\n",
    "    vec_size,vec_kind = 25,'glove.twitter.27B.'\n",
    "\n",
    "    vecs = simple_vecs\n",
    "    real_vecs= simple_vecs\n",
    "\n",
    "    print(\"UTTERANCES:\\n\",sorted(list(set(possible_utterances).union(set([pred]))))[:20])\n",
    "\n",
    "    params = Inference_Params(\n",
    "        vecs=real_vecs,\n",
    "        subject=[subj],predicate=pred,\n",
    "        quds=quds,\n",
    "        possible_utterances=sorted(list(set(possible_utterances).union(set([pred])))),\n",
    "        sig1=sig1,sig2=sig2, l1_sig1=l1_sig1,\n",
    "        qud_weight=0.0,freq_weight=0.0,\n",
    "        number_of_qud_dimensions=1,\n",
    "        poss_utt_frequencies=defaultdict(lambda:1),\n",
    "        qud_frequencies=defaultdict(lambda:1),\n",
    "        rationality=1.0,\n",
    "        norm_vectors=False,\n",
    "        resolution=Resolution(span=10,number=100),\n",
    "        model_type=\"discrete_mixture\",\n",
    "        heatmap=True\n",
    "        )\n",
    "\n",
    "    run = Dist_RSA_Inference(params)\n",
    "    run.compute_l1(load=0,save=False)\n",
    "    tf_results = run.tf_results\n",
    "    return tf_results,params\n",
    "\n",
    "if __name__ == \"__main__\":\n",
    "\n",
    "    results,params = l1_model(subj=\"man\",pred=\"swimmer\",sig1=5.0,sig2=0.5,l1_sig1=5.0,quds=[\"vicious\",\"swims\"],possible_utterances=[\"shark\",\"swimmer\",\"man\"])\n"
   ]
  },
  {
   "cell_type": "code",
   "execution_count": 11,
   "metadata": {},
   "outputs": [
    {
     "name": "stdout",
     "output_type": "stream",
     "text": [
      "-0.8239134019588563\n",
      "-0.7863797414146605\n"
     ]
    },
    {
     "data": {
      "image/png": "[encoded data removed]",
      "text/plain": [
       "<matplotlib.figure.Figure at 0x7f173d79d5f8>"
      ]
     },
     "metadata": {},
     "output_type": "display_data"
    }
   ],
   "source": [
    "hm_vals = results[0]\n",
    "# *np.expand_dims(params.qud_marginals,1)\n",
    "# y=np.sum(hm_vals,axis=1)\n",
    "# x=(np.arange(-params.resolution.size,params.resolution.size)*params.resolution.amount)\n",
    "# print(x.shape,y.shape)\n",
    "hm = matplotlib.pyplot.scatter(c='blue',x=(np.arange(-params.resolution.size, params.resolution.size+1)*params.resolution.amount),y=np.sum(hm_vals,axis=0))\n",
    "# print((hm_vals))\n",
    "y = np.sum(hm_vals,axis=1)\n",
    "print(np.sum((np.arange(-params.resolution.size, params.resolution.size+1)*params.resolution.amount)*y))\n",
    "x = np.sum(hm_vals,axis=0)\n",
    "print(np.sum((np.arange(-params.resolution.size, params.resolution.size+1)*params.resolution.amount)*x))"
   ]
  },
  {
   "cell_type": "code",
   "execution_count": 12,
   "metadata": {},
   "outputs": [
    {
     "name": "stdout",
     "output_type": "stream",
     "text": [
      "marginal mean -0.7863801482170345\n",
      "prior mean 0.0\n",
      "CHECK -0.7863801273378712\n",
      "PRIOR MEAN 0.0\n"
     ]
    },
    {
     "data": {
      "image/png": "[encoded data removed]",
      "text/plain": [
       "<matplotlib.figure.Figure at 0x7f173daa51d0>"
      ]
     },
     "metadata": {},
     "output_type": "display_data"
    }
   ],
   "source": [
    "res = params.resolution\n",
    "# _,_,_ = visualize(params,0,res,'blue')\n",
    "_,_,_ = visualize(params,1,res,'blue')\n",
    "\n",
    "\n",
    "\n",
    "#PRIOR\n",
    "# vals = scipy.stats.multivariate_normal.pdf(np.arange(-res.size,res.size)*res.amount,mean=params.subspace_prior_means[0][0],cov=5.0)\n",
    "# hm = matplotlib.pyplot.scatter(c='yellow',x=np.arange(-res.size,res.size)*res.amount,y=vals)\n"
   ]
  },
  {
   "cell_type": "code",
   "execution_count": null,
   "metadata": {},
   "outputs": [],
   "source": []
  },
  {
   "cell_type": "code",
   "execution_count": null,
   "metadata": {},
   "outputs": [],
   "source": []
  },
  {
   "cell_type": "code",
   "execution_count": null,
   "metadata": {},
   "outputs": [],
   "source": []
  },
  {
   "cell_type": "code",
   "execution_count": null,
   "metadata": {},
   "outputs": [],
   "source": []
  },
  {
   "cell_type": "code",
   "execution_count": null,
   "metadata": {},
   "outputs": [],
   "source": []
  },
  {
   "cell_type": "code",
   "execution_count": null,
   "metadata": {},
   "outputs": [],
   "source": []
  },
  {
   "cell_type": "code",
   "execution_count": null,
   "metadata": {},
   "outputs": [],
   "source": []
  },
  {
   "cell_type": "code",
   "execution_count": null,
   "metadata": {},
   "outputs": [],
   "source": []
  },
  {
   "cell_type": "code",
   "execution_count": null,
   "metadata": {},
   "outputs": [],
   "source": []
  },
  {
   "cell_type": "code",
   "execution_count": null,
   "metadata": {},
   "outputs": [],
   "source": []
  },
  {
   "cell_type": "code",
   "execution_count": null,
   "metadata": {},
   "outputs": [],
   "source": []
  },
  {
   "cell_type": "code",
   "execution_count": null,
   "metadata": {},
   "outputs": [],
   "source": []
  },
  {
   "cell_type": "code",
   "execution_count": null,
   "metadata": {},
   "outputs": [],
   "source": []
  },
  {
   "cell_type": "code",
   "execution_count": 13,
   "metadata": {},
   "outputs": [
    {
     "name": "stdout",
     "output_type": "stream",
     "text": [
      "UTTERANCES:\n",
      " ['man', 'shark', 'swimmer']\n",
      "RESOLUTION. SIZE: 100 AMOUNT: 0.1\n",
      "subject: ['man']\n",
      "predicate swimmer\n",
      "SIGs 1&2: 5.0 0.5\n",
      "L1 SIG 5.0\n",
      "number of qud dimensions: 1\n",
      "rationality: 1.0\n",
      "Running discrete_exact RSA with 3 possible utterances and 2\n",
      "RUNNING DISCRETE EXACT MODEL\n",
      "QUDS: [['swims'], ['vicious']]\n",
      "sum should be unit 1.0000002\n",
      "MEAN [-1.7340168  1.7477133]\n"
     ]
    }
   ],
   "source": [
    "from __future__ import division\n",
    "from collections import defaultdict\n",
    "import scipy\n",
    "import numpy as np\n",
    "import pickle\n",
    "import itertools\n",
    "from dist_rsa.dbm import *\n",
    "from dist_rsa.utils.load_data import *\n",
    "from dist_rsa.utils.helperfunctions import *\n",
    "from dist_rsa.utils.config import abstract_threshold,concrete_threshold\n",
    "%matplotlib inline\n",
    "import seaborn as sns\n",
    "import matplotlib.pyplot as plt\n",
    "import matplotlib\n",
    "import tensorflow as tf\n",
    "from dist_rsa.utils.simple_vecs import real_vecs as simple_vecs\n",
    "import itertools\n",
    "from dist_rsa.dbm import Resolution\n",
    "\n",
    "\n",
    "\n",
    "\n",
    "def l1_model(subj,pred,sig1,sig2,l1_sig1,quds,possible_utterances):\n",
    "    vec_size,vec_kind = 25,'glove.twitter.27B.'\n",
    "\n",
    "    vecs = simple_vecs\n",
    "    real_vecs= simple_vecs\n",
    "\n",
    "    print(\"UTTERANCES:\\n\",sorted(list(set(possible_utterances).union(set([pred]))))[:20])\n",
    "\n",
    "    params = Inference_Params(\n",
    "        vecs=real_vecs,\n",
    "        subject=[subj],predicate=pred,\n",
    "        quds=quds,\n",
    "        possible_utterances=sorted(list(set(possible_utterances).union(set([pred])))),\n",
    "        sig1=sig1,sig2=sig2, l1_sig1=l1_sig1,\n",
    "        qud_weight=0.0,freq_weight=0.0,\n",
    "        number_of_qud_dimensions=1,\n",
    "        poss_utt_frequencies=defaultdict(lambda:1),\n",
    "        qud_frequencies=defaultdict(lambda:1),\n",
    "        rationality=1.0,\n",
    "        norm_vectors=False,\n",
    "        resolution=Resolution(span=10,number=100),\n",
    "        model_type=\"discrete_exact\",\n",
    "        heatmap=True\n",
    "        )\n",
    "\n",
    "    run = Dist_RSA_Inference(params)\n",
    "    run.compute_l1(load=0,save=False)\n",
    "    tf_results = run.tf_results\n",
    "    return tf_results,params\n",
    "\n",
    "if __name__ == \"__main__\":\n",
    "\n",
    "    results,params = l1_model(subj=\"man\",pred=\"swimmer\",sig1=5.0,sig2=0.5,l1_sig1=5.0,quds=[\"vicious\",\"swims\"],possible_utterances=[\"shark\",\"swimmer\",\"man\"])\n"
   ]
  },
  {
   "cell_type": "code",
   "execution_count": 15,
   "metadata": {},
   "outputs": [
    {
     "name": "stdout",
     "output_type": "stream",
     "text": [
      "-1.7476779620395975\n",
      "-1.7339960924058686\n"
     ]
    },
    {
     "data": {
      "image/png": "[encoded data removed]",
      "text/plain": [
       "<matplotlib.figure.Figure at 0x7f173d5fee10>"
      ]
     },
     "metadata": {},
     "output_type": "display_data"
    }
   ],
   "source": [
    "hm_vals = results[0]\n",
    "# *np.expand_dims(params.qud_marginals,1)\n",
    "# y=np.sum(hm_vals,axis=1)\n",
    "# x=(np.arange(-params.resolution.size,params.resolution.size)*params.resolution.amount)\n",
    "# print(x.shape,y.shape)\n",
    "hm = matplotlib.pyplot.scatter(c='blue',x=(np.arange(-params.resolution.size, params.resolution.size+1)*params.resolution.amount),y=np.sum(hm_vals,axis=1))\n",
    "# print((hm_vals))\n",
    "y = np.sum(hm_vals,axis=1)\n",
    "print(np.sum((np.arange(-params.resolution.size, params.resolution.size+1)*params.resolution.amount)*y))\n",
    "x = np.sum(hm_vals,axis=0)\n",
    "print(np.sum((np.arange(-params.resolution.size, params.resolution.size+1)*params.resolution.amount)*x))"
   ]
  },
  {
   "cell_type": "code",
   "execution_count": null,
   "metadata": {},
   "outputs": [],
   "source": []
  }
 ],
 "metadata": {
  "kernelspec": {
   "display_name": "Python 3",
   "language": "python",
   "name": "python3"
  },
  "language_info": {
   "codemirror_mode": {
    "name": "ipython",
    "version": 3
   },
   "file_extension": ".py",
   "mimetype": "text/x-python",
   "name": "python",
   "nbconvert_exporter": "python",
   "pygments_lexer": "ipython3",
   "version": "3.5.2"
  }
 },
 "nbformat": 4,
 "nbformat_minor": 2
}
