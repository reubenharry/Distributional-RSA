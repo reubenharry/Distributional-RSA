{
 "cells": [
  {
   "cell_type": "code",
   "execution_count": 30,
   "metadata": {},
   "outputs": [],
   "source": [
    "def visualize(params,line,res,c,q=0):\n",
    "\n",
    "    cond_probs = np.zeros((len(params.quds), res.size*2))\n",
    "    for qud_index in range(len(params.quds)):\n",
    "\n",
    "        subspace_mean,subspace_prior_mean,subspace_variance = params.subspace_means[line][qud_index],params.subspace_prior_means[line][qud_index],params.subspace_variances[line][qud_index]\n",
    "#         print(\"prior meannn\",subspace_prior_mean)\n",
    "        vals=scipy.stats.multivariate_normal.pdf((np.arange(-res.size,res.size)*res.amount),mean=subspace_mean,cov=subspace_variance)\n",
    "        vals/=np.sum(vals)\n",
    "        cond_probs[qud_index]=vals\n",
    "        \n",
    "#         print(scipy.stats.multivariate_normal.pdf([1,2,3],mean=subspace_mean,cov=subspace_variance))\n",
    "#         print(vals.shape)\n",
    "#         print(subspace_mean)\n",
    "#         print(\"CHECK\",np.sum((np.arange(-size,size)*scale+subspace_prior_mean)*vals))\n",
    "\n",
    "#     print(params.subspace_means.shape)\n",
    "#     print(params.subspace_means)\n",
    "#     print(\"SUBSPACE MEANS\",params.subspace_means)\n",
    "    marginal_mean = np.sum(params.subspace_means[line]*params.qud_marginals)\n",
    "    print(\"marginal mean\",marginal_mean)\n",
    "    print(\"prior mean\",subspace_prior_mean)\n",
    "    marginal = np.sum(cond_probs*np.expand_dims(params.qud_marginals,1),axis=0)\n",
    "    \n",
    "    if q is not None:\n",
    "        print(\"cond mean\",params.subspace_means[line][qud_index])\n",
    "        print(\"cond variance\",params.subspace_variances[line][qud_index])\n",
    "        cond = cond_probs[q]\n",
    "        hm = matplotlib.pyplot.scatter(c=c,x=(np.arange(-res.size,res.size)*res.amount),y=cond)\n",
    "    \n",
    "    \n",
    "#     print(\"CHECK\",np.sum(marginal*(np.arange(-res.size,res.size)*res.amount)))\n",
    "    else: hm = matplotlib.pyplot.scatter(c=c,x=(np.arange(-res.size,res.size)*res.amount),y=marginal)\n",
    "#     print(\"PRIOR MEAN\",params.subspace_prior_means[line][0])\n",
    "#     prior_vals = scipy.stats.multivariate_normal.pdf(np.arange(-res.size,res.size)*res.amount,mean=params.subspace_prior_means[line][0],cov=params.l1_sig1)\n",
    "#     prior_vals/=np.sum(prior_vals)\n",
    "#     prior_hm = matplotlib.pyplot.scatter(c='yellow',x=np.arange(-res.size,res.size)*res.amount,y=prior_vals)\n",
    "    \n",
    "#     hm_2 = matplotlib.pyplot.scatter(x=(np.arange(-size,size)*scale)+params.subspace_prior_means[line][0],y=marginal)\n",
    "#     return marginal,marginal_mean,params.subspace_prior_means[line][0]\n",
    "#     return marginal_means[line]*np.exp(params.qud_marginals)"
   ]
  },
  {
   "cell_type": "code",
   "execution_count": null,
   "metadata": {
    "scrolled": true
   },
   "outputs": [
    {
     "name": "stderr",
     "output_type": "stream",
     "text": [
      "/home/rcohngordon/dist-rsa/lib/python3.5/site-packages/h5py/__init__.py:36: FutureWarning: Conversion of the second argument of issubdtype from `float` to `np.floating` is deprecated. In future, it will be treated as `np.float64 == np.dtype(float).type`.\n",
      "  from ._conv import register_converters as _register_converters\n"
     ]
    },
    {
     "name": "stdout",
     "output_type": "stream",
     "text": [
      "\n",
      "loading vecs (load vecs): glove.6B.mean_vecs300\n",
      "abstract_threshold 2.5\n",
      "concrete_threshold 3.0\n",
      "QUDS ['alleged', 'beloved', 'best', 'brutal', 'certain', 'civil', 'common', 'corrupt', 'critical', 'democratic']\n",
      "UTTERANCES:\n",
      " ['principal', 'associate', 'assistant', 'chief', 'teacher', 'key', 'director', 'present', 'example', 'school']\n",
      "RESOLUTION. SIZE: 100 AMOUNT: 0.1\n",
      "subject: ['principal']\n",
      "predicate dictator\n",
      "SIGs 1&2: 20.0 0.1\n",
      "L1 SIG 20.0\n",
      "number of qud dimensions: 1\n",
      "rationality: 1.0\n",
      "Running discrete_mixture RSA with 201 possible utterances and 50\n",
      "RUNNING DISCRETE MIXTURE MODEL\n"
     ]
    },
    {
     "name": "stderr",
     "output_type": "stream",
     "text": [
      "\r",
      "  0%|          | 0/50 [00:00<?, ?it/s]"
     ]
    },
    {
     "name": "stdout",
     "output_type": "stream",
     "text": [
      "qud_combinations 50 [['alleged'], ['beloved'], ['best'], ['brutal'], ['certain'], ['civil'], ['common'], ['corrupt'], ['critical'], ['democratic'], ['different'], ['effective'], ['evil'], ['famous'], ['fascist'], ['foremost'], ['founding'], ['good'], ['great'], ['important'], ['legal'], ['legitimate'], ['likely'], ['longtime'], ['loyal'], ['main'], ['major'], ['national'], ['notorious'], ['original'], ['other'], ['particular'], ['political'], ['popular'], ['possible'], ['primary'], ['prime'], ['prior'], ['prominent'], ['responsible'], ['revolutionary'], ['significant'], ['supposed'], ['supreme'], ['sure'], ['true'], ['tyrannical'], ['unknown'], ['various'], ['vice']]\n",
      "quds 50\n",
      "SIZE,AMOUNT 100 0.1\n",
      "CURRENT QUD: ['alleged']\n",
      "(2, 2, 4)\n",
      "(2, 2, 3, 4)\n"
     ]
    },
    {
     "name": "stderr",
     "output_type": "stream",
     "text": [
      "\r",
      "  2%|▏         | 1/50 [00:02<02:26,  2.99s/it]"
     ]
    },
    {
     "name": "stdout",
     "output_type": "stream",
     "text": [
      "CURRENT QUD: ['beloved']\n"
     ]
    },
    {
     "name": "stderr",
     "output_type": "stream",
     "text": [
      "\r",
      "  4%|▍         | 2/50 [00:05<02:06,  2.64s/it]"
     ]
    },
    {
     "name": "stdout",
     "output_type": "stream",
     "text": [
      "CURRENT QUD: ['best']\n"
     ]
    },
    {
     "name": "stderr",
     "output_type": "stream",
     "text": [
      "\r",
      "  6%|▌         | 3/50 [00:07<02:02,  2.60s/it]"
     ]
    },
    {
     "name": "stdout",
     "output_type": "stream",
     "text": [
      "CURRENT QUD: ['brutal']\n"
     ]
    },
    {
     "name": "stderr",
     "output_type": "stream",
     "text": [
      "\r",
      "  8%|▊         | 4/50 [00:10<02:00,  2.62s/it]"
     ]
    },
    {
     "name": "stdout",
     "output_type": "stream",
     "text": [
      "CURRENT QUD: ['certain']\n"
     ]
    },
    {
     "name": "stderr",
     "output_type": "stream",
     "text": [
      "\r",
      " 10%|█         | 5/50 [00:13<01:59,  2.65s/it]"
     ]
    },
    {
     "name": "stdout",
     "output_type": "stream",
     "text": [
      "CURRENT QUD: ['civil']\n"
     ]
    },
    {
     "name": "stderr",
     "output_type": "stream",
     "text": [
      "\r",
      " 12%|█▏        | 6/50 [00:16<01:58,  2.70s/it]"
     ]
    },
    {
     "name": "stdout",
     "output_type": "stream",
     "text": [
      "CURRENT QUD: ['common']\n"
     ]
    },
    {
     "name": "stderr",
     "output_type": "stream",
     "text": [
      "\r",
      " 14%|█▍        | 7/50 [00:19<01:57,  2.73s/it]"
     ]
    },
    {
     "name": "stdout",
     "output_type": "stream",
     "text": [
      "CURRENT QUD: ['corrupt']\n"
     ]
    },
    {
     "name": "stderr",
     "output_type": "stream",
     "text": [
      "\r",
      " 16%|█▌        | 8/50 [00:22<01:57,  2.79s/it]"
     ]
    },
    {
     "name": "stdout",
     "output_type": "stream",
     "text": [
      "CURRENT QUD: ['critical']\n"
     ]
    },
    {
     "name": "stderr",
     "output_type": "stream",
     "text": [
      "\r",
      " 18%|█▊        | 9/50 [00:25<01:56,  2.85s/it]"
     ]
    },
    {
     "name": "stdout",
     "output_type": "stream",
     "text": [
      "CURRENT QUD: ['democratic']\n"
     ]
    },
    {
     "name": "stderr",
     "output_type": "stream",
     "text": [
      "\r",
      " 20%|██        | 10/50 [00:29<01:57,  2.94s/it]"
     ]
    },
    {
     "name": "stdout",
     "output_type": "stream",
     "text": [
      "CURRENT QUD: ['different']\n"
     ]
    },
    {
     "name": "stderr",
     "output_type": "stream",
     "text": [
      "\r",
      " 22%|██▏       | 11/50 [00:32<01:56,  3.00s/it]"
     ]
    },
    {
     "name": "stdout",
     "output_type": "stream",
     "text": [
      "CURRENT QUD: ['effective']\n"
     ]
    },
    {
     "name": "stderr",
     "output_type": "stream",
     "text": [
      "\r",
      " 24%|██▍       | 12/50 [00:37<01:57,  3.10s/it]"
     ]
    },
    {
     "name": "stdout",
     "output_type": "stream",
     "text": [
      "CURRENT QUD: ['evil']\n"
     ]
    },
    {
     "name": "stderr",
     "output_type": "stream",
     "text": [
      "\r",
      " 26%|██▌       | 13/50 [00:41<01:57,  3.16s/it]"
     ]
    },
    {
     "name": "stdout",
     "output_type": "stream",
     "text": [
      "CURRENT QUD: ['famous']\n"
     ]
    },
    {
     "name": "stderr",
     "output_type": "stream",
     "text": [
      "\r",
      " 28%|██▊       | 14/50 [00:45<01:56,  3.23s/it]"
     ]
    },
    {
     "name": "stdout",
     "output_type": "stream",
     "text": [
      "CURRENT QUD: ['fascist']\n"
     ]
    },
    {
     "name": "stderr",
     "output_type": "stream",
     "text": [
      "\r",
      " 30%|███       | 15/50 [00:49<01:56,  3.33s/it]"
     ]
    },
    {
     "name": "stdout",
     "output_type": "stream",
     "text": [
      "CURRENT QUD: ['foremost']\n"
     ]
    },
    {
     "name": "stderr",
     "output_type": "stream",
     "text": [
      "\r",
      " 32%|███▏      | 16/50 [00:54<01:55,  3.40s/it]"
     ]
    },
    {
     "name": "stdout",
     "output_type": "stream",
     "text": [
      "CURRENT QUD: ['founding']\n"
     ]
    },
    {
     "name": "stderr",
     "output_type": "stream",
     "text": [
      "\r",
      " 34%|███▍      | 17/50 [00:58<01:54,  3.46s/it]"
     ]
    },
    {
     "name": "stdout",
     "output_type": "stream",
     "text": [
      "CURRENT QUD: ['good']\n"
     ]
    },
    {
     "name": "stderr",
     "output_type": "stream",
     "text": [
      "\r",
      " 36%|███▌      | 18/50 [01:03<01:53,  3.54s/it]"
     ]
    },
    {
     "name": "stdout",
     "output_type": "stream",
     "text": [
      "CURRENT QUD: ['great']\n"
     ]
    },
    {
     "name": "stderr",
     "output_type": "stream",
     "text": [
      "\r",
      " 38%|███▊      | 19/50 [01:09<01:53,  3.65s/it]"
     ]
    },
    {
     "name": "stdout",
     "output_type": "stream",
     "text": [
      "CURRENT QUD: ['important']\n"
     ]
    },
    {
     "name": "stderr",
     "output_type": "stream",
     "text": [
      "\r",
      " 40%|████      | 20/50 [01:14<01:51,  3.72s/it]"
     ]
    },
    {
     "name": "stdout",
     "output_type": "stream",
     "text": [
      "CURRENT QUD: ['legal']\n"
     ]
    },
    {
     "name": "stderr",
     "output_type": "stream",
     "text": [
      "\r",
      " 42%|████▏     | 21/50 [01:19<01:50,  3.80s/it]"
     ]
    },
    {
     "name": "stdout",
     "output_type": "stream",
     "text": [
      "CURRENT QUD: ['legitimate']\n"
     ]
    },
    {
     "name": "stderr",
     "output_type": "stream",
     "text": [
      "\r",
      " 44%|████▍     | 22/50 [01:25<01:48,  3.87s/it]"
     ]
    },
    {
     "name": "stdout",
     "output_type": "stream",
     "text": [
      "CURRENT QUD: ['likely']\n"
     ]
    },
    {
     "name": "stderr",
     "output_type": "stream",
     "text": [
      "\r",
      " 46%|████▌     | 23/50 [01:30<01:46,  3.95s/it]"
     ]
    },
    {
     "name": "stdout",
     "output_type": "stream",
     "text": [
      "CURRENT QUD: ['longtime']\n"
     ]
    },
    {
     "name": "stderr",
     "output_type": "stream",
     "text": [
      "\r",
      " 48%|████▊     | 24/50 [01:37<01:45,  4.06s/it]"
     ]
    },
    {
     "name": "stdout",
     "output_type": "stream",
     "text": [
      "CURRENT QUD: ['loyal']\n"
     ]
    },
    {
     "name": "stderr",
     "output_type": "stream",
     "text": [
      "\r",
      " 50%|█████     | 25/50 [01:43<01:43,  4.14s/it]"
     ]
    },
    {
     "name": "stdout",
     "output_type": "stream",
     "text": [
      "CURRENT QUD: ['main']\n"
     ]
    },
    {
     "name": "stderr",
     "output_type": "stream",
     "text": [
      "\r",
      " 52%|█████▏    | 26/50 [01:49<01:41,  4.21s/it]"
     ]
    },
    {
     "name": "stdout",
     "output_type": "stream",
     "text": [
      "CURRENT QUD: ['major']\n"
     ]
    },
    {
     "name": "stderr",
     "output_type": "stream",
     "text": [
      "\r",
      " 54%|█████▍    | 27/50 [01:55<01:38,  4.29s/it]"
     ]
    },
    {
     "name": "stdout",
     "output_type": "stream",
     "text": [
      "CURRENT QUD: ['national']\n"
     ]
    },
    {
     "name": "stderr",
     "output_type": "stream",
     "text": [
      "\r",
      " 56%|█████▌    | 28/50 [02:02<01:36,  4.37s/it]"
     ]
    },
    {
     "name": "stdout",
     "output_type": "stream",
     "text": [
      "CURRENT QUD: ['notorious']\n"
     ]
    },
    {
     "name": "stderr",
     "output_type": "stream",
     "text": [
      "\r",
      " 58%|█████▊    | 29/50 [02:08<01:33,  4.45s/it]"
     ]
    },
    {
     "name": "stdout",
     "output_type": "stream",
     "text": [
      "CURRENT QUD: ['original']\n"
     ]
    },
    {
     "name": "stderr",
     "output_type": "stream",
     "text": [
      "\r",
      " 60%|██████    | 30/50 [02:15<01:30,  4.53s/it]"
     ]
    },
    {
     "name": "stdout",
     "output_type": "stream",
     "text": [
      "CURRENT QUD: ['other']\n"
     ]
    },
    {
     "name": "stderr",
     "output_type": "stream",
     "text": [
      "\r",
      " 62%|██████▏   | 31/50 [02:23<01:28,  4.64s/it]"
     ]
    },
    {
     "name": "stdout",
     "output_type": "stream",
     "text": [
      "CURRENT QUD: ['particular']\n"
     ]
    },
    {
     "name": "stderr",
     "output_type": "stream",
     "text": [
      "\r",
      " 64%|██████▍   | 32/50 [02:30<01:24,  4.72s/it]"
     ]
    },
    {
     "name": "stdout",
     "output_type": "stream",
     "text": [
      "CURRENT QUD: ['political']\n"
     ]
    },
    {
     "name": "stderr",
     "output_type": "stream",
     "text": [
      "\r",
      " 66%|██████▌   | 33/50 [02:38<01:21,  4.80s/it]"
     ]
    },
    {
     "name": "stdout",
     "output_type": "stream",
     "text": [
      "CURRENT QUD: ['popular']\n"
     ]
    },
    {
     "name": "stderr",
     "output_type": "stream",
     "text": [
      "\r",
      " 68%|██████▊   | 34/50 [02:45<01:18,  4.88s/it]"
     ]
    },
    {
     "name": "stdout",
     "output_type": "stream",
     "text": [
      "CURRENT QUD: ['possible']\n"
     ]
    },
    {
     "name": "stderr",
     "output_type": "stream",
     "text": [
      "\r",
      " 70%|███████   | 35/50 [02:53<01:14,  4.96s/it]"
     ]
    },
    {
     "name": "stdout",
     "output_type": "stream",
     "text": [
      "CURRENT QUD: ['primary']\n"
     ]
    },
    {
     "name": "stderr",
     "output_type": "stream",
     "text": [
      "\r",
      " 72%|███████▏  | 36/50 [03:01<01:10,  5.04s/it]"
     ]
    },
    {
     "name": "stdout",
     "output_type": "stream",
     "text": [
      "CURRENT QUD: ['prime']\n"
     ]
    },
    {
     "name": "stderr",
     "output_type": "stream",
     "text": [
      "\r",
      " 74%|███████▍  | 37/50 [03:09<01:06,  5.11s/it]"
     ]
    },
    {
     "name": "stdout",
     "output_type": "stream",
     "text": [
      "CURRENT QUD: ['prior']\n"
     ]
    },
    {
     "name": "stderr",
     "output_type": "stream",
     "text": [
      "\r",
      " 76%|███████▌  | 38/50 [03:18<01:02,  5.23s/it]"
     ]
    },
    {
     "name": "stdout",
     "output_type": "stream",
     "text": [
      "CURRENT QUD: ['prominent']\n"
     ]
    },
    {
     "name": "stderr",
     "output_type": "stream",
     "text": [
      "\r",
      " 78%|███████▊  | 39/50 [03:27<00:58,  5.31s/it]"
     ]
    },
    {
     "name": "stdout",
     "output_type": "stream",
     "text": [
      "CURRENT QUD: ['responsible']\n"
     ]
    },
    {
     "name": "stderr",
     "output_type": "stream",
     "text": [
      "\r",
      " 80%|████████  | 40/50 [03:35<00:53,  5.39s/it]"
     ]
    },
    {
     "name": "stdout",
     "output_type": "stream",
     "text": [
      "CURRENT QUD: ['revolutionary']\n"
     ]
    },
    {
     "name": "stderr",
     "output_type": "stream",
     "text": [
      "\r",
      " 82%|████████▏ | 41/50 [03:44<00:49,  5.47s/it]"
     ]
    },
    {
     "name": "stdout",
     "output_type": "stream",
     "text": [
      "CURRENT QUD: ['significant']\n"
     ]
    },
    {
     "name": "stderr",
     "output_type": "stream",
     "text": [
      "\r",
      " 84%|████████▍ | 42/50 [03:53<00:44,  5.55s/it]"
     ]
    },
    {
     "name": "stdout",
     "output_type": "stream",
     "text": [
      "CURRENT QUD: ['supposed']\n"
     ]
    },
    {
     "name": "stderr",
     "output_type": "stream",
     "text": [
      "\r",
      " 86%|████████▌ | 43/50 [04:02<00:39,  5.63s/it]"
     ]
    },
    {
     "name": "stdout",
     "output_type": "stream",
     "text": [
      "CURRENT QUD: ['supreme']\n"
     ]
    },
    {
     "name": "stderr",
     "output_type": "stream",
     "text": [
      "\r",
      " 88%|████████▊ | 44/50 [04:11<00:34,  5.71s/it]"
     ]
    },
    {
     "name": "stdout",
     "output_type": "stream",
     "text": [
      "CURRENT QUD: ['sure']\n"
     ]
    },
    {
     "name": "stderr",
     "output_type": "stream",
     "text": [
      "\r",
      " 90%|█████████ | 45/50 [04:20<00:28,  5.79s/it]"
     ]
    },
    {
     "name": "stdout",
     "output_type": "stream",
     "text": [
      "CURRENT QUD: ['true']\n"
     ]
    },
    {
     "name": "stderr",
     "output_type": "stream",
     "text": [
      "\r",
      " 92%|█████████▏| 46/50 [04:29<00:23,  5.86s/it]"
     ]
    },
    {
     "name": "stdout",
     "output_type": "stream",
     "text": [
      "CURRENT QUD: ['tyrannical']\n"
     ]
    },
    {
     "name": "stderr",
     "output_type": "stream",
     "text": [
      "\r",
      " 94%|█████████▍| 47/50 [04:39<00:17,  5.94s/it]"
     ]
    },
    {
     "name": "stdout",
     "output_type": "stream",
     "text": [
      "CURRENT QUD: ['unknown']\n"
     ]
    },
    {
     "name": "stderr",
     "output_type": "stream",
     "text": [
      "\r",
      " 96%|█████████▌| 48/50 [04:50<00:12,  6.05s/it]"
     ]
    },
    {
     "name": "stdout",
     "output_type": "stream",
     "text": [
      "CURRENT QUD: ['various']\n"
     ]
    },
    {
     "name": "stderr",
     "output_type": "stream",
     "text": [
      "\r",
      " 98%|█████████▊| 49/50 [05:00<00:06,  6.13s/it]"
     ]
    },
    {
     "name": "stdout",
     "output_type": "stream",
     "text": [
      "CURRENT QUD: ['vice']\n"
     ]
    },
    {
     "name": "stderr",
     "output_type": "stream",
     "text": [
      "100%|██████████| 50/50 [05:10<00:00,  6.21s/it]\n"
     ]
    },
    {
     "name": "stdout",
     "output_type": "stream",
     "text": [
      "time: 310.4470250606537\n",
      "time: 33.87520742416382\n"
     ]
    }
   ],
   "source": [
    "from __future__ import division\n",
    "from collections import defaultdict\n",
    "import scipy\n",
    "import numpy as np\n",
    "import pickle\n",
    "import itertools\n",
    "from dist_rsa.dbm import *\n",
    "from dist_rsa.utils.load_data import *\n",
    "from dist_rsa.utils.helperfunctions import *\n",
    "from dist_rsa.utils.config import abstract_threshold,concrete_threshold\n",
    "%matplotlib inline\n",
    "import seaborn as sns\n",
    "import matplotlib.pyplot as plt\n",
    "import matplotlib\n",
    "import tensorflow as tf\n",
    "\n",
    "# vec_size,vec_kind = 25,'glove.twitter.27B.'\n",
    "vec_size,vec_kind = 300,'glove.6B.'\n",
    "# freqs = pickle.load(open('dist_rsa/data/google_freqs/freqs','rb'))\n",
    "nouns,adjs = get_words(with_freqs=False)\n",
    "vecs = load_vecs(mean=True,pca=False,vec_length=vec_size,vec_type=vec_kind) \n",
    "\n",
    "def l1_model(subj,pred):\n",
    "\n",
    "    print('abstract_threshold',abstract_threshold)\n",
    "    print('concrete_threshold',concrete_threshold)\n",
    "\n",
    "    qud_words = [a for a in list(adjs) if adjs[a] < abstract_threshold and a in vecs]\n",
    "\n",
    "    quds = sorted(qud_words,\\\n",
    "        key=lambda x:scipy.spatial.distance.cosine(vecs[x],np.mean([vecs[pred],vecs[subj]],axis=0)),reverse=False)\n",
    "        # key=lambda x:freqs[x],reverse=True)\n",
    "\n",
    "    noun_words = [n for n in nouns if nouns[n] > concrete_threshold and n in vecs]\n",
    "    possible_utterances = sorted(noun_words,\\\n",
    "        key=lambda x: scipy.spatial.distance.cosine(vecs[x],np.mean([vecs[subj],vecs[subj]],axis=0)),reverse=False)\n",
    "        # key=lambda x:freqs[x],reverse=True)\n",
    "\n",
    "\n",
    "    for x in possible_utterances:\n",
    "        if x not in vecs:\n",
    "            # print(x,\"not in vecs\")\n",
    "            possible_utterances.remove(x)\n",
    "            # raise Exception(\"utterance not in vecs\")\n",
    "\n",
    "    quds = sorted(quds[:50])\n",
    "    possible_utterances = possible_utterances[:200]\n",
    "\n",
    "    print(\"QUDS\",quds[:10]) \n",
    "    print(\"UTTERANCES:\\n\",possible_utterances[:10])\n",
    "\n",
    "\n",
    "    params = Inference_Params(\n",
    "        vecs=vecs,\n",
    "        subject=[subj],predicate=pred,\n",
    "        quds=quds,\n",
    "        possible_utterances=list(set(possible_utterances).union(set([pred]))),\n",
    "        sig1=20.0,sig2=0.1,l1_sig1=20.0,\n",
    "        qud_weight=0.0,freq_weight=0.0,\n",
    "        number_of_qud_dimensions=1,\n",
    "        poss_utt_frequencies=defaultdict(lambda:1),\n",
    "        qud_frequencies=defaultdict(lambda:1),\n",
    "        rationality=1.0,\n",
    "        norm_vectors=True,\n",
    "        heatmap=False,\n",
    "        resolution=Resolution(span=10,number=100),\n",
    "        model_type=\"discrete_mixture\",\n",
    "        )\n",
    "\n",
    "    run = Dist_RSA_Inference(params)\n",
    "    run.compute_l1(load=0,save=False)\n",
    "\n",
    "\n",
    "    out = run.tf_results\n",
    "    tf.reset_default_graph()\n",
    "    return out,params\n",
    "\n",
    "    # world_means = run.world_samples\n",
    "    # print(world_means[:5],\"MEANS\")\n",
    "\n",
    "    # print(results[:5])\n",
    "\n",
    "    # if not is_baseline:\n",
    "    #     worldm = run.world_movement(\"cosine\",comparanda=[x for x in qud_words if x in vecs])\n",
    "    #     # print(\"\\nworld\\n\",worldm[:5])\n",
    "    # else: worldm = None\n",
    "        # out.write(\"\\nWORLD MOVEMENT:\\n\")\n",
    "        # out.write(str(worldm))\n",
    "    # print(\"WORLD MOVEMENT WITH PROJECTION\\n:\",run.world_movement(\"cosine\",comparanda=[x for x in quds if x in vecs],do_projection=True)[:50])\n",
    "    # print(\"BASELINE:\\n\",sorted(qud_words,\\\n",
    "    #     key=lambda x:scipy.spatial.distance.cosine(vecs[x],np.mean([vecs[subj],vecs[pred]],axis=0)),reverse=False)[:5])\n",
    "\n",
    "    # demarg = demarginalize_product_space(results)\n",
    "    # print(\"\\ndemarginalized:\\n,\",demarg[:5])\n",
    "    # out.write(\"\\ndemarginalized:\\n\")\n",
    "    # out.write((str(demarg)))\n",
    "\n",
    "    # params.number_of_qud_dimensions=1\n",
    "    # run = Dist_RSA_Inference(params)\n",
    "    # run.compute_l1(load=0,save=False)\n",
    "    # results2 = run.qud_results()\n",
    "    # # print(\"\\n1d results\\n\",results2[:10])\n",
    "    # one_d = results2\n",
    "    # one_d=None\n",
    "\n",
    "if __name__ == \"__main__\":\n",
    "\n",
    "    \n",
    "\n",
    "    # for x in range(1):\n",
    "    #     l1_model((\"father\",\"shark\",0.5,0.5,1.0,0,100,False))\n",
    "    results_dict={}\n",
    "    for subj,pred in metaphors:\n",
    "        \n",
    "    \n",
    "        results,params = l1_model(subj=subj,pred=pred)\n",
    "        results_dict[(subj,pred)]=params\n",
    "\n",
    "        # print()\n",
    "\n",
    "\n",
    "        # print(l1_model(subj=\"man\",pred=\"swimmer\"))\n",
    "\n",
    "        # print(scipy.spatial.distance.cosine(vecs['man']-means1[0],vecs['man']-means2[0]))\n",
    "        # worlds,quds=l1_model((\"wall\",\"frog\",1.0,1.0,1.0,0,1000,True))\n",
    "        # print(quds[:10])\n",
    "\n",
    "\n",
    "\n"
   ]
  },
  {
   "cell_type": "code",
   "execution_count": null,
   "metadata": {},
   "outputs": [],
   "source": []
  },
  {
   "cell_type": "code",
   "execution_count": null,
   "metadata": {},
   "outputs": [],
   "source": []
  },
  {
   "cell_type": "code",
   "execution_count": null,
   "metadata": {},
   "outputs": [],
   "source": [
    "# params = results_dict[(\"room\",\"dungeon\")]\n",
    "\n",
    "# pickleable_results_dict = []\n",
    "# for t in results_dict:\n",
    "#     pickleable_results_dict.append(Pickleable_Params(results_dict[t]))\n",
    "    \n",
    "# write a pickler: it takes results_dict and makes a class which pickles\n",
    "    \n",
    "class Results_Pickler:\n",
    "    def __init__(self,results_dict,path):\n",
    "        self.path=path\n",
    "        self.results_dict=results_dict\n",
    "        \n",
    "    def save(self):    \n",
    "        for t in self.results_dict:\n",
    "            pickle.dump(Pickleable_Params(self.results_dict[t]),open(self.path+t[0]+t[1],'wb'))\n",
    "        \n",
    "    def retrieve(self,t):\n",
    "        return pickle.load(open(self.path+t[0]+t[1],'rb'))\n",
    "\n",
    "\n",
    "class Pickleable_Params:\n",
    "    def __init__(self,d):\n",
    "        self.quds=d.quds\n",
    "        self.qud_marginals=d.qud_marginals\n",
    "        self.subspace_prior_means=d.subspace_prior_means\n",
    "        self.subspace_means=d.subspace_means\n",
    "        self.subspace_variances=d.subspace_variances\n",
    "        self.l1_sig1=d.l1_sig1\n",
    "\n",
    "\n",
    "r = Results_Pickler(results_dict=results_dict,path=\"dist_rsa/data/results/pickles/version3aug\")\n",
    "r.save()\n",
    "  \n",
    "# pickleable_params = Pickleable_Params(params)\n",
    "# pickleable_results_dict\n",
    "# pickle.dump( pickleable_results_dict,open(\"dist_rsa/data/results_dict.pkl\",\"wb\"))\n",
    "# a = pickle.load(open(\"dist_rsa/data/results_dict.pkl\",\"rb\"))\n",
    "# a.subspace_prior_means\n"
   ]
  },
  {
   "cell_type": "code",
   "execution_count": 6,
   "metadata": {},
   "outputs": [
    {
     "data": {
      "text/plain": [
       "'dist_rsa/data/results/pickles/version3aug'"
      ]
     },
     "execution_count": 6,
     "metadata": {},
     "output_type": "execute_result"
    }
   ],
   "source": [
    "r.path"
   ]
  },
  {
   "cell_type": "code",
   "execution_count": 24,
   "metadata": {},
   "outputs": [
    {
     "name": "stdout",
     "output_type": "stream",
     "text": [
      "RESOLUTION. SIZE: 50 AMOUNT: 0.1\n",
      "[('tyrannical', 0.4074448), ('fascist', 0.40098113), ('primary', 0.13673538), ('brutal', 0.0102638835), ('original', 0.007978411), ('notorious', 0.004335669), ('important', 0.0042417007), ('corrupt', 0.0031815441), ('foremost', 0.002192254), ('various', 0.0019899874), ('prior', 0.001379855), ('best', 0.0013621154), ('significant', 0.001234782), ('prominent', 0.0009113607), ('particular', 0.0008990404), ('main', 0.0008970124), ('good', 0.00088326726), ('different', 0.0007026564), ('major', 0.00061895774), ('other', 0.00060858106), ('legal', 0.0006029244), ('revolutionary', 0.000592889), ('sure', 0.00058316294), ('evil', 0.00053805526), ('loyal', 0.00052178756), ('common', 0.0005136667), ('responsible', 0.00051335327), ('true', 0.00048304614), ('likely', 0.00046437082), ('certain', 0.00044186343), ('critical', 0.00042003652), ('founding', 0.00041699674), ('unknown', 0.00041324692), ('famous', 0.00040178138), ('national', 0.00039700352), ('vice', 0.000390777), ('great', 0.00038263437), ('supposed', 0.0003189038), ('possible', 0.0003148616), ('popular', 0.0002946679), ('effective', 0.00028661476), ('beloved', 0.00024918246), ('supreme', 0.00021788538), ('political', 0.00021785879), ('alleged', 0.00021026855), ('democratic', 0.0002037744), ('civil', 0.00020279422), ('legitimate', 0.00020073766), ('prime', 0.00019458536), ('longtime', 0.00016786596)]\n",
      "QUD alleged\n",
      "marginal mean 2.9866459921904465\n",
      "prior mean 2.7234326752438083\n",
      "CHECK 1.0709415974768308\n"
     ]
    },
    {
     "data": {
      "image/png": "[encoded data removed]",
      "text/plain": [
       "<matplotlib.figure.Figure at 0x7f6f473425f8>"
      ]
     },
     "metadata": {},
     "output_type": "display_data"
    }
   ],
   "source": [
    "# ps = params\n",
    "ps = r.retrieve(('principal','dictator'))\n",
    "res = Resolution(5.0,50)\n",
    "\n",
    "# qud = sorted(ps.quds).index(\"effective\")\n",
    "# _,_,_ = visualize(ps,qud,res,'red')\n",
    "# print(\"QUD:\",ps.quds[qud])\n",
    "print(sorted(list(zip(sorted(ps.quds),ps.qud_marginals)),key=lambda x:x[1],reverse=True))\n",
    "\n",
    "# for i in range(len(ps.quds)):\n",
    "#     if i > 0: _,_,_ = visualize(params,i,res,'red')\n",
    "    \n",
    "qud = 0\n",
    "print(\"QUD\",sorted(ps.quds)[qud])\n",
    "_,_,_ = visualize(ps,qud,res,'red')\n",
    "\n",
    "#PRIOR\n",
    "# vals = scipy.stats.multivariate_normal.pdf(np.arange(-res.size,res.size)*res.amount,mean=params.subspace_prior_means[line][0],cov=5.0)\n",
    "# hm = matplotlib.pyplot.scatter(c='yellow',x=np.arange(-res.size,res.size)*res.amount,y=vals)\n"
   ]
  },
  {
   "cell_type": "code",
   "execution_count": null,
   "metadata": {},
   "outputs": [],
   "source": []
  },
  {
   "cell_type": "code",
   "execution_count": null,
   "metadata": {},
   "outputs": [],
   "source": []
  },
  {
   "cell_type": "code",
   "execution_count": null,
   "metadata": {},
   "outputs": [],
   "source": []
  },
  {
   "cell_type": "code",
   "execution_count": null,
   "metadata": {},
   "outputs": [],
   "source": []
  },
  {
   "cell_type": "code",
   "execution_count": null,
   "metadata": {},
   "outputs": [],
   "source": []
  },
  {
   "cell_type": "code",
   "execution_count": null,
   "metadata": {},
   "outputs": [],
   "source": []
  },
  {
   "cell_type": "code",
   "execution_count": 2,
   "metadata": {
    "scrolled": true
   },
   "outputs": [
    {
     "name": "stderr",
     "output_type": "stream",
     "text": [
      "/home/rcohngordon/dist-rsa/lib/python3.5/site-packages/h5py/__init__.py:36: FutureWarning: Conversion of the second argument of issubdtype from `float` to `np.floating` is deprecated. In future, it will be treated as `np.float64 == np.dtype(float).type`.\n",
      "  from ._conv import register_converters as _register_converters\n"
     ]
    },
    {
     "name": "stdout",
     "output_type": "stream",
     "text": [
      "UTTERANCES:\n",
      " ['man', 'shark', 'swimmer']\n",
      "RESOLUTION. SIZE: 100 AMOUNT: 0.1\n",
      "subject: ['man']\n",
      "predicate swimmer\n",
      "SIGs 1&2: 5.0 0.5\n",
      "L1 SIG 5.0\n",
      "number of qud dimensions: 1\n",
      "rationality: 1.0\n",
      "Running discrete_mixture RSA with 3 possible utterances and 2\n",
      "RUNNING DISCRETE MIXTURE MODEL\n"
     ]
    },
    {
     "name": "stderr",
     "output_type": "stream",
     "text": [
      "\r",
      "  0%|          | 0/2 [00:00<?, ?it/s]"
     ]
    },
    {
     "name": "stdout",
     "output_type": "stream",
     "text": [
      "qud_combinations 2 [['swims'], ['vicious']]\n",
      "quds 2\n",
      "SIZE,AMOUNT 100 0.1\n",
      "CURRENT QUD: ['swims']\n"
     ]
    },
    {
     "name": "stderr",
     "output_type": "stream",
     "text": [
      "\r",
      " 50%|█████     | 1/2 [00:02<00:02,  2.82s/it]"
     ]
    },
    {
     "name": "stdout",
     "output_type": "stream",
     "text": [
      "(2, 2, 4)\n",
      "(2, 2, 3, 4)\n",
      "CURRENT QUD: ['vicious']\n"
     ]
    },
    {
     "name": "stderr",
     "output_type": "stream",
     "text": [
      "100%|██████████| 2/2 [00:05<00:00,  2.55s/it]\n"
     ]
    },
    {
     "name": "stdout",
     "output_type": "stream",
     "text": [
      "time: 5.102152109146118\n",
      "time: 0.9972281455993652\n",
      "HEATMAP MEAN [ 0.78636926 -0.8239161 ]\n",
      "time: 17.75559401512146\n"
     ]
    }
   ],
   "source": [
    "from __future__ import division\n",
    "from collections import defaultdict\n",
    "import scipy\n",
    "import numpy as np\n",
    "import pickle\n",
    "import itertools\n",
    "from dist_rsa.dbm import *\n",
    "from dist_rsa.utils.load_data import *\n",
    "from dist_rsa.utils.helperfunctions import *\n",
    "from dist_rsa.utils.config import abstract_threshold,concrete_threshold\n",
    "%matplotlib inline\n",
    "import seaborn as sns\n",
    "import matplotlib.pyplot as plt\n",
    "import matplotlib\n",
    "import tensorflow as tf\n",
    "from dist_rsa.utils.simple_vecs import real_vecs as simple_vecs\n",
    "import itertools\n",
    "from dist_rsa.dbm import Resolution\n",
    "\n",
    "\n",
    "\n",
    "\n",
    "def l1_model(subj,pred,sig1,sig2,l1_sig1,quds,possible_utterances):\n",
    "    vec_size,vec_kind = 25,'glove.twitter.27B.'\n",
    "\n",
    "    vecs = simple_vecs\n",
    "    real_vecs= simple_vecs\n",
    "\n",
    "    print(\"UTTERANCES:\\n\",sorted(list(set(possible_utterances).union(set([pred]))))[:20])\n",
    "\n",
    "    params = Inference_Params(\n",
    "        vecs=real_vecs,\n",
    "        subject=[subj],predicate=pred,\n",
    "        quds=quds,\n",
    "        possible_utterances=sorted(list(set(possible_utterances).union(set([pred])))),\n",
    "        sig1=sig1,sig2=sig2, l1_sig1=l1_sig1,\n",
    "        qud_weight=0.0,freq_weight=0.0,\n",
    "        number_of_qud_dimensions=1,\n",
    "        poss_utt_frequencies=defaultdict(lambda:1),\n",
    "        qud_frequencies=defaultdict(lambda:1),\n",
    "        rationality=1.0,\n",
    "        norm_vectors=False,\n",
    "        resolution=Resolution(span=10,number=100),\n",
    "        model_type=\"discrete_mixture\",\n",
    "        heatmap=True,\n",
    "        calculate_projected_marginal_world_posterior=True,\n",
    "        )\n",
    "\n",
    "    run = Dist_RSA_Inference(params)\n",
    "    run.compute_l1(load=0,save=False)\n",
    "    tf_results = run.tf_results\n",
    "    return tf_results,params\n",
    "\n",
    "if __name__ == \"__main__\":\n",
    "\n",
    "    results,params = l1_model(subj=\"man\",pred=\"swimmer\",sig1=5.0,sig2=0.5,l1_sig1=5.0,quds=[\"vicious\",\"swims\"],possible_utterances=[\"shark\",\"swimmer\",\"man\"])\n"
   ]
  },
  {
   "cell_type": "code",
   "execution_count": 28,
   "metadata": {},
   "outputs": [
    {
     "name": "stdout",
     "output_type": "stream",
     "text": [
      "[[ 0.         1.9503281]\n",
      " [-1.3615758  0.       ]]\n",
      "[0.42244858 0.5775515 ]\n",
      "[[ 0.          0.82391334]\n",
      " [-0.7863802   0.        ]]\n",
      "x 0.0\n",
      "y 1.9503283528204471\n"
     ]
    },
    {
     "data": {
      "image/png": "[encoded data removed]",
      "text/plain": [
       "<matplotlib.figure.Figure at 0x7fc550e1f240>"
      ]
     },
     "metadata": {},
     "output_type": "display_data"
    }
   ],
   "source": [
    "# hm_vals = np.flip(np.flip(params.heatmaps[1],axis=0),axis=1)\n",
    "print(params.means)\n",
    "print(params.qud_marginals)\n",
    "print(params.means*np.expand_dims(params.qud_marginals,1))\n",
    "# worlds = params.heatmaps[1]\n",
    "\n",
    "# print(np.array_equal(hms,params.heatmaps))\n",
    "# print(params.qud_marginals)\n",
    "# raise Exception\n",
    "\n",
    "# print(results[1])\n",
    "# print(params.qud_marginals)\n",
    "# raise Exception\n",
    "\n",
    "\n",
    "transposed_hms = np.asarray([np.flip(params.heatmaps[0].T,axis=0),np.flip(params.heatmaps[1].T,axis=1)])\n",
    "# transposed_hms = np.asarray([params.heatmaps[0],params.heatmaps[1]])\n",
    "worlds = np.sum(transposed_hms*np.reshape(params.qud_marginals,(2,1,1)),axis=0)\n",
    "worlds = transposed_hms[0]\n",
    "\n",
    "# worlds = np.flip(params.heatmaps[0].T,axis=0)\n",
    "# worlds = np.flip(params.heatmaps[1].T,axis=1)\n",
    "\n",
    "# print(worlds)\n",
    "# worlds = params.worlds\n",
    "# raise Exception\n",
    "hm = matplotlib.pyplot.scatter(c='blue',x=(np.arange(-params.resolution.size, params.resolution.size+1)*params.resolution.amount),y=np.sum(worlds,axis=0))\n",
    "hm = matplotlib.pyplot.scatter(c='red',x=(np.arange(-params.resolution.size, params.resolution.size+1)*params.resolution.amount),y=np.sum(worlds,axis=1))\n",
    "\n",
    "x = np.sum(worlds,axis=0)\n",
    "print(\"x\",np.sum((np.arange(-params.resolution.size, params.resolution.size+1)*params.resolution.amount)*x))\n",
    "\n",
    "y = np.sum(worlds,axis=1)\n",
    "print(\"y\",np.sum((np.arange(-params.resolution.size, params.resolution.size+1)*params.resolution.amount)*y))\n"
   ]
  },
  {
   "cell_type": "code",
   "execution_count": 33,
   "metadata": {},
   "outputs": [
    {
     "name": "stdout",
     "output_type": "stream",
     "text": [
      "marginal mean 0.8239133325170513\n",
      "prior mean 0.0\n",
      "cond mean 0.0\n",
      "cond variance 5.0\n",
      "marginal mean 0.8239133325170513\n",
      "prior mean 0.0\n",
      "cond mean 0.0\n",
      "cond variance 5.0\n"
     ]
    },
    {
     "data": {
      "image/png": "[encoded data removed]",
      "text/plain": [
       "<matplotlib.figure.Figure at 0x7fc551076080>"
      ]
     },
     "metadata": {},
     "output_type": "display_data"
    }
   ],
   "source": [
    "# res = Resolution(5,100)\n",
    "res = params.resolution\n",
    "# res.amount=1\n",
    "# why is yellow and blue the same\n",
    "# a = visualize(params,1,res,'blue',q=0)\n",
    "# a = visualize(params,1,res,'red',q=1)\n",
    "# a = visualize(params,1,res,'yellow',q=None)\n",
    "# a = visualize(params,0,res,'green',q=None)\n",
    "a = visualize(params,0,res,'red',q=0)\n",
    "a = visualize(params,0,res,'blue',q=1)\n",
    "# visualize(params,1,res,'red',q=1)\n",
    "# visualize(params,1,res,'blue',q=0)\n",
    "# visualize(params,1,res,'blue',q=1)\n",
    "# _,_,_ = visualize(params,1,res,'blue')\n",
    "\n",
    "\n",
    "\n",
    "#PRIOR\n",
    "# vals = scipy.stats.multivariate_normal.pdf(np.arange(-res.size,res.size)*res.amount,mean=params.subspace_prior_means[0][0],cov=5.0)\n",
    "# hm = matplotlib.pyplot.scatter(c='yellow',x=np.arange(-res.size,res.size)*res.amount,y=vals)\n"
   ]
  },
  {
   "cell_type": "code",
   "execution_count": null,
   "metadata": {},
   "outputs": [],
   "source": []
  },
  {
   "cell_type": "code",
   "execution_count": null,
   "metadata": {},
   "outputs": [],
   "source": []
  },
  {
   "cell_type": "code",
   "execution_count": null,
   "metadata": {},
   "outputs": [],
   "source": []
  },
  {
   "cell_type": "code",
   "execution_count": null,
   "metadata": {},
   "outputs": [],
   "source": []
  },
  {
   "cell_type": "code",
   "execution_count": null,
   "metadata": {},
   "outputs": [],
   "source": []
  },
  {
   "cell_type": "code",
   "execution_count": null,
   "metadata": {},
   "outputs": [],
   "source": []
  },
  {
   "cell_type": "code",
   "execution_count": null,
   "metadata": {},
   "outputs": [],
   "source": []
  },
  {
   "cell_type": "code",
   "execution_count": null,
   "metadata": {},
   "outputs": [],
   "source": []
  },
  {
   "cell_type": "code",
   "execution_count": null,
   "metadata": {},
   "outputs": [],
   "source": []
  },
  {
   "cell_type": "code",
   "execution_count": null,
   "metadata": {},
   "outputs": [],
   "source": []
  },
  {
   "cell_type": "code",
   "execution_count": null,
   "metadata": {},
   "outputs": [],
   "source": []
  },
  {
   "cell_type": "code",
   "execution_count": null,
   "metadata": {},
   "outputs": [],
   "source": []
  },
  {
   "cell_type": "code",
   "execution_count": null,
   "metadata": {},
   "outputs": [],
   "source": []
  },
  {
   "cell_type": "code",
   "execution_count": 8,
   "metadata": {},
   "outputs": [
    {
     "name": "stdout",
     "output_type": "stream",
     "text": [
      "UTTERANCES:\n",
      " ['man', 'shark', 'swimmer']\n",
      "RESOLUTION. SIZE: 100 AMOUNT: 0.1\n",
      "subject: ['man']\n",
      "predicate swimmer\n",
      "SIGs 1&2: 5.0 0.5\n",
      "L1 SIG 5.0\n",
      "number of qud dimensions: 1\n",
      "rationality: 1.0\n",
      "Running discrete_exact RSA with 3 possible utterances and 2\n",
      "RUNNING DISCRETE EXACT MODEL\n",
      "QUDS: [['swims'], ['vicious']]\n",
      "sum should be unit 0.9999997\n",
      "MEAN [-0.7909157   0.81742287]\n"
     ]
    }
   ],
   "source": [
    "from __future__ import division\n",
    "from collections import defaultdict\n",
    "import scipy\n",
    "import numpy as np\n",
    "import pickle\n",
    "import itertools\n",
    "from dist_rsa.dbm import *\n",
    "from dist_rsa.utils.load_data import *\n",
    "from dist_rsa.utils.helperfunctions import *\n",
    "from dist_rsa.utils.config import abstract_threshold,concrete_threshold\n",
    "%matplotlib inline\n",
    "import seaborn as sns\n",
    "import matplotlib.pyplot as plt\n",
    "import matplotlib\n",
    "import tensorflow as tf\n",
    "from dist_rsa.utils.simple_vecs import real_vecs as simple_vecs\n",
    "import itertools\n",
    "from dist_rsa.dbm import Resolution\n",
    "\n",
    "\n",
    "\n",
    "\n",
    "def l1_model(subj,pred,sig1,sig2,l1_sig1,quds,possible_utterances):\n",
    "    vec_size,vec_kind = 25,'glove.twitter.27B.'\n",
    "\n",
    "    vecs = simple_vecs\n",
    "    real_vecs= simple_vecs\n",
    "\n",
    "    print(\"UTTERANCES:\\n\",sorted(list(set(possible_utterances).union(set([pred]))))[:20])\n",
    "\n",
    "    params = Inference_Params(\n",
    "        vecs=real_vecs,\n",
    "        subject=[subj],predicate=pred,\n",
    "        quds=quds,\n",
    "        possible_utterances=sorted(list(set(possible_utterances).union(set([pred])))),\n",
    "        sig1=sig1,sig2=sig2, l1_sig1=l1_sig1,\n",
    "        qud_weight=0.0,freq_weight=0.0,\n",
    "        number_of_qud_dimensions=1,\n",
    "        poss_utt_frequencies=defaultdict(lambda:1),\n",
    "        qud_frequencies=defaultdict(lambda:1),\n",
    "        rationality=1.0,\n",
    "        norm_vectors=False,\n",
    "        resolution=Resolution(span=10,number=100),\n",
    "        model_type=\"discrete_exact\",\n",
    "        heatmap=True\n",
    "        )\n",
    "\n",
    "    run = Dist_RSA_Inference(params)\n",
    "    run.compute_l1(load=0,save=False)\n",
    "    tf_results = run.tf_results\n",
    "    return tf_results,params\n",
    "\n",
    "if __name__ == \"__main__\":\n",
    "\n",
    "    results,params = l1_model(subj=\"man\",pred=\"swimmer\",sig1=5.0,sig2=0.5,l1_sig1=5.0,quds=[\"vicious\",\"swims\"],possible_utterances=[\"shark\",\"swimmer\",\"man\"])\n"
   ]
  },
  {
   "cell_type": "code",
   "execution_count": 10,
   "metadata": {},
   "outputs": [
    {
     "name": "stdout",
     "output_type": "stream",
     "text": [
      "-0.7908981402030009\n",
      "-0.8174242649214138\n"
     ]
    },
    {
     "data": {
      "image/png": "[encoded data removed]",
      "text/plain": [
       "<matplotlib.figure.Figure at 0x7f420cf10e10>"
      ]
     },
     "metadata": {},
     "output_type": "display_data"
    }
   ],
   "source": [
    "hm_vals = results[0]\n",
    "# *np.expand_dims(params.qud_marginals,1)\n",
    "# y=np.sum(hm_vals,axis=1)\n",
    "# x=(np.arange(-params.resolution.size,params.resolution.size)*params.resolution.amount)\n",
    "# print(x.shape,y.shape)\n",
    "hm = matplotlib.pyplot.scatter(c='blue',x=(np.arange(-params.resolution.size, params.resolution.size+1)*params.resolution.amount),y=np.sum(hm_vals,axis=0))\n",
    "# print((hm_vals))\n",
    "y = np.sum(hm_vals,axis=1)\n",
    "print(np.sum((np.arange(-params.resolution.size, params.resolution.size+1)*params.resolution.amount)*y))\n",
    "x = np.sum(hm_vals,axis=0)\n",
    "print(np.sum((np.arange(-params.resolution.size, params.resolution.size+1)*params.resolution.amount)*x))"
   ]
  },
  {
   "cell_type": "code",
   "execution_count": null,
   "metadata": {},
   "outputs": [],
   "source": []
  }
 ],
 "metadata": {
  "kernelspec": {
   "display_name": "Python 3",
   "language": "python",
   "name": "python3"
  },
  "language_info": {
   "codemirror_mode": {
    "name": "ipython",
    "version": 3
   },
   "file_extension": ".py",
   "mimetype": "text/x-python",
   "name": "python",
   "nbconvert_exporter": "python",
   "pygments_lexer": "ipython3",
   "version": "3.5.2"
  }
 },
 "nbformat": 4,
 "nbformat_minor": 2
}
