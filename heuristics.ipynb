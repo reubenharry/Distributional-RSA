{
 "cells": [
  {
   "cell_type": "code",
   "execution_count": 1,
   "metadata": {},
   "outputs": [
    {
     "name": "stdout",
     "output_type": "stream",
     "text": [
      "\n",
      "loading vecs (load vecs): glove.6B.mean_vecs300\n",
      "{'nsubj': [], 'sent': ['energy', 'department', 'spokesman', 'says', 'sulfur', 'dioxide', 'might', 'simultaneously', 'recoverable', 'use', 'powdered', 'limestone', 'tends', 'absorb', 'sulfur', './.'], 'dobj': ['sulfur'], 'verb': 'absorb'}\n",
      "{'nsubj': [], 'sent': ['energy', 'department', 'spokesman', 'says', 'sulfur', 'dioxide', 'might', 'simultaneously', 'recoverable', 'use', 'powdered', 'limestone', 'tends', 'absorb', 'sulfur', './.'], 'dobj': ['sulfur'], 'verb': 'absorb'}\n",
      "{'nsubj': ['the', 'yellow', 'beta', 'carotene', 'pigment'], 'sent': ['the', 'yellow', 'beta', 'carotene', 'pigment', 'absorbs', 'blue', '-lrb-', 'yellow', '-rrb-', 'laser', 'light', './.'], 'dobj': ['blue', '-lrb-'], 'verb': 'absorb'}\n",
      "{'nsubj': ['the', 'yellow', 'beta', 'carotene', 'pigment'], 'sent': ['the', 'yellow', 'beta', 'carotene', 'pigment', 'absorbs', 'blue', '-lrb-', 'yellow', '-rrb-', 'laser', 'light', './.'], 'dobj': ['blue', '-lrb-'], 'verb': 'absorb'}\n",
      "{'nsubj': ['ground'], 'sent': ['this', 'time', 'ground', 'absorbed', 'shock', 'waves', 'enough', 'transfer', 'images', 'metal', 'bas', 'relief', './.'], 'dobj': ['shock', 'waves', 'enough', 'transfer', 'images', 'metal', 'bas', 'relief'], 'verb': 'absorb'}\n",
      "{'nsubj': ['ground'], 'sent': ['this', 'time', 'ground', 'absorbed', 'shock', 'waves', 'enough', 'transfer', 'images', 'metal', 'bas', 'relief', './.'], 'dobj': ['shock', 'waves', 'enough', 'transfer', 'images', 'metal', 'bas', 'relief'], 'verb': 'absorb'}\n",
      "BLAH BLAH\n",
      "[False]\n",
      "`` Vitamins could be passed right out of the body without being absorbed , '' he says ./.\n",
      "FAILURE\n",
      "{'nsubj': ['sultry', 'light'], 'sent': ['eliot', 'wrote', 'warm', 'haze', 'sultry', 'light', 'absorbed', 'refracted', 'grey', 'stone', 'flowers', 'indeed', 'sleep', 'empty', 'silence'], 'dobj': [], 'verb': 'absorb'}\n",
      "{'nsubj': ['sultry', 'light'], 'sent': ['eliot', 'wrote', 'warm', 'haze', 'sultry', 'light', 'absorbed', 'refracted', 'grey', 'stone', 'flowers', 'indeed', 'sleep', 'empty', 'silence'], 'dobj': [], 'verb': 'absorb'}\n",
      "{'nsubj': [], 'sent': ['new', 'pig', 'corp', 'tipton', 'offers', 'hot', 'dog', 'shaped', 'sponge', 'absorbs', 'polluting', 'liquids', 'around', 'factory', 'machines', './.'], 'dobj': ['polluting', 'liquids', 'around', 'factory', 'machines'], 'verb': 'absorb'}\n",
      "{'nsubj': [], 'sent': ['new', 'pig', 'corp', 'tipton', 'offers', 'hot', 'dog', 'shaped', 'sponge', 'absorbs', 'polluting', 'liquids', 'around', 'factory', 'machines', './.'], 'dobj': ['polluting', 'liquids', 'around', 'factory', 'machines'], 'verb': 'absorb'}\n",
      "{'nsubj': [], 'sent': ['mr.', 'gallas', 'says', 'began', 'looking', 'melanin', 'five', 'years', 'ago', 'working', 'solar', 'energy', 'looking', 'materials', 'absorb', 'sunlight', './.'], 'dobj': ['sunlight'], 'verb': 'absorb'}\n",
      "{'nsubj': [], 'sent': ['mr.', 'gallas', 'says', 'began', 'looking', 'melanin', 'five', 'years', 'ago', 'working', 'solar', 'energy', 'looking', 'materials', 'absorb', 'sunlight', './.'], 'dobj': ['sunlight'], 'verb': 'absorb'}\n",
      "BLAH BLAH\n",
      "[False, False, False]\n",
      "The fatty deposits have a yellowish hue and therefore absorb more of the yellow laser energy than the surrounding , almost colorless artery wall ./.\n",
      "FAILURE\n",
      "Mr. Filisko says his fluids do n't rely on absorbed water , and perform better as temperatures rise ./.\n",
      "FAILURE\n",
      "For example , he carefully steered clear of controversies such as New York 's Tawana Brawley case , where some rabble-rousing lawyers are charging that a young black woman was assaulted and raped by whites ./.\n",
      "FAILURE\n",
      "Last year , the NRA ran a newspaper ad featuring a harrowing photo of a frightened woman and asserting that a 20-year-old American woman has a 72 % chance of being raped , robbed or assaulted in her lifetime ./.\n",
      "FAILURE\n",
      "Among the tantrums he admits: heaving a faulty phone across the control room , kicking in a TV screen to force NBC to buy a new one , and assaulting construction workers who were too noisy during taping ./.\n",
      "FAILURE\n",
      "Mr. Tyson has denied that he tried to kill himself and that he assaulted his wife ./.\n",
      "FAILURE\n",
      "He was detained on June 23 , and for two weeks he was regularly assaulted by South African police ./.\n",
      "FAILURE\n",
      "John Gil , a San Diego landlord , and Mike Black , an apartment manager , were sued in state Superior Court in San Diego by a tenant who was assaulted by a pet monkey owned by two other renters ./.\n",
      "FAILURE\n",
      "Mr. Guez , of Old Westbury , N.Y . , also is currently under indictment and awaiting trial for allegedly assaulting a deputy U.S. marshal who tried to seize Sasson records last year at the posh $ 5.5 million Manhattan townhouse where Mr. Guez once resided ./.\n",
      "FAILURE\n",
      "{'nsubj': [], 'sent': ['but', 'short', 'term', 'absorb', 'lot', 'top', 'management', 'energy', 'attention', 'says', 'philippe', 'haspeslagh', 'business', 'professor', 'european', 'management', 'school', 'insead', 'paris', './.'], 'dobj': ['lot', 'top', 'management', 'energy', 'attention'], 'verb': 'absorb'}\n",
      "{'nsubj': [], 'sent': ['but', 'short', 'term', 'absorb', 'lot', 'top', 'management', 'energy', 'attention', 'says', 'philippe', 'haspeslagh', 'business', 'professor', 'european', 'management', 'school', 'insead', 'paris', './.'], 'dobj': ['lot', 'top', 'management', 'energy', 'attention'], 'verb': 'absorb'}\n",
      "{'nsubj': ['shocks', 'one', 'time', 'changes', 'terms', 'trade'], 'sent': ['shocks', 'one', 'time', 'changes', 'terms', 'trade', 'absorbed', 'adjustments', 'exchange', 'rate', 'terms', 'price', 'levels', './.'], 'dobj': [], 'verb': 'absorb'}\n",
      "{'nsubj': ['shocks', 'one', 'time', 'changes', 'terms', 'trade'], 'sent': ['shocks', 'one', 'time', 'changes', 'terms', 'trade', 'absorbed', 'adjustments', 'exchange', 'rate', 'terms', 'price', 'levels', './.'], 'dobj': [], 'verb': 'absorb'}\n",
      "{'nsubj': ['houston', 'based', 'unit', 'texas', 'air', 'corp.'], 'sent': ['during', 'past', 'months', 'houston', 'based', 'unit', 'texas', 'air', 'corp.', 'absorbed', 'several', 'carriers', 'process', 'inheriting', 'hodge', 'podge', 'different', 'aircraft', './.'], 'dobj': ['several', 'carriers'], 'verb': 'absorb'}\n",
      "{'nsubj': ['houston', 'based', 'unit', 'texas', 'air', 'corp.'], 'sent': ['during', 'past', 'months', 'houston', 'based', 'unit', 'texas', 'air', 'corp.', 'absorbed', 'several', 'carriers', 'process', 'inheriting', 'hodge', 'podge', 'different', 'aircraft', './.'], 'dobj': ['several', 'carriers'], 'verb': 'absorb'}\n",
      "{'nsubj': ['cincinnati', 'residents'], 'sent': ['years', 'since', '1853', '058', 'steamboats', 'arrived', 'cincinnati', 'waterfront', 'loaded', 'foreign', 'people', 'exotic', 'merchandise', 'cincinnati', 'residents', 'absorbed', 'chili', 'pizza', 'wontons', 'dirty', 'rice', 'adjusting', 'electric', 'music', 'jet', 'lag', './.'], 'dobj': ['chili', 'pizza', 'wontons', 'dirty', 'rice'], 'verb': 'absorb'}\n",
      "{'nsubj': ['cincinnati', 'residents'], 'sent': ['years', 'since', '1853', '058', 'steamboats', 'arrived', 'cincinnati', 'waterfront', 'loaded', 'foreign', 'people', 'exotic', 'merchandise', 'cincinnati', 'residents', 'absorbed', 'chili', 'pizza', 'wontons', 'dirty', 'rice', 'adjusting', 'electric', 'music', 'jet', 'lag', './.'], 'dobj': ['chili', 'pizza', 'wontons', 'dirty', 'rice'], 'verb': 'absorb'}\n",
      "{'nsubj': [], 'sent': ['mr.', 'wyss', 'data', 'resources', 'suggested', 'factories', 'may', 'difficulty', 'hiring', 'new', 'workers', 'time', 'low', 'unemployment', 'may', 'simply', 'able', 'absorb', 'many', 'new', 'workers', 'would', 'like', './.'], 'dobj': ['many', 'new', 'workers'], 'verb': 'absorb'}\n",
      "{'nsubj': [], 'sent': ['mr.', 'wyss', 'data', 'resources', 'suggested', 'factories', 'may', 'difficulty', 'hiring', 'new', 'workers', 'time', 'low', 'unemployment', 'may', 'simply', 'able', 'absorb', 'many', 'new', 'workers', 'would', 'like', './.'], 'dobj': ['many', 'new', 'workers'], 'verb': 'absorb'}\n",
      "{'nsubj': ['management', 'three', 'five', 'highest', 'yielding', 'general', 'purpose', 'funds'], 'sent': ['management', 'three', 'five', 'highest', 'yielding', 'general', 'purpose', 'funds', 'ranked', 'donoghue', 'organization', 'absorb', 'portion', 'fund', 'expenses', './.'], 'dobj': ['portion', 'fund', 'expenses'], 'verb': 'absorb'}\n",
      "{'nsubj': ['management', 'three', 'five', 'highest', 'yielding', 'general', 'purpose', 'funds'], 'sent': ['management', 'three', 'five', 'highest', 'yielding', 'general', 'purpose', 'funds', 'ranked', 'donoghue', 'organization', 'absorb', 'portion', 'fund', 'expenses', './.'], 'dobj': ['portion', 'fund', 'expenses'], 'verb': 'absorb'}\n",
      "BLAH BLAH\n",
      "[]\n",
      "Meanwhile , Democratic nominee Michael Dukakis -- after a month of absorbing Republican blows on his patriotism and being portrayed as a big taxer -- tried to gain the offensive with an old Democratic chestnut: the Republicans are going to take away your Social Security ./.\n",
      "FAILURE\n",
      "{'nsubj': [], 'sent': ['and', 'even', 'loophole', 'closed', '1980', 'japanese', 'decided', 'absorb', 'tariff', 'rather', 'boost', 'prices', './.'], 'dobj': ['tariff'], 'verb': 'absorb'}\n",
      "{'nsubj': [], 'sent': ['and', 'even', 'loophole', 'closed', '1980', 'japanese', 'decided', 'absorb', 'tariff', 'rather', 'boost', 'prices', './.'], 'dobj': ['tariff'], 'verb': 'absorb'}\n",
      "{'nsubj': ['nation', 'fourth', 'largest', 'city'], 'sent': ['while', 'rest', 'nation', 'watched', 'mere', 'curiosity', 'slight', 'concern', 'nation', 'fourth', 'largest', 'city', 'thoroughly', 'absorbed', 'approach', 'hurricane', 'gilbert', './.'], 'dobj': [], 'verb': 'absorb'}\n",
      "{'nsubj': ['nation', 'fourth', 'largest', 'city'], 'sent': ['while', 'rest', 'nation', 'watched', 'mere', 'curiosity', 'slight', 'concern', 'nation', 'fourth', 'largest', 'city', 'thoroughly', 'absorbed', 'approach', 'hurricane', 'gilbert', './.'], 'dobj': [], 'verb': 'absorb'}\n",
      "{'nsubj': [], 'sent': ['mr.', 'ennis', 'said', 'believes', 'rockwood', 'got', 'financial', 'difficulty', 'expansion', 'efforts', 'outstripped', 'ability', 'absorb', 'activities'], 'dobj': ['activities'], 'verb': 'absorb'}\n",
      "{'nsubj': [], 'sent': ['mr.', 'ennis', 'said', 'believes', 'rockwood', 'got', 'financial', 'difficulty', 'expansion', 'efforts', 'outstripped', 'ability', 'absorb', 'activities'], 'dobj': ['activities'], 'verb': 'absorb'}\n",
      "BLAH BLAH\n",
      "[False, False]\n",
      "The clearance came as a notary approved Ferruzzi 's plan to absorb Iniziativa Me.T.A ./.\n",
      "FAILURE\n",
      "{'nsubj': ['gen.', 'jaruzelski'], 'sent': ['style', 'strikes', 'last', 'may', 'indicates', 'anything', 'gen.', 'jaruzelski', \"n't\", 'absorbed', './.'], 'dobj': [], 'verb': 'absorb'}\n",
      "{'nsubj': ['gen.', 'jaruzelski'], 'sent': ['style', 'strikes', 'last', 'may', 'indicates', 'anything', 'gen.', 'jaruzelski', \"n't\", 'absorbed', './.'], 'dobj': [], 'verb': 'absorb'}\n"
     ]
    },
    {
     "name": "stdout",
     "output_type": "stream",
     "text": [
      "{'nsubj': ['remics'], 'sent': ['remics', 'absorbing', 'bulk', 'newly', 'issued', 'mortgage', 'securities', 'institutional', 'buyers', 'thrifts', 'insurance', 'companies', 'prefer', 'tailored', 'investment', 'features', 'structured', 'mortgage', 'securities', 'greater', 'payment', 'uncertainties', 'ordinary', 'pass', 'throughs', 'issued', 'ginnie', 'mae', 'freddie', 'mac', 'fannie', 'mae', './.'], 'dobj': ['bulk', 'newly', 'issued', 'mortgage', 'securities', 'institutional', 'buyers', 'thrifts', 'insurance', 'companies'], 'verb': 'absorb'}\n",
      "{'nsubj': ['remics'], 'sent': ['remics', 'absorbing', 'bulk', 'newly', 'issued', 'mortgage', 'securities', 'institutional', 'buyers', 'thrifts', 'insurance', 'companies', 'prefer', 'tailored', 'investment', 'features', 'structured', 'mortgage', 'securities', 'greater', 'payment', 'uncertainties', 'ordinary', 'pass', 'throughs', 'issued', 'ginnie', 'mae', 'freddie', 'mac', 'fannie', 'mae', './.'], 'dobj': ['bulk', 'newly', 'issued', 'mortgage', 'securities', 'institutional', 'buyers', 'thrifts', 'insurance', 'companies'], 'verb': 'absorb'}\n",
      "{'nsubj': [], 'sent': ['robert', 'heady', 'publisher', 'bank', 'rate', 'monitor', 'north', 'palm', 'beach', 'fla', 'interest', 'rate', 'newsletter', 'said', 'banks', \"n't\", 'jump', 'hoops', 'raise', 'savings', 'yields', 'hours', 'absorbing', 'news', 'federal', 'discount', 'rate'], 'dobj': ['news', 'federal', 'discount', 'rate'], 'verb': 'absorb'}\n",
      "{'nsubj': [], 'sent': ['robert', 'heady', 'publisher', 'bank', 'rate', 'monitor', 'north', 'palm', 'beach', 'fla', 'interest', 'rate', 'newsletter', 'said', 'banks', \"n't\", 'jump', 'hoops', 'raise', 'savings', 'yields', 'hours', 'absorbing', 'news', 'federal', 'discount', 'rate'], 'dobj': ['news', 'federal', 'discount', 'rate'], 'verb': 'absorb'}\n",
      "BLAH BLAH\n",
      "[False, False, False, False, False, False, False, False, False]\n",
      "Now , do all of them absorb it and grab it ?/.\n",
      "FAILURE\n",
      "BLAH BLAH\n",
      "[False, False, False]\n",
      "`` In a small company , the CEO and his people become so absorbed in the Eleven that it dominates the existence of the company . ''/''\n",
      "FAILURE\n",
      "{'nsubj': [], 'sent': ['the', 'house', 'passed', 'version', 'also', 'includes', 'raise', 'would', 'require', 'agencies', 'absorb', 'half', 'cost', './.'], 'dobj': ['half', 'cost'], 'verb': 'absorb'}\n",
      "{'nsubj': [], 'sent': ['the', 'house', 'passed', 'version', 'also', 'includes', 'raise', 'would', 'require', 'agencies', 'absorb', 'half', 'cost', './.'], 'dobj': ['half', 'cost'], 'verb': 'absorb'}\n",
      "{'nsubj': [], 'sent': ['1946', 'stalin', 'campaign', 'break', 'ukrainian', 'nationalism', 'brutally', 'forced', 'russian', 'orthodox', 'church', 'absorb', 'ukrainian', 'catholic', 'church', './.'], 'dobj': ['ukrainian', 'catholic', 'church'], 'verb': 'absorb'}\n",
      "{'nsubj': [], 'sent': ['1946', 'stalin', 'campaign', 'break', 'ukrainian', 'nationalism', 'brutally', 'forced', 'russian', 'orthodox', 'church', 'absorb', 'ukrainian', 'catholic', 'church', './.'], 'dobj': ['ukrainian', 'catholic', 'church'], 'verb': 'absorb'}\n",
      "{'nsubj': [], 'sent': ['and', '300', 'million', 'sunflower', 'industry', 'faring', 'far', 'worse', '10.5', 'billion', 'soybean', 'industry', 'large', 'enough', 'absorb', 'short', 'term', 'setbacks', './.'], 'dobj': ['short', 'term', 'setbacks'], 'verb': 'absorb'}\n",
      "{'nsubj': [], 'sent': ['and', '300', 'million', 'sunflower', 'industry', 'faring', 'far', 'worse', '10.5', 'billion', 'soybean', 'industry', 'large', 'enough', 'absorb', 'short', 'term', 'setbacks', './.'], 'dobj': ['short', 'term', 'setbacks'], 'verb': 'absorb'}\n",
      "{'nsubj': ['the', 'cost', '250', 'month'], 'sent': ['the', 'cost', '250', 'month', 'absorbs', 'almost', 'third', '400', 'monthly', 'take', 'home', 'pay', './.'], 'dobj': ['almost', 'third', '400', 'monthly', 'take', 'home', 'pay'], 'verb': 'absorb'}\n",
      "{'nsubj': ['the', 'cost', '250', 'month'], 'sent': ['the', 'cost', '250', 'month', 'absorbs', 'almost', 'third', '400', 'monthly', 'take', 'home', 'pay', './.'], 'dobj': ['almost', 'third', '400', 'monthly', 'take', 'home', 'pay'], 'verb': 'absorb'}\n",
      "{'nsubj': ['market'], 'sent': ['when', 'market', 'absorbs', 'heavy', 'selling', 'one', 'still', 'comes', 'back', 'indicates', 'wants', 'higher', 'mr.', 'radoccia', 'said', './.'], 'dobj': ['heavy', 'selling'], 'verb': 'absorb'}\n",
      "{'nsubj': ['market'], 'sent': ['when', 'market', 'absorbs', 'heavy', 'selling', 'one', 'still', 'comes', 'back', 'indicates', 'wants', 'higher', 'mr.', 'radoccia', 'said', './.'], 'dobj': ['heavy', 'selling'], 'verb': 'absorb'}\n",
      "{'nsubj': ['jordan'], 'sent': ['jordan', 'flagging', 'economy', '4.2', 'annual', 'birth', 'rate', 'could', \"n't\", 'absorb', 'another', 'influx', 'refugees', 'matter', 'sympathetically', 'viewed', 'plight', './.'], 'dobj': ['another', 'influx', 'refugees'], 'verb': 'absorb'}\n",
      "{'nsubj': ['jordan'], 'sent': ['jordan', 'flagging', 'economy', '4.2', 'annual', 'birth', 'rate', 'could', \"n't\", 'absorb', 'another', 'influx', 'refugees', 'matter', 'sympathetically', 'viewed', 'plight', './.'], 'dobj': ['another', 'influx', 'refugees'], 'verb': 'absorb'}\n",
      "{'nsubj': [], 'sent': ['some', 'diamond', 'analysts', 'said', 'dealers', 'may', 'find', 'difficult', 'absorb', 'beers', 'latest', 'price', 'increase', 'particularly', 'since', 'followed', 'rise', 'prices', 'early', 'october', './.'], 'dobj': ['beers'], 'verb': 'absorb'}\n",
      "{'nsubj': [], 'sent': ['some', 'diamond', 'analysts', 'said', 'dealers', 'may', 'find', 'difficult', 'absorb', 'beers', 'latest', 'price', 'increase', 'particularly', 'since', 'followed', 'rise', 'prices', 'early', 'october', './.'], 'dobj': ['beers'], 'verb': 'absorb'}\n",
      "BLAH BLAH\n",
      "[False, False]\n",
      "By 1983 he had become so absorbed in his quest that he resigned as China correspondent for The Wall Street Journal and spent much of the next four years in China visiting relatives , searching libraries and scrabbling through underbrush looking for grave sites ./.\n",
      "FAILURE\n",
      "{'nsubj': ['mr.', 'jackson'], 'sent': ['mr.', 'jackson', 'absorbed', 'whatever', 'press', 'give', 'useful', 'along', 'condescending', './.'], 'dobj': [], 'verb': 'absorb'}\n",
      "{'nsubj': ['mr.', 'jackson'], 'sent': ['mr.', 'jackson', 'absorbed', 'whatever', 'press', 'give', 'useful', 'along', 'condescending', './.'], 'dobj': [], 'verb': 'absorb'}\n",
      "The scenes two weeks ago of ordinary people in Krasnoyarsk verbally assaulting Mikhail Gorbachev because of the shortage of goods in the shops reflect how deep popular disappointment is over the results of `` perestroika '' thus far ./.\n",
      "FAILURE\n",
      "The bill admits that the key to winning the drug war is assaulting the demand side ./.\n",
      "FAILURE\n",
      "For the past 10 years the House Subcommittee on Africa , first under Stephen Solarz -LRB- D . , N.Y. -RRB- and now under Howard Wolpe -LRB- D . , Mich. -RRB- , has annually assaulted White House requests for aid appropriations ./.\n",
      "FAILURE\n",
      "Sound is not the only thing with which the audience is assaulted at `` Chess . ''/''\n",
      "FAILURE\n",
      "BEST -- Baker: Attempted in each post to make government function using , not assaulting , the democratic process ./.\n",
      "FAILURE\n"
     ]
    }
   ],
   "source": [
    "import matplotlib\n",
    "import matplotlib.pyplot as plt\n",
    "from dist_rsa.heuristics import *\n",
    "\n"
   ]
  },
  {
   "cell_type": "code",
   "execution_count": 2,
   "metadata": {},
   "outputs": [
    {
     "data": {
      "image/png": "[encoded data removed]",
      "text/plain": [
       "<matplotlib.figure.Figure at 0x7fee9cc67080>"
      ]
     },
     "metadata": {},
     "output_type": "display_data"
    }
   ],
   "source": [
    "prior_hm = matplotlib.pyplot.scatter(c='yellow',x=lit_data[0],y=lit_data[1])\n",
    "_ = matplotlib.pyplot.scatter(c='red',x=met_data[0],y=met_data[1])"
   ]
  },
  {
   "cell_type": "code",
   "execution_count": null,
   "metadata": {},
   "outputs": [],
   "source": []
  }
 ],
 "metadata": {
  "kernelspec": {
   "display_name": "Python 3",
   "language": "python",
   "name": "python3"
  },
  "language_info": {
   "codemirror_mode": {
    "name": "ipython",
    "version": 3
   },
   "file_extension": ".py",
   "mimetype": "text/x-python",
   "name": "python",
   "nbconvert_exporter": "python",
   "pygments_lexer": "ipython3",
   "version": "3.5.2"
  }
 },
 "nbformat": 4,
 "nbformat_minor": 2
}
