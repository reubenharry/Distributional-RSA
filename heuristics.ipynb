{
 "cells": [
  {
   "cell_type": "code",
   "execution_count": 1,
   "metadata": {},
   "outputs": [
    {
     "name": "stderr",
     "output_type": "stream",
     "text": [
      "/home/rcohngordon/dist-rsa/lib/python3.5/site-packages/h5py/__init__.py:36: FutureWarning: Conversion of the second argument of issubdtype from `float` to `np.floating` is deprecated. In future, it will be treated as `np.float64 == np.dtype(float).type`.\n",
      "  from ._conv import register_converters as _register_converters\n"
     ]
    },
    {
     "name": "stdout",
     "output_type": "stream",
     "text": [
      "\n",
      "loading vecs (load vecs): glove.6B.mean_vecs300\n"
     ]
    }
   ],
   "source": [
    "import matplotlib\n",
    "import matplotlib.pyplot as plt\n",
    "from dist_rsa.heuristics import *\n",
    "\n"
   ]
  },
  {
   "cell_type": "code",
   "execution_count": 26,
   "metadata": {},
   "outputs": [
    {
     "name": "stdout",
     "output_type": "stream",
     "text": [
      "\n",
      "loading vecs (load vecs): glove.6B.mean_vecs300\n"
     ]
    }
   ],
   "source": [
    "# old_vecs = vecs\n",
    "vecs = load_vecs(mean=True,pca=False,vec_length=300,vec_type='glove.6B.')\n",
    "\n",
    "# new_vecs = {}\n",
    "# for vec in vecs:\n",
    "#     new_vecs[vec]=vecs[vec]/np.linalg.norm(vecs[vec])\n",
    "# vecs = new_vecs\n",
    "\n"
   ]
  },
  {
   "cell_type": "code",
   "execution_count": 27,
   "metadata": {},
   "outputs": [
    {
     "name": "stdout",
     "output_type": "stream",
     "text": [
      "['attack', 'cool', 'plow', 'drown', 'knock', 'stick', 'kick', 'pour', 'wither', 'stumble', 'step', 'rest', 'fill', 'drink', 'melt', 'drag', 'dissolve', 'play', 'evaporate', 'plant', 'assault', 'grab', 'vaporize', 'sleep', 'rain', 'strike', 'kill', 'pass', 'eat', 'flourish', 'examine', 'escape', 'fly', 'dance', 'miss', 'absorb', 'flood', 'besiege', 'lend', 'destroy', 'ride', 'touch', 'target', 'fix', 'pump', 'flow', 'grasp', 'smooth', 'roll', 'die']\n"
     ]
    }
   ],
   "source": [
    "import random\n",
    "\n",
    "data = load_trofi_data()\n",
    "\n",
    "print(list(data.keys()))"
   ]
  },
  {
   "cell_type": "code",
   "execution_count": 28,
   "metadata": {
    "scrolled": true
   },
   "outputs": [
    {
     "name": "stdout",
     "output_type": "stream",
     "text": [
      "\n",
      "\n",
      "\n",
      "\n",
      "\n",
      "absorb\n",
      "\n",
      "\n",
      "\n",
      "\n",
      "\n",
      "\n",
      "\n",
      "\n",
      "assault\n",
      "\n",
      "\n",
      "\n",
      "\n",
      "\n",
      "\n",
      "\n",
      "\n",
      "attack\n",
      "\n",
      "\n",
      "\n",
      "\n",
      "\n",
      "\n",
      "\n",
      "\n",
      "besiege\n",
      "\n",
      "\n",
      "\n",
      "\n",
      "\n",
      "\n",
      "\n",
      "\n",
      "cool\n",
      "\n",
      "\n",
      "\n",
      "\n",
      "\n",
      "\n",
      "\n",
      "\n",
      "dance\n",
      "\n",
      "\n",
      "\n",
      "\n",
      "\n",
      "\n",
      "\n",
      "\n",
      "destroy\n",
      "\n",
      "\n",
      "\n",
      "\n",
      "\n",
      "\n",
      "\n",
      "\n",
      "die\n",
      "\n",
      "\n",
      "\n"
     ]
    },
    {
     "name": "stderr",
     "output_type": "stream",
     "text": [
      "/home/rcohngordon/dist-rsa/lib/python3.5/site-packages/numpy/core/fromnumeric.py:2957: RuntimeWarning: Mean of empty slice.\n",
      "  out=out, **kwargs)\n",
      "/home/rcohngordon/dist-rsa/lib/python3.5/site-packages/numpy/core/_methods.py:80: RuntimeWarning: invalid value encountered in double_scalars\n",
      "  ret = ret.dtype.type(ret / rcount)\n"
     ]
    },
    {
     "name": "stdout",
     "output_type": "stream",
     "text": [
      "\n",
      "\n",
      "\n",
      "\n",
      "\n",
      "dissolve\n",
      "\n",
      "\n",
      "\n",
      "\n",
      "\n",
      "\n",
      "\n",
      "\n",
      "drag\n",
      "\n",
      "\n",
      "\n",
      "\n",
      "\n",
      "\n",
      "\n",
      "\n",
      "drink\n",
      "\n",
      "\n",
      "\n",
      "\n",
      "\n",
      "\n",
      "\n",
      "\n",
      "drown\n",
      "\n",
      "\n",
      "\n",
      "\n",
      "\n",
      "\n",
      "\n",
      "\n",
      "eat\n",
      "\n",
      "\n",
      "\n",
      "\n",
      "\n",
      "\n",
      "\n",
      "\n",
      "escape\n",
      "\n",
      "\n",
      "\n",
      "\n",
      "\n",
      "\n",
      "\n",
      "\n",
      "evaporate\n",
      "\n",
      "\n",
      "\n",
      "\n",
      "\n",
      "\n",
      "\n",
      "\n",
      "examine\n",
      "\n",
      "\n",
      "\n",
      "\n",
      "\n",
      "\n",
      "\n",
      "\n",
      "fill\n",
      "\n",
      "\n",
      "\n",
      "\n",
      "\n",
      "\n",
      "\n",
      "\n",
      "fix\n",
      "\n",
      "\n",
      "\n",
      "\n",
      "\n",
      "\n",
      "\n",
      "\n",
      "flood\n",
      "\n",
      "\n",
      "\n",
      "\n",
      "\n",
      "\n",
      "\n",
      "\n",
      "flourish\n",
      "\n",
      "\n",
      "\n",
      "\n",
      "\n",
      "\n",
      "\n",
      "\n",
      "flow\n",
      "\n",
      "\n",
      "\n",
      "\n",
      "\n",
      "\n",
      "\n",
      "\n",
      "fly\n",
      "\n",
      "\n",
      "\n",
      "\n",
      "\n",
      "\n",
      "\n",
      "\n",
      "grab\n",
      "\n",
      "\n",
      "\n",
      "\n",
      "\n",
      "\n",
      "\n",
      "\n",
      "grasp\n",
      "\n",
      "\n",
      "\n",
      "\n",
      "\n",
      "\n",
      "\n",
      "\n",
      "kick\n",
      "\n",
      "\n",
      "\n",
      "\n",
      "\n",
      "\n",
      "\n",
      "\n",
      "kill\n",
      "\n",
      "\n",
      "\n",
      "\n",
      "\n",
      "\n",
      "\n",
      "\n",
      "knock\n",
      "\n",
      "\n",
      "\n",
      "\n",
      "\n",
      "\n",
      "\n",
      "\n",
      "lend\n",
      "\n",
      "\n",
      "\n",
      "\n",
      "\n",
      "\n",
      "\n",
      "\n",
      "melt\n",
      "\n",
      "\n",
      "\n",
      "\n",
      "\n",
      "\n",
      "\n",
      "\n",
      "miss\n",
      "\n",
      "\n",
      "\n",
      "\n",
      "\n",
      "\n",
      "\n",
      "\n",
      "pass\n",
      "\n",
      "\n",
      "\n",
      "\n",
      "\n",
      "\n",
      "\n",
      "\n",
      "plant\n",
      "\n",
      "\n",
      "\n",
      "\n",
      "\n",
      "\n",
      "\n",
      "\n",
      "play\n",
      "\n",
      "\n",
      "\n",
      "\n",
      "\n",
      "\n",
      "\n",
      "\n",
      "plow\n",
      "\n",
      "\n",
      "\n",
      "\n",
      "\n",
      "\n",
      "\n",
      "\n",
      "pour\n",
      "\n",
      "\n",
      "\n",
      "\n",
      "\n",
      "\n",
      "\n",
      "\n",
      "pump\n",
      "\n",
      "\n",
      "\n",
      "\n",
      "\n",
      "\n",
      "\n",
      "\n",
      "rain\n",
      "\n",
      "\n",
      "\n",
      "\n",
      "\n",
      "\n",
      "\n",
      "\n",
      "rest\n",
      "\n",
      "\n",
      "\n",
      "\n",
      "\n",
      "\n",
      "\n",
      "\n",
      "ride\n",
      "\n",
      "\n",
      "\n",
      "\n",
      "\n",
      "\n",
      "\n",
      "\n",
      "roll\n",
      "\n",
      "\n",
      "\n",
      "\n",
      "\n",
      "\n",
      "\n",
      "\n",
      "sleep\n",
      "\n",
      "\n",
      "\n",
      "\n",
      "\n",
      "\n",
      "\n",
      "\n",
      "smooth\n",
      "\n",
      "\n",
      "\n",
      "\n",
      "\n",
      "\n",
      "\n",
      "\n",
      "step\n",
      "\n",
      "\n",
      "\n",
      "\n",
      "\n",
      "\n",
      "\n",
      "\n",
      "stick\n",
      "\n",
      "\n",
      "\n",
      "\n",
      "\n",
      "\n",
      "\n",
      "\n",
      "strike\n",
      "\n",
      "\n",
      "\n",
      "\n",
      "\n",
      "\n",
      "\n",
      "\n",
      "stumble\n",
      "\n",
      "\n",
      "\n",
      "\n",
      "\n",
      "\n",
      "\n",
      "\n",
      "target\n",
      "\n",
      "\n",
      "\n",
      "\n",
      "\n",
      "\n",
      "\n",
      "\n",
      "touch\n",
      "\n",
      "\n",
      "\n",
      "\n",
      "\n",
      "\n",
      "\n",
      "\n",
      "vaporize\n",
      "\n",
      "\n",
      "\n",
      "\n",
      "\n",
      "\n",
      "\n",
      "\n",
      "wither\n",
      "\n",
      "\n",
      "\n"
     ]
    }
   ],
   "source": [
    "\n",
    "lit_data = []\n",
    "met_data = []\n",
    "\n",
    "for verb in sorted(list(data))[:]:\n",
    "#     [\"absorb\",\"attack\",\"destroy\",\"drink\",\"melt\",\"vaporize\"])[:]:\n",
    "\n",
    "#     lit_data = [metrics(s,\"absorb\") for s in data[\"absorb\"][\"literal\"]]\n",
    "    print(\"\\n\\n\\n\\n\\n\"+verb+\"\\n\\n\\n\")\n",
    "    lit_data += [(s,metrics(sent=s,verb_lemma=verb,vecs=vecs)) for s in data[verb][\"literal\"] ]\n",
    "\n",
    "#     met_data = [metrics(s,\"absorb\") for s in data[\"absorb\"][\"non_literal\"]  ]\n",
    "    met_data += [(s,metrics(sent=s,verb_lemma=verb,vecs=vecs)) for s in data[verb][\"non_literal\"]  ]\n",
    "\n",
    "\n",
    "# data = [X,y]\n",
    "# lit_data"
   ]
  },
  {
   "cell_type": "code",
   "execution_count": 29,
   "metadata": {},
   "outputs": [],
   "source": [
    "new_lit_data = [[triple[0],triple[1][0],triple[1][1]] for triple in lit_data if triple[1] is not None and triple[1][0] is not None and triple[1][1] is not None]\n",
    "new_met_data = [[triple[0],triple[1][0],triple[1][1]] for triple in met_data if triple[1] is not None and triple[1][0] is not None and triple[1][1] is not None]\n",
    "\n",
    "# met_data = [pair for pair in met_data if pair is not None and pair[0] is not None and pair[1] is not None]\n",
    "\n",
    "Xy = [[triple[0],triple[1],triple[2],0] for triple in new_lit_data]+[[triple[0],triple[1],triple[2],1] for triple in new_met_data]\n",
    "random.seed(4)\n",
    "random.shuffle(Xy)\n",
    "X = np.asarray([[x[1],x[2]] for x in Xy])\n",
    "y = np.asarray([[x[3]] for x in Xy])"
   ]
  },
  {
   "cell_type": "code",
   "execution_count": 30,
   "metadata": {},
   "outputs": [],
   "source": [
    "sents = [item[0] for item in Xy]"
   ]
  },
  {
   "cell_type": "code",
   "execution_count": 40,
   "metadata": {},
   "outputs": [
    {
     "data": {
      "text/plain": [
       "(688, 1)"
      ]
     },
     "execution_count": 40,
     "metadata": {},
     "output_type": "execute_result"
    }
   ],
   "source": [
    "import math\n",
    "\n",
    "\n",
    "len_data = len(X)\n",
    "# print(len_data)\n",
    "tenth_of_data = len_data // 10\n",
    "train_split = tenth_of_data\n",
    "val_split = 5 * tenth_of_data\n",
    "test_split = len_data\n",
    "\n",
    "train_X = X[:train_split]\n",
    "train_y = y[:train_split]\n",
    "val_X = X[train_split:val_split]\n",
    "val_y = y[train_split:val_split]\n",
    "test_X = X[val_split:test_split]\n",
    "test_y = y[val_split:test_split]\n",
    "\n",
    "# len()\n",
    "val_y.shape"
   ]
  },
  {
   "cell_type": "code",
   "execution_count": null,
   "metadata": {},
   "outputs": [],
   "source": []
  },
  {
   "cell_type": "code",
   "execution_count": 41,
   "metadata": {},
   "outputs": [],
   "source": [
    "# graph subsampled data\n",
    "# unzipped_lit_train_val_data = list(zip(*[x for (i,x) in enumerate(np.concatenate([train_X,val_X],axis=0)) if (np.concatenate([train_y,val_y],axis=0))[i]==0]))\n",
    "\n",
    "# list(zip(*lit_data[:]))\n",
    "# unzipped_met_train_val_data = list(zip(*[x for (i,x) in enumerate(np.concatenate([train_X,val_X],axis=0)) if (np.concatenate([train_y,val_y],axis=0))[i]==1]))\n",
    "# unzipped_lit_data[1]\n",
    "\n",
    "unzipped_lit_train_val_data = list(zip(*[x for (i,x) in enumerate(val_X) if (val_y)[i]==0]))\n",
    "unzipped_met_train_val_data = list(zip(*[x for (i,x) in enumerate(val_X) if (val_y)[i]==1]))\n"
   ]
  },
  {
   "cell_type": "code",
   "execution_count": 45,
   "metadata": {},
   "outputs": [
    {
     "name": "stdout",
     "output_type": "stream",
     "text": [
      "[6.45564513 4.0743185 ]\n",
      "[1]\n",
      "Every Oct. 21st since , officers of the Royal Navy gather in formal dress wherever they may be , and drink a toast to `` The Immortal Memory . ''/''\n"
     ]
    }
   ],
   "source": [
    "index = 32\n",
    "print(val_X[index])\n",
    "print(val_y[index])\n",
    "print(sents[index])"
   ]
  },
  {
   "cell_type": "code",
   "execution_count": 54,
   "metadata": {},
   "outputs": [
    {
     "name": "stdout",
     "output_type": "stream",
     "text": [
      "[5.92620114 3.26926199]\n",
      "[0]\n",
      "It was then that a 747 crash killed 520 people , the worst single-aircraft accident in aviation history ./.\n"
     ]
    }
   ],
   "source": [
    "index = 4\n",
    "print(val_X[index])\n",
    "print(val_y[index])\n",
    "print(sents[index])"
   ]
  },
  {
   "cell_type": "code",
   "execution_count": 43,
   "metadata": {},
   "outputs": [
    {
     "data": {
      "image/png": "[encoded data removed]",
      "text/plain": [
       "<matplotlib.figure.Figure at 0x7f7003af8320>"
      ]
     },
     "metadata": {},
     "output_type": "display_data"
    }
   ],
   "source": [
    "\n",
    "\n",
    "prior_hm = matplotlib.pyplot.scatter(c='yellow',x=unzipped_lit_train_val_data[0],y=unzipped_lit_train_val_data[1])\n",
    "_ = matplotlib.pyplot.scatter(c='red',x=unzipped_met_train_val_data[0],y=unzipped_met_train_val_data[1])"
   ]
  },
  {
   "cell_type": "code",
   "execution_count": null,
   "metadata": {},
   "outputs": [],
   "source": []
  },
  {
   "cell_type": "code",
   "execution_count": 35,
   "metadata": {},
   "outputs": [
    {
     "name": "stderr",
     "output_type": "stream",
     "text": [
      "/home/rcohngordon/dist-rsa/lib/python3.5/site-packages/sklearn/utils/validation.py:578: DataConversionWarning: A column-vector y was passed when a 1d array was expected. Please change the shape of y to (n_samples, ), for example using ravel().\n",
      "  y = column_or_1d(y, warn=True)\n"
     ]
    },
    {
     "data": {
      "text/plain": [
       "0.5247093023255814"
      ]
     },
     "execution_count": 35,
     "metadata": {},
     "output_type": "execute_result"
    }
   ],
   "source": [
    "from sklearn.linear_model import Perceptron,LogisticRegression\n",
    "clf = LogisticRegression(tol=1e-3, random_state=0)\n",
    "\n",
    "# X = np.expand_dims(np.asarray(unzipped_train_data[0]),1)\n",
    "# y = np.asarray(unzipped_train_data[1])\n",
    "\n",
    "# print(X.shape)\n",
    "# print(X)\n",
    "# print(y)\n",
    "clf.fit(train_X, train_y)\n",
    "# pred = clf.predict([val_X[1]])\n",
    "# truth = val_y[1]\n",
    "# print(pred,truth)\n",
    "clf.score(val_X,val_y)\n",
    "# clf.score(train_X,train_y)"
   ]
  },
  {
   "cell_type": "code",
   "execution_count": 25,
   "metadata": {},
   "outputs": [
    {
     "data": {
      "text/plain": [
       "0.5218023255813954"
      ]
     },
     "execution_count": 25,
     "metadata": {},
     "output_type": "execute_result"
    }
   ],
   "source": [
    "0.5218023255813954"
   ]
  },
  {
   "cell_type": "code",
   "execution_count": 112,
   "metadata": {},
   "outputs": [
    {
     "data": {
      "text/plain": [
       "0.6104651162790697"
      ]
     },
     "execution_count": 112,
     "metadata": {},
     "output_type": "execute_result"
    }
   ],
   "source": [
    "0.6104651162790697"
   ]
  },
  {
   "cell_type": "code",
   "execution_count": 12,
   "metadata": {},
   "outputs": [
    {
     "data": {
      "text/plain": [
       "0.622093023255814"
      ]
     },
     "execution_count": 12,
     "metadata": {},
     "output_type": "execute_result"
    }
   ],
   "source": [
    "0.622093023255814"
   ]
  },
  {
   "cell_type": "code",
   "execution_count": null,
   "metadata": {},
   "outputs": [],
   "source": []
  }
 ],
 "metadata": {
  "kernelspec": {
   "display_name": "Python 3",
   "language": "python",
   "name": "python3"
  },
  "language_info": {
   "codemirror_mode": {
    "name": "ipython",
    "version": 3
   },
   "file_extension": ".py",
   "mimetype": "text/x-python",
   "name": "python",
   "nbconvert_exporter": "python",
   "pygments_lexer": "ipython3",
   "version": "3.5.2"
  }
 },
 "nbformat": 4,
 "nbformat_minor": 2
}
