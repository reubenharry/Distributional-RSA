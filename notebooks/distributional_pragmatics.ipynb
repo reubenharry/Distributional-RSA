{
 "cells": [
  {
   "cell_type": "code",
   "execution_count": 178,
   "metadata": {
    "colab": {},
    "colab_type": "code",
    "id": "MwDrM-AMtMvq"
   },
   "outputs": [],
   "source": [
    "import numpy as np\n",
    "import pickle\n",
    "np.set_printoptions(precision=3)\n",
    "np.set_printoptions(suppress=True)\n",
    "# import torch\n",
    "from scipy.spatial.distance import cosine\n",
    "from scipy.stats import multivariate_normal\n",
    "from scipy.special import logsumexp\n",
    "import csv"
   ]
  },
  {
   "cell_type": "code",
   "execution_count": null,
   "metadata": {},
   "outputs": [],
   "source": []
  },
  {
   "cell_type": "code",
   "execution_count": null,
   "metadata": {},
   "outputs": [],
   "source": []
  },
  {
   "cell_type": "code",
   "execution_count": 4,
   "metadata": {
    "colab": {},
    "colab_type": "code",
    "id": "tpZXSVOwLXH7"
   },
   "outputs": [],
   "source": [
    "# x: [BATCH w, DIM VECS]: vectors to be projected\n",
    "# m: [DIM VECS, DIM PROJECTION SUBSPACE]. m is a single projection. each column vector in m is a line onto which one projects\n",
    "def get_projection(m):\n",
    "  covariance_matrix = np.dot(np.transpose(m),m)\n",
    "  inverse_covariance_matrix = np.linalg.inv(covariance_matrix)\n",
    "  #inverse_covariance_matrix = [DIM PROJECTION SUBSPACE, DIM PROJECTION SUBSPACE]\n",
    "  \n",
    "  def projection(x):\n",
    "    #x: [DIM VECS, BATCH SIZE]\n",
    "    #[DIM PROJECTION SUBSPACE, BATCH SIZE]\n",
    "    uncorrected_projection_weights = np.dot(np.transpose(m),x.T)\n",
    "    #[DIM PROJECTION SUBSPACE, BATCH SIZE]    \n",
    "    projection_weights = np.dot(inverse_covariance_matrix,uncorrected_projection_weights)\n",
    "    return np.dot(m,projection_weights).T\n",
    "  \n",
    "  return projection"
   ]
  },
  {
   "cell_type": "code",
   "execution_count": 5,
   "metadata": {
    "colab": {},
    "colab_type": "code",
    "id": "5IHWP_XX8PXi"
   },
   "outputs": [],
   "source": [
    "# def get_literal_listener(prior_mean, sigma1, sigma2):\n",
    "#   #prior_mean: [DIM VECS, 1]\n",
    "#   prior_mean = np.expand_dims(prior_mean,axis=1)\n",
    "#   def literal_listener(u):\n",
    "#     #u: [DIM VECS, UTTERANCE BATCH SIZE]\n",
    "#     posterior_mean = (sigma1*prior_mean + sigma2*u)*(sigma1^2*sigma2^2)/(sigma1^2+sigma2^2)\n",
    "#     return posterior_mean\n",
    "#   return literal_listener"
   ]
  },
  {
   "cell_type": "code",
   "execution_count": 6,
   "metadata": {
    "colab": {},
    "colab_type": "code",
    "id": "Fskw3SQoAWXD"
   },
   "outputs": [],
   "source": [
    "# commenting scheme:\n",
    "#   list(A) is a list of variables of type A\n",
    "#   [x,y,z] is an array of shape (x,y,z)\n",
    "  \n",
    "#   DIM VECS = dimension of word embedding space\n",
    "#   BATCH w = number of states w that are batched\n",
    "#   NUM utts = number of utterances"
   ]
  },
  {
   "cell_type": "code",
   "execution_count": 124,
   "metadata": {
    "colab": {},
    "colab_type": "code",
    "id": "-nxbxynquap9"
   },
   "outputs": [],
   "source": [
    "# class contains several Bayesian pragmatic models:\n",
    "# L0_Unbatched\n",
    "# S1_Batched: fast S1, batched over w, and u (batch of u passed to L0): L0 is implicit in this S1\n",
    "# S1_Unbatched: no batching: useful for understanding the code semantics clearly and for testing the batched version\n",
    "# L1_Unbatched: no batched equivalent written\n",
    "class Pragmatic_Model:\n",
    "  # utterances : list(str). the utterance set U\n",
    "  # projections : list(str). the projection set Q\n",
    "  # vectors : dictionary: key:str,val:[dim vecs] of word embeddings\n",
    "  # sigma1: hyperparameter for L0: variance of L0 prior. See paper\n",
    "  # sigma2: hyperparameter for L0: variance of gaussian used in the semantics\n",
    "  # mu1: hyperparameter for L0: the mean of the L0 prior: e.g. \"man\" in man is a shark. \n",
    "  def __init__(self,\n",
    "              utterances,\n",
    "              projections,\n",
    "              vectors,\n",
    "              sigma1,\n",
    "              sigma2,\n",
    "              mu1):\n",
    "    \n",
    "    self.utterances=utterances\n",
    "    self.projections=projections\n",
    "    # [NUM U, DIM VECS]\n",
    "    self.utterance_vectors = np.asarray([vectors[u] for u in utterances]) \n",
    "    # [NUM Q, DIM VECS, DIM PROJECTION SUBSPACE]\n",
    "    self.projection_vectors = (np.asarray([np.asarray([vectors[word]/np.linalg.norm(vectors[word]) for word in words]).T for words in self.projections]))\n",
    "    \n",
    "    self.vectors=vectors\n",
    "    self.sigma1 = sigma1\n",
    "    self.sigma2 = sigma2\n",
    "    self.mu1 = mu1\n",
    "    \n",
    "    self.dimvecs = vectors[\"the\"].shape[0]\n",
    "    \n",
    "  # u : [DIM VECS]\n",
    "  def L0_Unbatched(self,u):\n",
    "    sigma1sq, sigma2sq = self.sigma1 ** 2, self.sigma2 ** 2\n",
    "    mu = np.divide(np.add(self.mu1/sigma1sq, u/sigma2sq),  ((1/sigma1sq) + (1/sigma2sq)))\n",
    "    sigma_base = ((1/sigma1sq) + (1/sigma2sq))**-1\n",
    "    sigma = np.diag([sigma_base] * self.dimvecs)\n",
    "    return mu,sigma\n",
    "  \n",
    "  # w : [1,DIM VECS]\n",
    "  # q : [DIM VECS, DIM PROJECTION SUBSPACE]\n",
    "  def S1_Unbatched(self,w,q):\n",
    "    \n",
    "    projection = get_projection(q)\n",
    "    # calculates a term that increases with the euclidean distance of q(w) to q(u) where q(x) is x projected onto the subspace spanned by q\n",
    "    def utility(w,projection,u):\n",
    "      l0_posterior_mu, l0_posterior_sigma = self.L0_Unbatched(u=u)\n",
    "      projected_w = projection(w)\n",
    "      projected_l0_posterior_mu = projection(l0_posterior_mu)\n",
    "      log_score = multivariate_normal(projected_l0_posterior_mu,l0_posterior_sigma).logpdf(projected_w)\n",
    "      return log_score\n",
    "    \n",
    "    unnormed_log_probs = [utility(w=w,projection=projection,u=u) for u in self.utterance_vectors]\n",
    "    norm = logsumexp(unnormed_log_probs)\n",
    "    return unnormed_log_probs - norm\n",
    "  \n",
    "  # ws: [BATCH w, DIM VECS]\n",
    "  # q: [DIM VECS, DIM PROJECTION SUBSPACE]\n",
    "  def S1_Batched(self, ws,q):\n",
    "\n",
    "    projection = get_projection(q)\n",
    "\n",
    "    # obtain L0 posterior MU and SIGMA\n",
    "    sigma1sq, sigma2sq = self.sigma1 ** 2, self.sigma2 ** 2\n",
    "    inverse_sd = (1/sigma1sq) + (1/sigma2sq)\n",
    "    sigma = np.diag([1/inverse_sd] * self.dimvecs)\n",
    "    inverse_sigma = np.linalg.inv(sigma)\n",
    "    l0_posterior_mu = np.divide(np.add(self.mu1/sigma1sq, self.utterance_vectors/sigma2sq),inverse_sd)\n",
    "\n",
    "    # projections\n",
    "    # [NUM UTTS, DIM VECS]\n",
    "    projected_l0_posterior_mu = projection(l0_posterior_mu)\n",
    "#     print(\"BATCHED\",projected_l0_posterior_mu)\n",
    "    # [BATCH w, DIM VECS]\n",
    "    projected_ws = projection(ws)\n",
    "    \n",
    "    # compute logprob of gaussian\n",
    "    # [BATCH w, NUM UTTS, DIM VECS]\n",
    "    distances = np.expand_dims(projected_ws,1)-np.expand_dims(projected_l0_posterior_mu,0)\n",
    "    # [BATCH w, NUM UTTS, DIM VECS]\n",
    "    rescaled_distances = np.einsum('ij,abi->abj',np.sqrt(inverse_sigma),distances)\n",
    "    # [BATCH w, NUM UTTS]\n",
    "    unnormed_logprobs = -0.5*np.sum(np.square(rescaled_distances),axis=2)\n",
    "    # [BATCH w,1]\n",
    "    norm = np.expand_dims(logsumexp(unnormed_logprobs,axis=-1),-1)\n",
    "    # [BATCH w, NUM UTTS]\n",
    "    return unnormed_logprobs-norm\n",
    "  \n",
    "  def L1(self,u):\n",
    "    #u: [DIM VECS, 1]\n",
    "    #listener_mean: [DIM VECS, 1]\n",
    "    start = -2\n",
    "    stop = 2\n",
    "    step = 0.02\n",
    "    # intervals: [NUM INTERVALS]    \n",
    "    intervals = np.arange(start=start,stop=stop,step=step)\n",
    "    num_intervals = (stop-start)/step\n",
    "    \n",
    "    marginal_projection_probs = np.zeros((len(self.projections)))\n",
    "    for i in range(len(self.projections)):\n",
    "        \n",
    "      q = self.projection_vectors[i]\n",
    "      # assume q is a vector of unit length\n",
    "      #q: [DIM VECS, 1]\n",
    "      projection = get_projection(q)\n",
    "      # [DIM VECS]\n",
    "      projected_mu1 = projection(self.mu1)\n",
    "      \n",
    "      # [DIM VECS, NUM INTERVALS]\n",
    "      projected_worlds = np.expand_dims(projected_mu1,0) + np.dot(q,np.expand_dims(intervals,0)).T\n",
    "\n",
    "      # [NUM INTERVALS]\n",
    "      speaker_log_likelihood = self.S1_Batched(projected_worlds,q)[:,u]\n",
    "      \n",
    "      # this right? seems unlikely\n",
    "      # [NUM INTERVALS]\n",
    "      world_log_priors = -1/(self.sigma1**2)*np.abs(intervals)\n",
    "      \n",
    "      # [NUM INTERVALS]\n",
    "      joint_probs = world_log_priors + speaker_log_likelihood\n",
    "      # SCALAR\n",
    "      marginal_projection_prob = logsumexp(joint_probs)      \n",
    "      marginal_projection_probs[i]=marginal_projection_prob\n",
    "     \n",
    "    norm = logsumexp(marginal_projection_probs)\n",
    "    return marginal_projection_probs - norm"
   ]
  },
  {
   "cell_type": "code",
   "execution_count": 170,
   "metadata": {
    "colab": {},
    "colab_type": "code",
    "id": "KfakXGADuxuw"
   },
   "outputs": [],
   "source": [
    "utterances = [\"shark\",\"swimmer\"]\n",
    "projections = [[\"swims\"],[\"vicious\"]]\n",
    "ws = np.asarray([[0,3.4,4],[4,5,7],[6,7,3],[6,6,6]])\n",
    "\n",
    "simple_vecs = {}\n",
    "simple_vecs[\"swimmer\"]=np.asarray([4.0,5.0,6.0])\n",
    "simple_vecs[\"shark\"]=np.asarray([3.0,2.0,6.0])\n",
    "simple_vecs[\"man\"]=np.asarray([4.0,5.0,9.0])\n",
    "simple_vecs[\"vicious\"]=np.asarray([20.0,4.0,2.0])\n",
    "simple_vecs[\"swims\"]=np.asarray([2.0,3.0,8.0])\n",
    "simple_vecs[\"child\"]=np.asarray([0.7,-2.0,8])\n",
    "simple_vecs[\"nightmare\"]=np.asarray([5.0,5.0,7.0])\n",
    "simple_vecs[\"wonder\"]=np.asarray([5.0,8.0,-9.0])\n",
    "simple_vecs[\"the\"]=np.asarray([5.0,4.0,-9.0])"
   ]
  },
  {
   "cell_type": "code",
   "execution_count": null,
   "metadata": {},
   "outputs": [],
   "source": []
  },
  {
   "cell_type": "code",
   "execution_count": 217,
   "metadata": {
    "colab": {},
    "colab_type": "code",
    "id": "7ZjskIUoKnFL"
   },
   "outputs": [],
   "source": [
    "test_utterances = [\"shark\",\"swimmer\",\"wonder\",\"child\"]\n",
    "test_projections = [[\"swims\"],[\"vicious\"],[\"man\"]]\n",
    "test_mu1 = np.random.rand(5)\n",
    "test_ws = np.random.rand(10,5)\n",
    "\n",
    "test_vecs = {}\n",
    "test_vecs[\"swimmer\"]=np.random.rand(5)\n",
    "test_vecs[\"shark\"]=np.random.rand(5)\n",
    "test_vecs[\"man\"]=np.random.rand(5)\n",
    "test_vecs[\"vicious\"]=np.random.rand(5)\n",
    "test_vecs[\"swims\"]=np.random.rand(5)\n",
    "test_vecs[\"child\"]=np.random.rand(5)\n",
    "test_vecs[\"nightmare\"]=np.random.rand(5)\n",
    "test_vecs[\"wonder\"]=np.random.rand(5)\n",
    "test_vecs[\"the\"]=np.random.rand(5)\n",
    "\n",
    "test_model = Pragmatic_Model(utterances=test_utterances,\n",
    "                                  projections=test_projections,\n",
    "                                  vectors=test_vecs,\n",
    "                                 sigma1=1.0,\n",
    "                                 sigma2=2.0,\n",
    "                                 mu1=test_mu1)"
   ]
  },
  {
   "cell_type": "code",
   "execution_count": 218,
   "metadata": {},
   "outputs": [
    {
     "data": {
      "text/plain": [
       "array([-1.097, -1.1  , -1.098])"
      ]
     },
     "execution_count": 218,
     "metadata": {},
     "output_type": "execute_result"
    }
   ],
   "source": [
    "test_model.L1(u=0)"
   ]
  },
  {
   "cell_type": "code",
   "execution_count": 96,
   "metadata": {
    "colab": {
     "base_uri": "https://localhost:8080/",
     "height": 385
    },
    "colab_type": "code",
    "id": "lU1yng_ram5U",
    "outputId": "374d19fe-248e-43fc-d89e-b6f1947c163a"
   },
   "outputs": [
    {
     "name": "stdout",
     "output_type": "stream",
     "text": [
      "[-1.393 -1.379 -1.384 -1.389] [-1.393 -1.379 -1.384 -1.389]\n",
      "[-1.387 -1.385 -1.386 -1.387] [-1.387 -1.385 -1.386 -1.387]\n",
      "[-1.391 -1.381 -1.385 -1.388] [-1.391 -1.381 -1.385 -1.388]\n",
      "[-1.379 -1.394 -1.389 -1.383] [-1.379 -1.394 -1.389 -1.383]\n",
      "[-1.383 -1.391 -1.388 -1.384] [-1.383 -1.391 -1.388 -1.384]\n",
      "[-1.398 -1.373 -1.382 -1.392] [-1.398 -1.373 -1.382 -1.392]\n",
      "[-1.395 -1.376 -1.383 -1.39 ] [-1.395 -1.376 -1.383 -1.39 ]\n",
      "[-1.379 -1.395 -1.389 -1.383] [-1.379 -1.395 -1.389 -1.383]\n",
      "[-1.392 -1.381 -1.384 -1.389] [-1.392 -1.381 -1.384 -1.389]\n",
      "[-1.393 -1.379 -1.384 -1.389] [-1.393 -1.379 -1.384 -1.389]\n"
     ]
    }
   ],
   "source": [
    "#test that S1_Batched and S1_Unbatched are equivalent, up to numerical precision\n",
    "q = test_model.projection_vectors[0]\n",
    "batched = test_model.S1_Batched(ws=test_ws,q=q)\n",
    "\n",
    "for i,w in enumerate(test_ws):\n",
    "  unbatched = test_model.S1_Unbatched(w=test_ws[i],q=q)\n",
    "  b = batched[i]\n",
    "  ub = unbatched\n",
    "  print(b,ub)\n",
    "  assert(np.allclose(b,ub))\n"
   ]
  },
  {
   "cell_type": "code",
   "execution_count": 47,
   "metadata": {
    "colab": {
     "base_uri": "https://localhost:8080/",
     "height": 85
    },
    "colab_type": "code",
    "id": "gkCBNHCtdguZ",
    "outputId": "06206ad6-dff5-499c-b441-bc00e0961ab2"
   },
   "outputs": [],
   "source": [
    "# test that batched projection is equivalent to unbatched projection\n",
    "m = np.random.rand(10,3)\n",
    "x = np.random.rand(2,10)\n",
    "\n",
    "projection = get_projection(m)\n",
    "projected_x = projection(x)\n",
    "assert(np.allclose(projection(x)[0],projection(x[0])))\n",
    "assert(np.allclose(projection(x)[1],projection(x[1])))"
   ]
  },
  {
   "cell_type": "code",
   "execution_count": null,
   "metadata": {},
   "outputs": [],
   "source": []
  },
  {
   "cell_type": "code",
   "execution_count": null,
   "metadata": {},
   "outputs": [],
   "source": [
    "# pickled version of GLoVE\n",
    "vecs = pickle.load(open(\"../dist_rsa/data/wordVectors50\",'rb'))\n",
    "\n",
    "def get_words(with_freqs=False):\n",
    "\tnouns, adjs, words = {},{},set()\n",
    "\twith open('../dist_rsa/data/concreteness.csv', newline='') as csvfile:\n",
    "\t\tr = csv.reader(csvfile, delimiter=',', quotechar='|')\n",
    "\t\tfor i,row in enumerate(r):\n",
    "\t\t\tif i>0:\n",
    "\t\t\t\tis_bigram = float(row[1])!=0\n",
    "\t\t\t\tis_noun = (row[8])=='Noun'\t\t\n",
    "\t\t\t\tis_adj = (row[8])=='Adjective'\n",
    "\t\t\t\tis_adv = (row[8])=='Adverb'\n",
    "\t\t\t\tfreq = row[7]\n",
    "\t\t\t\tif not is_bigram:\n",
    "\t\t\t\t\tif is_noun:\n",
    "\t\t\t\t\t\tif with_freqs:nouns[row[0]]=float(row[2]),freq\n",
    "\t\t\t\t\t\telse: nouns[row[0]]=float(row[2])\n",
    "\t\t\t\t\tif is_adj:\n",
    "\t\t\t\t\t\tif with_freqs: adjs[row[0]]=float(row[2]),freq\n",
    "\t\t\t\t\t\telse: adjs[row[0]]=float(row[2])\n",
    "\t\treturn nouns,adjs"
   ]
  },
  {
   "cell_type": "code",
   "execution_count": 223,
   "metadata": {
    "colab": {},
    "colab_type": "code",
    "id": "PZWu1YhQKfFg"
   },
   "outputs": [],
   "source": [
    "abstract_threshold = 2.5\n",
    "concrete_threshold = 3.0\n",
    "\n",
    "target = \"woman\"\n",
    "source = \"rose\"\n",
    "\n",
    "nouns,adjs = get_words(with_freqs=False)\n",
    "adjectives = [a for a in adjs if adjs[a] > concrete_threshold and a in vecs]\n",
    "utterances = sorted(adjectives,key=lambda x: cosine(vecs[x],np.mean([vecs[target],vecs[target]],axis=0)))\n",
    "projections = [a for a in adjs if adjs[a] < abstract_threshold and a in vecs]\n",
    "projections = sorted(projections,key=lambda x:cosine(vecs[x],vecs[target]))\n",
    "projections = [[x] for x in projections]\n",
    "\n",
    "utterances = utterances[:100]\n",
    "projections = projections[:100]\n",
    "\n",
    "pragmatic_model = Pragmatic_Model(utterances=utterances,\n",
    "                                  projections=projections,\n",
    "                                  vectors=vecs,\n",
    "                                 sigma1=1.0,\n",
    "                                 sigma2=0.1,\n",
    "                                 mu1=vecs[target])"
   ]
  },
  {
   "cell_type": "code",
   "execution_count": 224,
   "metadata": {
    "colab": {},
    "colab_type": "code",
    "id": "k_7ZGeIcE4j6"
   },
   "outputs": [
    {
     "name": "stdout",
     "output_type": "stream",
     "text": [
      "baseline [['mysterious'], ['lonely'], ['beautiful'], ['unknown'], ['beloved'], ['obsessed'], ['true'], ['innocent'], ['good'], ['unidentified']]\n",
      "[(0.014377575986033826, ['honorary']), (0.010997174743390901, ['distinguished']), (0.010715698537749894, ['talented']), (0.010053371854597544, ['prospective']), (0.009775275921039842, ['demographic']), (0.007144730677189736, ['serial']), (0.006040182115427575, ['aspiring']), (0.005853470874881882, ['masculine']), (0.005089439538519004, ['feminine']), (0.004839542539967402, ['gifted']), (0.00458161356666161, ['indigenous']), (0.004580325638273583, ['naturalized']), (0.004410241142155174, ['privileged']), (0.004407508421318066, ['fictional']), (0.004277192350831755, ['submissive']), (0.004188347001306236, ['unidentified']), (0.004073650378485406, ['aristocratic']), (0.004054483072525496, ['renowned']), (0.004026340258661248, ['willowy']), (0.004007390069324095, ['avid']), (0.003903436728636945, ['devout']), (0.0038930243895501085, ['illustrious']), (0.003892493040870852, ['lone']), (0.0038129736882251803, ['feminist']), (0.003779731670591126, ['psychic']), (0.0036346845944823583, ['virtuous']), (0.0036284459451736465, ['sympathetic']), (0.003517673322490189, ['prominent']), (0.003483300344318081, ['fluent']), (0.003416702684049482, ['amateur']), (0.0032358836904581387, ['singular']), (0.0031115228849854294, ['infertile']), (0.003063283502094684, ['hereditary']), (0.0030022381713369086, ['maternal']), (0.0028902575270972754, ['cultured']), (0.0028859662880911193, ['exemplary']), (0.0028347342965946726, ['professional']), (0.002823245059080685, ['adoptive']), (0.002810169032316835, ['supernatural']), (0.0027196182786305046, ['outspoken']), (0.0026704883948334224, ['rebellious']), (0.0026398481985766544, ['mythological']), (0.002633490694273061, ['queer']), (0.0026300110448424603, ['prestigious']), (0.0025872928261564143, ['headstrong']), (0.002576517064615979, ['esteemed']), (0.0025726756708030264, ['paternal']), (0.002538058316289801, ['lifelong']), (0.002526968070383784, ['immature']), (0.002439363458445745, ['polygamous']), (0.002431142298367433, ['martial']), (0.0024252180147528953, ['educated']), (0.0024246055633535568, ['influential']), (0.0024077431520981942, ['erotic']), (0.002393610321104896, ['separatist']), (0.0023827512006861008, ['archetypal']), (0.0023593647909157496, ['literate']), (0.002342614720536771, ['eligible']), (0.002310443700518409, ['political']), (0.0023049673055858264, ['charismatic']), (0.002294375739883131, ['personable']), (0.002214048592938464, ['stereotypical']), (0.0022041632293600785, ['bereaved']), (0.0021804190181216303, ['precocious']), (0.002161692740696864, ['eccentric']), (0.002155538382840097, ['flamboyant']), (0.002146730458792946, ['statuesque']), (0.00212397934055105, ['idealistic']), (0.0021234692877684556, ['unknown']), (0.0021146135122201803, ['direct']), (0.002104572969851681, ['legendary']), (0.002099408923494192, ['angelic']), (0.002097706483191681, ['legislative']), (0.0020653739462679135, ['aggrieved']), (0.0020360962617627255, ['honorable']), (0.0020299493958768674, ['promiscuous']), (0.002026967127501671, ['involuntary']), (0.0020263361305253393, ['unrelated']), (0.0020153271593429303, ['untrained']), (0.0020047277460054887, ['intelligent']), (0.0019936358803032098, ['identifiable']), (0.001993017020352092, ['vivacious']), (0.0019928240919952303, ['racial']), (0.0019689905322737076, ['valid']), (0.0019589757438681723, ['motherly']), (0.0019341653842084743, ['mythical']), (0.0019310056283059443, ['goodhearted']), (0.0018950758756411442, ['gawky']), (0.001893091101458728, ['affluent']), (0.001859408522598153, ['responsible']), (0.0018594065296244945, ['operatic']), (0.0018504479829396312, ['liberal']), (0.0018470162474615631, ['anonymous']), (0.0018457551277758887, ['elementary']), (0.001834652757074656, ['dyslexic']), (0.0018021665688784522, ['congenital']), (0.0017960168800660642, ['enigmatic']), (0.0017689977044758021, ['devoted']), (0.0017591905884399247, ['autonomous']), (0.0017473958564305863, ['interested']), (0.0017313361176152782, ['passive']), (0.0017168449511811871, ['unwitting']), (0.0017141555735544318, ['progressive']), (0.001706883781958262, ['churchgoing']), (0.0017047284199203068, ['eminent']), (0.0016921932187364825, ['fictitious']), (0.00168787382275755, ['obligatory']), (0.0016662630261399965, ['skilled']), (0.001642053054803325, ['deserving']), (0.0016289459710290932, ['actual']), (0.0016250233462366177, ['vast']), (0.001623859653927664, ['uninsured']), (0.0016235349768232955, ['bookish']), (0.001618985319347352, ['affectionate']), (0.0016175642880385905, ['major']), (0.0016025850488230302, ['artistic']), (0.0016003445365789304, ['independent']), (0.0015904223892252403, ['undocumented']), (0.0015886165940709573, ['natural']), (0.0015827247354168875, ['academic']), (0.0015825931769947058, ['afflicted']), (0.0015736337150529696, ['promising']), (0.001572789496215698, ['bratty']), (0.0015716366573037138, ['nerdy']), (0.0015649809500364329, ['geeky']), (0.0015643054011263851, ['competent']), (0.0015585409112269617, ['disapproving']), (0.0015524014236546605, ['reigning']), (0.001548225170383041, ['likable']), (0.0015468498347404724, ['excellent']), (0.0015393369401709982, ['heavenly']), (0.0015386066901097492, ['patriarchal']), (0.0015382861985839187, ['mischievous']), (0.0015235281762072243, ['avenging']), (0.0015201592111184165, ['unnamed']), (0.0015200099780556095, ['popular']), (0.0014962658628663674, ['ethnic']), (0.0014926361194093653, ['prolific']), (0.0014923495668667324, ['best']), (0.0014848595454644538, ['feisty']), (0.0014819536476196802, ['humane']), (0.0014796698011532712, ['restless']), (0.0014745769434706866, ['obedient']), (0.0014743084653480911, ['disgruntled']), (0.001471831887361936, ['psychological']), (0.00147135515104074, ['compulsory']), (0.0014635118514785277, ['hunky']), (0.0014633423725845288, ['lovable']), (0.001443589053590109, ['studious']), (0.0014337684928893049, ['foremost']), (0.0014276768134492653, ['unruly']), (0.0014259886768181597, ['parliamentary']), (0.0014227643691295195, ['broad']), (0.0014201740678554168, ['appropriate']), (0.0014195108153796624, ['adventurous']), (0.0014180364736334655, ['main']), (0.0014173863917764855, ['slacker']), (0.0014172839526103778, ['reluctant']), (0.0014153351886228346, ['virginal']), (0.0014151709481590585, ['adoring']), (0.0014150070054454033, ['literary']), (0.0014147457334122858, ['spunky']), (0.0014127888443721105, ['recognizable']), (0.0014067242728621736, ['spiritual']), (0.0013900527868105199, ['outgoing']), (0.0013764206642781478, ['potential']), (0.0013688135573229447, ['observant']), (0.0013586603326843315, ['acceptable']), (0.0013539014365864614, ['inquisitive']), (0.0013505283706423973, ['upstanding']), (0.0013481590462284874, ['founding']), (0.0013441609930437489, ['wayward']), (0.0013417230415213772, ['certain']), (0.0013416323313098005, ['indecent']), (0.0013365243802973196, ['undercover']), (0.0013347140112173832, ['impressionable']), (0.0013321798256508267, ['saintly']), (0.0013317318182673788, ['unnatural']), (0.0013305837680384304, ['reputed']), (0.0013260389963334806, ['rambunctious']), (0.0013196615815640241, ['punishable']), (0.0013152651320873763, ['immortal']), (0.0013133232014319643, ['prime']), (0.0013058003017944121, ['needy']), (0.0013021766341656726, ['special']), (0.00130195512969516, ['outstanding']), (0.0012979334828734767, ['heroic']), (0.0012830892164592046, ['orthodox']), (0.0012823635000473053, ['cerebral']), (0.001275619217443287, ['unlawful']), (0.0012748546621377836, ['kindhearted']), (0.0012723181336184671, ['ordinary']), (0.0012710555169528589, ['unsuspecting']), (0.0012686453543525231, ['consistent']), (0.0012683106118695695, ['uncommon']), (0.0012630663479677015, ['brash']), (0.0012575314260619196, ['respectable']), (0.00125402141609835, ['particular']), (0.001250470504337781, ['underprivileged']), (0.0012500724431737035, ['hardworking']), (0.0012434508808411289, ['reliable']), (0.0012404251015164169, ['ideological']), (0.0012332748997119305, ['illegitimate']), (0.001229743752530791, ['loyal']), (0.0012226722873136602, ['cultural']), (0.0012134266432750553, ['menopausal']), (0.0012111526775488994, ['basic']), (0.0012103535356889322, ['social']), (0.0012075940215648256, ['accessible']), (0.0012060740626227441, ['useful']), (0.0012057501273579287, ['worthy']), (0.0012029897041533357, ['intellectual']), (0.0011963518476114142, ['inexperienced']), (0.0011944457031338386, ['classified']), (0.001193136525167962, ['positive']), (0.0011911831379043509, ['civic']), (0.001189441414322118, ['fundamentalist']), (0.001187005708279686, ['sophisticated']), (0.0011863007884520748, ['primary']), (0.001183802996064648, ['ideal']), (0.0011709722424426206, ['intensive']), (0.001168325248456034, ['genial']), (0.001167348715848173, ['marriageable']), (0.001162659948361551, ['oppressed']), (0.0011579880431688977, ['complex']), (0.00115697171934353, ['nautical']), (0.0011559480145677788, ['personal']), (0.001155782350755831, ['endearing']), (0.0011543573877612653, ['longtime']), (0.0011537670045437343, ['economic']), (0.0011491063844698563, ['ditzy']), (0.0011481138963157099, ['explicit']), (0.0011434293368348901, ['vice']), (0.0011406503098062954, ['able']), (0.0011402328781584426, ['preliminary']), (0.0011355573316402057, ['likely']), (0.0011334698042512038, ['internal']), (0.001130585041163915, ['knowledgeable']), (0.0011303899563421356, ['legitimate']), (0.0011278496943794218, ['abnormal']), (0.0011261527399412158, ['habitual']), (0.0011245882777288772, ['macho']), (0.001124399146023909, ['important']), (0.0011208380705509547, ['average']), (0.0011194067327728802, ['generous']), (0.001118376214746094, ['spectacular']), (0.0011182801399812624, ['typical']), (0.0011169469483783903, ['custodial']), (0.001114802924010281, ['successful']), (0.0011144995696013564, ['dissatisfied']), (0.001112576556218758, ['anti']), (0.0011116577253443643, ['extended']), (0.001109710250330097, ['conservative']), (0.0011024139035002033, ['immune']), (0.0011012098145080716, ['keen']), (0.001100363870210468, ['mythic']), (0.0010988821962226668, ['possible']), (0.0010981352795606514, ['wholesome']), (0.0010951722488706358, ['eager']), (0.0010925464215459436, ['exceptional']), (0.0010917201282339872, ['extra']), (0.0010902002643258827, ['uneducated']), (0.001080304977596674, ['congressional']), (0.001078293132290766, ['evangelical']), (0.0010780534067786536, ['faithful']), (0.0010723221398467036, ['atypical']), (0.0010706552436416674, ['mandatory']), (0.0010678804088746828, ['practical']), (0.0010651127178291009, ['adorable']), (0.001064806315852356, ['wild']), (0.0010643489187653877, ['conventional']), (0.0010641608566850078, ['subsequent']), (0.001062533927715525, ['dutiful']), (0.0010616228176201917, ['famous']), (0.0010603835523344599, ['extensive']), (0.001059393493555849, ['fundamental']), (0.0010593198188505288, ['mortal']), (0.0010588109210332203, ['funky']), (0.0010566667609339007, ['noble']), (0.0010564006405458669, ['kinky']), (0.0010529948336583128, ['concerned']), (0.0010513016605695402, ['amiable']), (0.001049460132565354, ['frequent']), (0.0010487818946693583, ['encouraging']), (0.0010458476945512422, ['expressive']), (0.0010430658486270843, ['attentive']), (0.0010419004052966117, ['vulnerable']), (0.0010406870767911958, ['empathetic']), (0.0010359566470063, ['legal']), (0.0010352695991671284, ['normal']), (0.0010344200295310856, ['willing']), (0.0010312886871383323, ['incurable']), (0.0010260107011618802, ['scientific']), (0.0010181510432816516, ['contemporary']), (0.0010176378479660356, ['similar']), (0.0010156571498889718, ['unspecified']), (0.0010150653904192869, ['exclusive']), (0.0010142681090260911, ['democratic']), (0.0010082559354985421, ['good']), (0.001007813908344553, ['notable']), (0.0010070185452457179, ['comedic']), (0.0010068194201826054, ['probable']), (0.0010055022609255523, ['effective']), (0.0010048326768954449, ['pivotal']), (0.0010040263466093947, ['extreme']), (0.0009979202765226325, ['unwanted']), (0.000995803407745365, ['unofficial']), (0.0009951030260683935, ['impish']), (0.0009938060791233763, ['negative']), (0.0009928383925505444, ['shrewish']), (0.0009918636092526877, ['disadvantaged']), (0.0009885287240583044, ['uninvited']), (0.0009880256482047358, ['ancestral']), (0.0009859063524309023, ['standard']), (0.0009838272382028418, ['intimate']), (0.0009798707759026048, ['recurring']), (0.000976633123356877, ['odd']), (0.00097657653385795, ['brooding']), (0.0009743940292209121, ['demonic']), (0.000974362957329803, ['accurate']), (0.000969745591847149, ['surly']), (0.0009691009238427755, ['bigoted']), (0.0009690630454699851, ['valuable']), (0.0009675823205002435, ['marital']), (0.0009662812590650092, ['childlike']), (0.0009656206420496958, ['creative']), (0.0009653026032133186, ['theatrical']), (0.0009637407610186978, ['remarkable']), (0.0009636276548174447, ['credible']), (0.0009627181135683195, ['dubious']), (0.0009617844374535024, ['pious']), (0.0009585836945137831, ['limited']), (0.0009578497837006812, ['mainstream']), (0.000951948626407182, ['inspiring']), (0.0009509520491281604, ['extraordinary']), (0.0009474631008274074, ['neurotic']), (0.0009473868829142781, ['symbolic']), (0.0009464548847064736, ['annual']), (0.0009459626558510031, ['ghostly']), (0.0009457180351776262, ['critical']), (0.0009444497771882177, ['lesser']), (0.0009438533523852211, ['corporate']), (0.0009400417615284727, ['appealing']), (0.00093698795863411, ['affable']), (0.0009351633282701364, ['necessary']), (0.000930721856562155, ['girlish']), (0.000928653835967238, ['secondary']), (0.0009275958827193566, ['depraved']), (0.0009274214699116953, ['considerable']), (0.0009271020447045072, ['revolutionary']), (0.0009251959264927329, ['modest']), (0.0009244012187463149, ['supportive']), (0.0009243726426389853, ['subtle']), (0.0009239625517955169, ['crazed']), (0.000922988990890543, ['unseen']), (0.0009218169427845642, ['estranged']), (0.0009215446275947512, ['bold']), (0.000921403880077171, ['lasting']), (0.0009201578874061258, ['original']), (0.0009192388248815246, ['presidential']), (0.000916207627274773, ['unusual']), (0.0009158305413737139, ['secular']), (0.0009149321454617499, ['demented']), (0.0009147714669862428, ['educational']), (0.0009139244515285071, ['customary']), (0.0009129235725008536, ['unprecedented']), (0.0009110317224406999, ['sullen']), (0.0009098690900806306, ['chaste']), (0.0009083766821473166, ['unharmed']), (0.0009074403109253813, ['governing']), (0.0009064679821925761, ['countless']), (0.0009056387313587548, ['intimidating']), (0.0009033914166309726, ['universal']), (0.0009030217183286334, ['immediate']), (0.0009026366197827005, ['sexist']), (0.0009011293671523057, ['infatuated']), (0.0008993146623944307, ['controversial']), (0.000898292468660002, ['prior']), (0.0008965206767694875, ['unprotected']), (0.0008953113366738648, ['unworthy']), (0.0008947694762632502, ['friendly']), (0.0008944387328201439, ['powerful']), (0.0008931942821393762, ['radical']), (0.0008924463688764939, ['commonplace']), (0.0008923086097178895, ['overwhelming']), (0.0008918975187379787, ['lovelorn']), (0.0008918795614893798, ['common']), (0.0008906198833405175, ['impressive']), (0.0008883561393460524, ['earthy']), (0.0008883027731061193, ['wacky']), (0.000887046672643739, ['senile']), (0.0008864824591737524, ['crucial']), (0.0008857450618854219, ['mystical']), (0.0008856527891739582, ['competitive']), (0.0008853357809392125, ['mellow']), (0.0008825182386310948, ['mature']), (0.0008822864736284916, ['ambitious']), (0.0008789121082982685, ['experimental']), (0.0008750718106565833, ['significant']), (0.0008730844029250016, ['supposed']), (0.0008723947447815306, ['temporary']), (0.0008707769870668973, ['unsuccessful']), (0.0008698477136452609, ['witty']), (0.0008684220745268184, ['endless']), (0.0008682962642342681, ['true']), (0.0008675185146107915, ['whiny']), (0.0008666632159983947, ['mental']), (0.0008664368436636277, ['constant']), (0.000865589360610133, ['alluring']), (0.0008654531731570501, ['welcoming']), (0.0008642887371239339, ['alleged']), (0.0008630825885622304, ['inferior']), (0.0008630306861951372, ['versatile']), (0.0008622205088054639, ['defenseless']), (0.0008616998184900565, ['precise']), (0.0008615856106250531, ['divine']), (0.0008611074608279925, ['modern']), (0.0008610872373860912, ['nubile']), (0.0008610398154418739, ['historic']), (0.0008528938547109527, ['regular']), (0.0008524192364508294, ['opposite']), (0.0008517150814966246, ['respectful']), (0.000851500944016284, ['occasional']), (0.0008501328578431245, ['dominant']), (0.0008481168172695272, ['sensitive']), (0.0008481057693595541, ['greater']), (0.0008475889499950241, ['national']), (0.0008474211743775374, ['brave']), (0.0008465730779234102, ['abiding']), (0.000845412433412977, ['obscure']), (0.0008438489479922326, ['unwilling']), (0.0008435197933911732, ['fresh']), (0.000843268471884804, ['essential']), (0.0008410742443703945, ['perfect']), (0.0008410251533887264, ['specific']), (0.0008381486010495087, ['unfaithful']), (0.0008364324102369696, ['selfish']), (0.0008363668601017486, ['exciting']), (0.0008360009209694216, ['fantastic']), (0.0008355773689618337, ['formidable']), (0.0008351124490165962, ['passionate']), (0.0008346905858491993, ['introspective']), (0.0008340304937788034, ['immoral']), (0.0008340137171654952, ['steely']), (0.0008311005757821419, ['intense']), (0.0008310699177467627, ['advanced']), (0.0008304863208361815, ['ubiquitous']), (0.000829873358443731, ['smart']), (0.0008297625776547275, ['nameless']), (0.0008283636765508504, ['usual']), (0.0008272923193586134, ['casual']), (0.0008267457873241294, ['reminiscent']), (0.0008238689966681026, ['cunning']), (0.0008203538610241962, ['overall']), (0.0008180027251679333, ['civil']), (0.0008169552250899602, ['aesthetic']), (0.0008168618557759924, ['resourceful']), (0.0008148132330457293, ['suggestive']), (0.0008147936616476286, ['righteous']), (0.0008146240485171937, ['slight']), (0.0008083421549768639, ['traditional']), (0.0008063499177146605, ['imaginary']), (0.0008058314777858973, ['mere']), (0.0007999191243230255, ['ethical']), (0.0007993662507557597, ['disciplined']), (0.0007983837669548905, ['free']), (0.0007959660889096424, ['privy']), (0.0007919406024563994, ['unique']), (0.000791747887364408, ['comparable']), (0.0007890229524656949, ['doting']), (0.0007882672137958261, ['available']), (0.0007873218385392845, ['irregular']), (0.0007859206132855736, ['dramatic']), (0.0007852307682800982, ['alternate']), (0.000784947445142985, ['grieving']), (0.0007846681995446406, ['distinctive']), (0.0007845262600851947, ['realistic']), (0.0007837680499338942, ['reasonable']), (0.0007837515882915165, ['widespread']), (0.0007830191710603723, ['commanding']), (0.0007815419785930667, ['simple']), (0.0007802387534121908, ['problematic']), (0.0007789391453735781, ['morbid']), (0.0007783968222588993, ['genuine']), (0.0007783517032695981, ['sacred']), (0.0007758110429378959, ['sadistic']), (0.0007752847481360613, ['wary']), (0.0007747690502429975, ['sustained']), (0.0007746390278224062, ['latest']), (0.0007738507067847411, ['uncertain']), (0.0007735464898780307, ['chronic']), (0.0007732572135092494, ['neutral']), (0.0007720427119593201, ['diverse']), (0.0007702803789710524, ['jaded']), (0.0007674915188622845, ['vibrant']), (0.0007670367475727596, ['boyish']), (0.0007641350155592378, ['pending']), (0.0007630799706911354, ['proud']), (0.0007627828711327644, ['patriotic']), (0.000762262331772958, ['prolonged']), (0.0007601126869939733, ['classical']), (0.0007598864492006911, ['vital']), (0.000758608633047413, ['terrific']), (0.000758575247213252, ['romantic']), (0.0007584323933979224, ['evil']), (0.0007582176942152103, ['illegal']), (0.0007533034734746939, ['infectious']), (0.0007520200017256329, ['capable']), (0.0007517732547351716, ['random']), (0.0007517596667278417, ['ongoing']), (0.0007513921829222622, ['surprising']), (0.0007498444925001787, ['incapable']), (0.0007487799478467036, ['uncaring']), (0.0007463006003570717, ['combative']), (0.0007432646441486006, ['excited']), (0.0007432126651048207, ['daring']), (0.0007430348505917958, ['unable']), (0.0007420686649920012, ['irreverent']), (0.0007397486070083953, ['courageous']), (0.0007375228828738864, ['easier']), (0.0007371945136539005, ['adulterous']), (0.0007369748243659889, ['suicidal']), (0.0007366485117226188, ['manipulative']), (0.0007353055497377136, ['trusty']), (0.000734810934948971, ['impoverished']), (0.0007345115645029518, ['compelling']), (0.0007341696939130823, ['vigorous']), (0.000732924603302292, ['unfair']), (0.0007326078792471022, ['memorable']), (0.0007323516980152219, ['fake']), (0.0007316475698249028, ['accustomed']), (0.0007278279723839481, ['prevalent']), (0.0007270626720530375, ['great']), (0.0007213580454098405, ['thoughtful']), (0.0007203772389085667, ['acute']), (0.0007167099263587819, ['contented']), (0.0007156464952030874, ['detailed']), (0.0007134612052388653, ['dependent']), (0.0007123509252389013, ['judicial']), (0.0007115597128477426, ['constitutional']), (0.0007109658147211397, ['decent']), (0.0007104609018945595, ['virtual']), (0.0007102625235326378, ['unlikely']), (0.0007086324279358342, ['distinct']), (0.0007084619430637394, ['timid']), (0.0007076814675197943, ['graceful']), (0.0007076509130350522, ['moderate']), (0.000701528877457988, ['grumpy']), (0.0006997161770172215, ['natured']), (0.0006989347661912977, ['suspicious']), (0.000697137220228249, ['ultimate']), (0.0006908293932309666, ['amazing']), (0.0006907435757172974, ['tremendous']), (0.0006905105011081041, ['conscious']), (0.0006904250132061752, ['rare']), (0.0006899603009315443, ['vulgar']), (0.000689406340693207, ['absolute']), (0.0006886047677419514, ['interesting']), (0.0006884533560536135, ['snobbish']), (0.0006863011672222299, ['renewed']), (0.0006858139086379072, ['adept']), (0.0006834862837675873, ['additional']), (0.0006813927161169839, ['girly']), (0.0006813169960020602, ['traumatic']), (0.0006787068139027624, ['historical']), (0.0006767850338075914, ['incestuous']), (0.0006767434340710507, ['wise']), (0.0006752127859802331, ['federal']), (0.0006690753469302846, ['devoid']), (0.0006687261664410857, ['intriguing']), (0.0006663945642800825, ['precious']), (0.0006661598562066378, ['entertaining']), (0.000665907529077732, ['sensual']), (0.0006635092276073481, ['investigative']), (0.0006634583365572618, ['dysfunctional']), (0.0006580690089652138, ['pure']), (0.0006573632646053548, ['designated']), (0.0006563783587742947, ['apt']), (0.0006539435860338661, ['ambiguous']), (0.0006534924399182929, ['aloof']), (0.0006523615723310248, ['suave']), (0.0006522313532861482, ['exotic']), (0.0006515628473603201, ['evident']), (0.000648512009068445, ['authentic']), (0.000647382615606931, ['steady']), (0.0006461751418834902, ['uptight']), (0.0006457013947998837, ['enduring']), (0.0006452175850310682, ['cheeky']), (0.0006427130407273886, ['cocky']), (0.0006418363763024602, ['mannered']), (0.0006410857126270585, ['overprotective']), (0.0006409421250057526, ['possessive']), (0.0006408150420069707, ['grateful']), (0.0006398224191053099, ['emotional']), (0.0006370922086092291, ['lyrical']), (0.0006370278470445971, ['sinister']), (0.0006367208167451749, ['hopeful']), (0.0006365530487057043, ['urgent']), (0.0006356358947957112, ['fabulous']), (0.0006347542304660538, ['compassionate']), (0.0006338930944700756, ['humorous']), (0.0006320413714406832, ['volatile']), (0.0006319743505645174, ['homely']), (0.000631338071272772, ['literal']), (0.000627238368602516, ['upcoming']), (0.0006260112123456361, ['wrongful']), (0.0006254861504424567, ['superb']), (0.0006245822817991096, ['obvious']), (0.0006243974301617382, ['biblical']), (0.0006239747041099556, ['entire']), (0.0006227666112203946, ['shrewd']), (0.0006213555033637528, ['subdued']), (0.0006207087005282821, ['peculiar']), (0.0006201368892308988, ['other']), (0.0006191410927836688, ['destitute']), (0.0006183230834121532, ['undiagnosed']), (0.0006171218718537122, ['unfamiliar']), (0.0006169523435498491, ['secretive']), (0.0006163845128632279, ['worst']), (0.0006157014905790143, ['irritating']), (0.0006154086357973374, ['skeptical']), (0.0006149377654930745, ['negligent']), (0.0006125547253900518, ['attempted']), (0.0006100884316156394, ['helpful']), (0.0006080985186263473, ['vivid']), (0.0006079286952787827, ['benign']), (0.000607338432147034, ['partisan']), (0.0006071549543319403, ['courtly']), (0.00060459631703348, ['peaceful']), (0.0006040643571649802, ['haughty']), (0.0006025976092751079, ['divisive']), (0.0006022772433502774, ['menacing']), (0.0006019215567833834, ['psychotic']), (0.0006002760212539207, ['prized']), (0.0006000192902191186, ['desolate']), (0.000599325900327421, ['civilized']), (0.0005983936528361819, ['poetic']), (0.0005981718068019496, ['fearless']), (0.0005975033617754833, ['sensible']), (0.0005950086671566912, ['resentful']), (0.0005946449583074885, ['serious']), (0.0005917644053773604, ['prosperous']), (0.0005903223402899698, ['brilliant']), (0.0005902036494494665, ['magical']), (0.0005902024940027188, ['beloved']), (0.0005901375424276892, ['liable']), (0.0005898758600787321, ['smug']), (0.0005891859246224398, ['satirical']), (0.0005875214320209305, ['suitable']), (0.0005854721643413454, ['murderous']), (0.0005840654535477165, ['obnoxious']), (0.0005838736136430473, ['epic']), (0.0005832224304649594, ['repressed']), (0.0005815958390036021, ['wiser']), (0.0005811361624698161, ['inappropriate']), (0.0005807999308366735, ['racy']), (0.0005799257703186328, ['ancient']), (0.0005790718752760103, ['hapless']), (0.0005767920328045861, ['curious']), (0.0005764153350959009, ['obsessed']), (0.0005756538249461532, ['unacceptable']), (0.0005755669764144145, ['different']), (0.0005724412784367501, ['mild']), (0.0005717838813556554, ['fair']), (0.0005717337901475655, ['neglectful']), (0.0005713136658559546, ['classic']), (0.0005694763885883078, ['incredible']), (0.0005692438413908595, ['flawed']), (0.0005690433490510475, ['lucky']), (0.0005684642292520967, ['impossible']), (0.0005679987225738075, ['edgy']), (0.0005634709826494192, ['delusional']), (0.0005628612745676588, ['alarming']), (0.0005623920483636832, ['primitive']), (0.0005614271166512918, ['moral']), (0.0005607325666064459, ['dull']), (0.0005597995031672092, ['ready']), (0.0005571578264795128, ['eternal']), (0.0005551991406273885, ['unexpected']), (0.0005547555465755406, ['dashing']), (0.0005545297335625012, ['sassy']), (0.0005544874662773775, ['quirky']), (0.0005534089603876949, ['superior']), (0.0005523139601436177, ['comfortable']), (0.0005515799356653522, ['cautious']), (0.0005512439418094296, ['holy']), (0.0005504813949865865, ['stylish']), (0.0005499386083298964, ['candid']), (0.0005497128007773234, ['fearful']), (0.0005491039732452553, ['delicate']), (0.0005490919580148231, ['insensitive']), (0.000547157896509994, ['lively']), (0.0005461632317323889, ['stunning']), (0.0005457667296319863, ['watchful']), (0.0005452247206432616, ['corrupt']), (0.0005442076160777043, ['quaint']), (0.0005440544951962343, ['unclear']), (0.0005433942524598075, ['severe']), (0.0005425948015124224, ['indulgent']), (0.0005383833869205423, ['unfinished']), (0.0005371291200972925, ['wonderful']), (0.0005366211242314756, ['believable']), (0.0005357802915306874, ['elegant']), (0.0005352617186188194, ['unsolved']), (0.0005343827892989239, ['medieval']), (0.0005343107457902213, ['jealous']), (0.0005334304565565191, ['paranoid']), (0.0005321739911535895, ['powerless']), (0.00053189859824678, ['pushy']), (0.0005280307342773147, ['intentional']), (0.0005274772412879697, ['crotchety']), (0.0005259083426666595, ['synonymous']), (0.0005256890191511997, ['frantic']), (0.0005252593240667654, ['surreal']), (0.0005251517972713731, ['debilitating']), (0.0005243319486177031, ['innocent']), (0.0005242807750401662, ['profound']), (0.0005239275549591062, ['persistent']), (0.0005199772834326035, ['nervous']), (0.0005177647434947845, ['chaotic']), (0.000517734691238234, ['elusive']), (0.0005170123456143813, ['carefree']), (0.0005166098715513544, ['sincere']), (0.0005153090566209868, ['soulful']), (0.0005130091287077911, ['naive']), (0.0005120841188785361, ['clever']), (0.0005085204113669747, ['proper']), (0.000507642676649063, ['thriving']), (0.0005068562948646751, ['incompetent']), (0.0005058623096617363, ['proverbial']), (0.0005055776045910002, ['provocative']), (0.0005054698841182607, ['guilty']), (0.0005038104099647006, ['cheap']), (0.0005027702946064837, ['reckless']), (0.0005001952637507902, ['cheerful']), (0.000499815574448821, ['sly']), (0.0004980551101352901, ['journalistic']), (0.0004957504594401516, ['enchanted']), (0.0004947885511252926, ['complicated']), (0.000493748553862382, ['akin']), (0.0004936430136423448, ['unheard']), (0.0004930146985289722, ['disoriented']), (0.0004929407526169195, ['stressful']), (0.0004916495806414652, ['captivating']), (0.0004907263854211499, ['preppy']), (0.0004905055526240232, ['troublesome']), (0.0004903799461148654, ['solemn']), (0.0004899522922743733, ['gruff']), (0.0004880587152754257, ['agonizing']), (0.00048760600512933697, ['harsh']), (0.0004864399584851561, ['vengeful']), (0.0004847881367492795, ['bogus']), (0.00048419011982163684, ['outraged']), (0.00048383637389245337, ['joyful']), (0.00048309611800896786, ['satisfied']), (0.0004830931661346152, ['lingering']), (0.00048258192691844455, ['diplomatic']), (0.0004815583213204647, ['inevitable']), (0.0004806979308686138, ['timeless']), (0.00047979093817565545, ['boring']), (0.00047909343775420315, ['apparent']), (0.0004779856978343511, ['various']), (0.00047749348725164735, ['forceful']), (0.00047694952433453597, ['aware']), (0.0004753287173252866, ['harmless']), (0.00047430043196058154, ['worldly']), (0.00047360323618981436, ['arrogant']), (0.00047112095572882963, ['unexplained']), (0.00046845599274156566, ['discreet']), (0.000468052962824587, ['petty']), (0.000466813554596531, ['dangerous']), (0.0004662391948531861, ['quintessential']), (0.00046426211375206843, ['ambivalent']), (0.0004641983513518473, ['clueless']), (0.00046209466563900916, ['blessed']), (0.0004606210023685878, ['penniless']), (0.0004602594700629075, ['silly']), (0.00046023736017299023, ['optimistic']), (0.00046010118390590036, ['superficial']), (0.0004599153408991779, ['glorious']), (0.0004595740228319403, ['brief']), (0.0004594323707192942, ['amused']), (0.0004576242499081768, ['mysterious']), (0.0004568733628530268, ['gorgeous']), (0.00045611594988008425, ['relentless']), (0.000455557300502715, ['everyday']), (0.00045550432548205816, ['convincing']), (0.0004540901296868978, ['chic']), (0.0004534348408939478, ['seductive']), (0.0004530274286530841, ['unrequited']), (0.0004517028994322371, ['ruthless']), (0.0004516040468461574, ['easygoing']), (0.0004513373968341818, ['familiar']), (0.0004504211641334506, ['troubled']), (0.00044938345785671286, ['vindictive']), (0.00044909366423007537, ['obsessive']), (0.0004485356181018796, ['somber']), (0.000447987385105448, ['sarcastic']), (0.0004461059330059275, ['irresistible']), (0.0004459680346387569, ['frightened']), (0.00044546797154248986, ['busy']), (0.00044450376759687, ['stoic']), (0.00044349481795547007, ['cranky']), (0.0004432173934685749, ['tense']), (0.00044294007002493904, ['indifferent']), (0.0004422987550960668, ['workaholic']), (0.0004408505206887647, ['exquisite']), (0.00044031993294385037, ['happier']), (0.000439780513611997, ['useless']), (0.00043900478794758115, ['awesome']), (0.0004358827341248296, ['miraculous']), (0.00043552239693804833, ['supreme']), (0.000434761360423211, ['neat']), (0.0004337700712848514, ['notorious']), (0.0004333296572978365, ['difficult']), (0.00043319825640001784, ['trendy']), (0.00042895137818931505, ['unsafe']), (0.00042894823272857487, ['pensive']), (0.000428147878998266, ['invincible']), (0.00042775037993572477, ['unhappy']), (0.0004274411671726298, ['dreaded']), (0.00042412520357280035, ['unsure']), (0.0004234896834475901, ['fortunate']), (0.00042209639081471, ['insulting']), (0.0004179813279665182, ['callous']), (0.0004178033235344061, ['overbearing']), (0.0004176273507859705, ['spirited']), (0.0004174759050306955, ['vicious']), (0.00041315346230680556, ['impatient']), (0.000411293980775159, ['worried']), (0.00041104467124497026, ['careful']), (0.0004079480995313903, ['confidential']), (0.0004075943767964921, ['irresponsible']), (0.0004051666744859795, ['unforgettable']), (0.0004018357904026621, ['unfit']), (0.0004016902871649518, ['tricky']), (0.000400485673713845, ['depressed']), (0.0004004129094547986, ['devastating']), (0.00040038838235082543, ['fashioned']), (0.00039978699497398966, ['serene']), (0.0003991692239430935, ['confusing']), (0.00039906357543507514, ['straightforward']), (0.00039809381283539103, ['easy']), (0.000397861421380452, ['pleasant']), (0.0003966619547856316, ['perpetual']), (0.00039632882690370625, ['worrying']), (0.0003957869655778297, ['cynical']), (0.0003956329819117138, ['insecure']), (0.0003939878765362814, ['fashionable']), (0.00039355658904121005, ['stricken']), (0.0003931226596262271, ['sensuous']), (0.0003925069891956159, ['triumphant']), (0.00039100533629238813, ['foul']), (0.00039070214476602744, ['amusing']), (0.0003900632400408888, ['bland']), (0.00038712695080169655, ['grueling']), (0.0003859748112186967, ['despondent']), (0.00038550058655954106, ['mournful']), (0.00038524750330814773, ['outrageous']), (0.0003848674826113688, ['frightening']), (0.0003840886598473308, ['longstanding']), (0.0003822695593858211, ['lousy']), (0.00038140312038674966, ['false']), (0.0003809537960795345, ['irrelevant']), (0.00038021403731905234, ['wry']), (0.0003799624929026031, ['defiant']), (0.0003765036490963811, ['classy']), (0.0003759953045427125, ['eloquent']), (0.00037570923623753475, ['errant']), (0.00037538520470362216, ['ecstatic']), (0.0003749344416968769, ['sultry']), (0.00037490405448851517, ['brutal']), (0.00037411355585517507, ['pleased']), (0.00037138006141862316, ['humiliating']), (0.00037135625342868, ['famed']), (0.00037070411747173614, ['polite']), (0.00037006599161592825, ['creepy']), (0.0003699508717792069, ['ignorant']), (0.0003688886701553256, ['furious']), (0.0003681763809822291, ['awkward']), (0.0003670812008933484, ['impeccable']), (0.0003668292983553503, ['nasty']), (0.00036669718709635255, ['grim']), (0.0003663802197715346, ['fascinating']), (0.00036550624681442646, ['anguished']), (0.00036204735086233446, ['unpleasant']), (0.00036155751615577777, ['stubborn']), (0.0003606139180755638, ['gracious']), (0.0003600542726658444, ['prim']), (0.0003584684641426485, ['dreamy']), (0.00035792567732301027, ['reclusive']), (0.0003565884566916959, ['sleazy']), (0.0003564997772867706, ['unhurt']), (0.0003547529994182595, ['sure']), (0.0003542594796054473, ['frustrating']), (0.0003536275097556386, ['forlorn']), (0.000349965690489949, ['infamous']), (0.0003488907130426116, ['smaller']), (0.00034719221051488115, ['dumb']), (0.0003468591383593695, ['anxious']), (0.00034658390038996444, ['disappointed']), (0.0003452204305714431, ['idyllic']), (0.00034455546862886143, ['shameful']), (0.0003439885423900286, ['naughty']), (0.0003424873741568064, ['disgusting']), (0.000341817249324058, ['delicious']), (0.00033819933484111476, ['sane']), (0.00033599957890569044, ['unlucky']), (0.00033466656331538935, ['plain']), (0.0003338217878988961, ['hopeless']), (0.0003330718583373259, ['accidental']), (0.00033191015662295103, ['grand']), (0.0003314416884867181, ['oblivious']), (0.00033117683808648734, ['bizarre']), (0.0003305832717362648, ['desperate']), (0.00032959795621565423, ['pathetic']), (0.0003290396745936484, ['weird']), (0.0003283038584261554, ['delightful']), (0.0003279000955502752, ['vague']), (0.00032739628068971706, ['disgusted']), (0.00032731816143337394, ['sensational']), (0.00032531271859221966, ['absurd']), (0.0003248770277698844, ['nostalgic']), (0.0003247108531638937, ['uncomfortable']), (0.00032426510383131997, ['unnoticed']), (0.00032423861302996064, ['annoying']), (0.0003235894528745067, ['disturbing']), (0.00032335586227770393, ['unbelievable']), (0.00032278349148210305, ['happiest']), (0.00031914485116736325, ['phony']), (0.0003179323445115868, ['awful']), (0.0003162416950438111, ['nice']), (0.0003153826213888144, ['exasperated']), (0.0003106893320193585, ['astonished']), (0.0003098708113251165, ['embarrassing']), (0.0003085396661839298, ['crazy']), (0.0003084884121942575, ['worse']), (0.00030710266484594166, ['pained']), (0.0003068847051691178, ['posh']), (0.0003056804546537047, ['unaware']), (0.00030432465109070383, ['foolish']), (0.0003029631515421867, ['uneasy']), (0.00030029276085389136, ['thankful']), (0.00029611991176844873, ['macabre']), (0.00029458128220003675, ['dignified']), (0.0002924107373068548, ['heartfelt']), (0.0002923261714077596, ['melancholy']), (0.0002906623746066043, ['bored']), (0.0002873492853577092, ['careless']), (0.00028513734901985184, ['bad']), (0.00028291599469001645, ['sorrowful']), (0.000281967216667434, ['sentimental']), (0.0002795983855566074, ['ridiculous']), (0.00027922042836766344, ['immaculate']), (0.00027564190676542455, ['wistful']), (0.0002751252992942784, ['insane']), (0.00027510286834926635, ['lovely']), (0.0002740014866225032, ['appalled']), (0.000272433208642796, ['earnest']), (0.0002722941036828695, ['amazed']), (0.0002717873014260009, ['beautiful']), (0.00027134067988013143, ['honest']), (0.0002683784593731106, ['fated']), (0.0002676770230600582, ['hilarious']), (0.00026667160012783676, ['helpless']), (0.000266528840156641, ['bewildered']), (0.00026447762442136536, ['scandalous']), (0.0002637050244024578, ['stupid']), (0.00026222425986921114, ['miserable']), (0.0002588645600398389, ['unassuming']), (0.0002583894764690458, ['horrible']), (0.00025462198892935845, ['puzzled']), (0.0002536154357085255, ['ironic']), (0.00025296317129708143, ['terrifying']), (0.00025133177866302396, ['poignant']), (0.00024938148158610397, ['damn']), (0.0002493198854102092, ['heartbroken']), (0.0002478468196371886, ['unfortunate']), (0.00024767019201660755, ['speechless']), (0.00024573616217496143, ['shocking']), (0.0002449535381808006, ['cruel']), (0.00024117139594753568, ['nagging']), (0.00024110584027084073, ['wrong']), (0.00023940619722528258, ['strange']), (0.00023063363064182928, ['wicked']), (0.00022774036317153675, ['unpretentious']), (0.00022578075479300622, ['comforting']), (0.0002218882158802307, ['fond']), (0.00022023194199019582, ['charming']), (0.00019704855892303428, ['humble']), (0.00019631219374618733, ['distraught']), (0.0001877750373730369, ['embarrassed']), (0.00018029100199189616, ['lonely']), (0.00018016792179593696, ['tragic']), (0.00017234890914145535, ['unconscious']), (0.00017051740750234672, ['harrowing']), (0.0001616853442165133, ['terrible']), (0.00015953184914859015, ['sorry']), (0.00015650049279537963, ['ashamed']), (0.0001453517415347653, ['glad'])]\n"
     ]
    }
   ],
   "source": [
    "raw_output = pragmatic_model.L1(u=1)\n",
    "print(\"baseline\",projections[:10])\n",
    "print(sorted(list(zip(np.exp(raw_output),projections)),key=lambda x: x[0],reverse=True))\n"
   ]
  },
  {
   "cell_type": "markdown",
   "metadata": {
    "colab_type": "text",
    "id": "OSkQjO-A40K8"
   },
   "source": []
  }
 ],
 "metadata": {
  "colab": {
   "collapsed_sections": [],
   "name": "vector_space_pragmatics.ipynb",
   "provenance": [],
   "version": "0.3.2"
  },
  "kernelspec": {
   "display_name": "Python 3",
   "language": "python",
   "name": "python3"
  },
  "language_info": {
   "codemirror_mode": {
    "name": "ipython",
    "version": 3
   },
   "file_extension": ".py",
   "mimetype": "text/x-python",
   "name": "python",
   "nbconvert_exporter": "python",
   "pygments_lexer": "ipython3",
   "version": "3.6.8"
  }
 },
 "nbformat": 4,
 "nbformat_minor": 1
}
